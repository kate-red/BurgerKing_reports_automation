{
 "cells": [
  {
   "cell_type": "code",
   "execution_count": 1,
   "metadata": {},
   "outputs": [],
   "source": [
    "import pandas as pd\n",
    "import os\n",
    "import datetime as dt\n",
    "import re\n",
    "import xlsxwriter\n",
    "import matplotlib.pyplot as plt\n",
    "import numpy as np\n",
    "import plotly.graph_objects as go\n",
    "import seaborn as sns"
   ]
  },
  {
   "cell_type": "code",
   "execution_count": 4,
   "metadata": {},
   "outputs": [],
   "source": [
    "class OrisReport():\n",
    "    def __init__(self, oris_mmo_path, oris_regions_path):\n",
    "        self.oris_mmo_path = oris_mmo_path\n",
    "        self.oris_regions_path = oris_regions_path\n",
    "        self.oris_merged = self.merge_tables()\n",
    "        self.last_week = self.get_week()\n",
    "        self.oris_filtered = self.oris_filter()\n",
    "        self.pivot_table = self.oris_filtered.groupby(['Ресторан']).aggregate('ФИО пациента').count()\n",
    "        self.save_excel_file()\n",
    "    \n",
    "    def merge_tables(self):\n",
    "        oris_mmo = pd.read_csv(self.oris_mmo_path, sep=';')\n",
    "        oris_regions = pd.read_csv(self.oris_regions_path, sep=';')\n",
    "        oris = pd.concat([oris_mmo, oris_regions])\n",
    "        print(\"2 tables were merged\")\n",
    "        return oris\n",
    "    \n",
    "    def get_week(self):\n",
    "        '''\n",
    "        Возвращает список дат предыдущей недели\n",
    "        '''\n",
    "        today = dt.date.today()\n",
    "        last_monday = today - dt.timedelta(days=today.weekday())\n",
    "        date_start = last_monday - dt.timedelta(days=7)\n",
    "        week = pd.date_range(date_start, periods=7, freq=\"D\")\n",
    "        print(f\"Perioud from {week[0]} to {week[-1]} is observed\")\n",
    "        return week\n",
    "\n",
    "    def oris_filter(self):\n",
    "    #     Добавляем новый столбец с номером ресторана\n",
    "        self.oris_merged[\"Ресторан\"] = self.oris_merged['Номер ресторана'].str[0:4]\n",
    "    #     Оставляем только нужные столбцы\n",
    "        self.oris_merged = self.oris_merged[[\"Ресторан\", 'Дата прохождения МО в клинике', 'ФИО пациента', 'Тип осмотра', 'Должность', \"Телефон\", 'Номер ресторана']]\n",
    "    #     Оставляем в таблице только новых сотрудников и нужные нам должности\n",
    "        position = ['кассир', 'повар', 'член бригады ресторана ', 'тренер',\n",
    "                'Помощник члена бригады ресторана', 'Уборщик (дневное время)', 'курьер']\n",
    "        self.oris_merged = self.oris_merged[self.oris_merged['Должность'].isin(position)]\n",
    "        self.oris_merged = self.oris_merged[self.oris_merged['Тип осмотра'] == 'Новый сотрудник']\n",
    "    # Фильтруем данные по дате    \n",
    "        self.oris_merged['Дата прохождения МО в клинике'] = pd.to_datetime(self.oris_merged['Дата прохождения МО в клинике'], dayfirst=True)\n",
    "        pass_mo = self.oris_merged[self.oris_merged['Дата прохождения МО в клинике'].isin(self.last_week)]\n",
    "        not_pass_mo = self.oris_merged[self.oris_merged['Дата прохождения МО в клинике'].isnull()]\n",
    "        sent_to_mo = pd.concat([pass_mo, not_pass_mo])\n",
    "        print(\"Filter applied\")\n",
    "        return sent_to_mo\n",
    "        \n",
    "    def get_file_name(self):\n",
    "        \"\"\"\n",
    "        Добавляет к имени файла исследуемый период\n",
    "        \"\"\"\n",
    "        return f\"ОРИС общий {self.last_week[0].day}.{self.last_week[0].month}-{self.last_week[-1].day}.{self.last_week[-1].month}.xlsx\"\n",
    "    \n",
    "        \n",
    "    def save_excel_file(self):\n",
    "        \"\"\"\n",
    "        Сохраняет таблицы в Excel файл на разные листы\n",
    "        \"\"\"\n",
    "        file_name = self.get_file_name()\n",
    "        with pd.ExcelWriter(file_name, \n",
    "                            engine='xlsxwriter',\n",
    "                            datetime_format='dd.mm.yyyy') as writer:\n",
    "            self.oris_filtered.to_excel(writer, sheet_name='Данные', index=False)\n",
    "            self.pivot_table.to_excel(writer, sheet_name='Сводная')\n",
    "            print(f\"Excel file {file_name} was created\")"
   ]
  },
  {
   "cell_type": "code",
   "execution_count": 5,
   "metadata": {},
   "outputs": [
    {
     "name": "stdout",
     "output_type": "stream",
     "text": [
      "2 tables were merged\n",
      "Perioud from 2020-12-14 00:00:00 to 2020-12-20 00:00:00 is observed\n",
      "Filter applied\n",
      "Excel file ОРИС общий 14.12-20.12.xlsx was created\n"
     ]
    }
   ],
   "source": [
    "report = OrisReport('ОРИС_ММО 14-20.csv', 'ОРИС Рег 14-20.csv')"
   ]
  }
 ],
 "metadata": {
  "kernelspec": {
   "display_name": "Python 3",
   "language": "python",
   "name": "python3"
  },
  "language_info": {
   "codemirror_mode": {
    "name": "ipython",
    "version": 3
   },
   "file_extension": ".py",
   "mimetype": "text/x-python",
   "name": "python",
   "nbconvert_exporter": "python",
   "pygments_lexer": "ipython3",
   "version": "3.8.3"
  }
 },
 "nbformat": 4,
 "nbformat_minor": 4
}
