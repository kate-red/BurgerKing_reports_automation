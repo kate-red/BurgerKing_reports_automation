{
 "cells": [
  {
   "cell_type": "code",
   "execution_count": 8,
   "metadata": {},
   "outputs": [],
   "source": [
    "import pandas as pd\n",
    "import os\n",
    "import datetime as dt\n",
    "import re\n",
    "import xlsxwriter"
   ]
  },
  {
   "cell_type": "code",
   "execution_count": 9,
   "metadata": {},
   "outputs": [],
   "source": [
    "class AkkrualTable():\n",
    "    def __init__(self, path, sheet_name, month, year):\n",
    "        \"\"\"\n",
    "        path - путь до файла и его имя\n",
    "        sheet_name - название листа в Excel\n",
    "        month - месяц (число от 0 до 11)\n",
    "        year - год (число от 2014 до 2050)\n",
    "        \"\"\"\n",
    "        if not (0 < month <= 12 and 1960 <= year <= 2050):\n",
    "            raise ValueError(\"Month or year is incorrect\")\n",
    "        self.path = path\n",
    "        self.sheet_name = sheet_name\n",
    "        self.month = month\n",
    "        self.year = year\n",
    "        self.final_table = self.start_functions()\n",
    "        \n",
    "    \n",
    "    def start_functions(self):\n",
    "        \"\"\"\n",
    "        Запускает работу функций для создания итоговой таблицы\n",
    "        \"\"\"\n",
    "        self.raw_df = self.load_excel()\n",
    "        self.df = self.get_month_df()\n",
    "        self.df = self.calculate_without_nds()\n",
    "        self.df = self.get_table_format()\n",
    "        self.save_excel_file()\n",
    "    \n",
    "    \n",
    "    def load_excel(self):\n",
    "        \"\"\"\n",
    "        Загружает данные из Excel файла\n",
    "        \"\"\"\n",
    "        excel_file = pd.ExcelFile(self.path)\n",
    "        table = excel_file.parse(self.sheet_name)\n",
    "        print(f\"Loaded excel: {self.path}, {self.sheet_name}\")\n",
    "        return table\n",
    "    \n",
    "    def get_month_df(self):\n",
    "        \"\"\"\n",
    "        Выбирает данные только за нужный месяц\n",
    "        \"\"\"\n",
    "        mask = (self.raw_df['Дата заявки'].dt.month == self.month) & (self.raw_df['Дата заявки'].dt.year == self.year)\n",
    "        print(f\"Information for: {self.month}.{self.year} has been loaded\")\n",
    "        return self.raw_df[mask].copy()\n",
    "    \n",
    "    def calculate_without_nds(self):\n",
    "        \"\"\"\n",
    "        Рассчитывает столбец \"Без НДС\", если в сумму НДС не включен, значение остается прежним\n",
    "        \"\"\"\n",
    "        self.df['with_nds'] = ~self.df['Назначение платежа'].str.lower().str.contains(\"без ндс\")\n",
    "        self.df['Без НДС'] = self.df['Сумма заявки']\n",
    "        self.df.loc[self.df['with_nds'], 'Без НДС'] = round(self.df['Без НДС'] / 1.2, 2)\n",
    "        print(\"Column Sum without NDS was added\")\n",
    "        return self.df\n",
    "    \n",
    "    def get_table_format(self):\n",
    "        \"\"\"\n",
    "        Добавляет недостающие колонки, присваевает им нужные названия и возвращает таблицу \n",
    "        в правильном формате\n",
    "        \"\"\"\n",
    "        self.df['Аккруал'] = 'Да'\n",
    "        self.df['Юр. лицо'] = ''\n",
    "        self.df['Код номенклатуры'] = 'УслА013'\n",
    "        self.df['Валюта'] = 'RUB'\n",
    "        self.df['Период'] = self.df['Дата заявки'].dt.strftime(\"%m.%Y\")\n",
    "        \n",
    "        table_raw = self.df[['Аккруал', 'ЦФО', 'Юр. лицо', 'Вид ДДС', 'Статья ДиР', \n",
    "                             'Код номенклатуры', 'Счет', 'Код договора', 'Без НДС', \n",
    "                             'Валюта заявки', 'Валюта', 'Код подразделения', 'Дата заявки', 'Период']]\n",
    "        \n",
    "        table_raw = table_raw.rename(columns={'Вид ДДС': 'Наименование статьи ДиР', \n",
    "                                              'Статья ДиР': 'Код статьи ДиР', 'Счет': 'Контрагент',\n",
    "                                              'Без НДС': 'Сумма начисления в рублях (Валютные суммы пересчитывать по курсу на 01 число отчетного месяца)',\n",
    "                                              'Валюта заявки': 'Валюта суммы начисления', 'Дата заявки': 'Дата'})\n",
    "        print('Your table is ready!')\n",
    "        return table_raw\n",
    "    \n",
    "    def get_file_name(self):\n",
    "        \"\"\"\n",
    "        Добавляет к имени файла месяц и год\n",
    "        \"\"\"\n",
    "        return self.df['Дата'].iloc[0].strftime(\"%Y.%m\") + \"_HO.HR_BGK.xlsx\"\n",
    "    \n",
    "    def save_excel_file(self):\n",
    "        \"\"\"\n",
    "        Сохраняет таблицу в Excel файл\n",
    "        \"\"\"\n",
    "        file_name = self.get_file_name()\n",
    "        with pd.ExcelWriter(file_name, \n",
    "                            engine='xlsxwriter',\n",
    "                            datetime_format='dd.mm.yyyy') as writer:\n",
    "            self.df.to_excel(writer, index=False)\n",
    "            print(f\"Excel file {file_name} was created\")"
   ]
  },
  {
   "cell_type": "code",
   "execution_count": 11,
   "metadata": {
    "scrolled": true
   },
   "outputs": [
    {
     "name": "stdout",
     "output_type": "stream",
     "text": [
      "Loaded excel: Data_akkrual_2014-2020.xlsx, Sheet1\n",
      "Information for: 11.2020 has been loaded\n",
      "Column Sum without NDS was added\n",
      "Your table is ready!\n",
      "Excel file 2020.11_HO.HR_BGK.xlsx was created\n"
     ]
    }
   ],
   "source": [
    "table = AkkrualTable(\"Data_akkrual_2014-2020.xlsx\", \"Sheet1\", 11, 2020)"
   ]
  }
 ],
 "metadata": {
  "kernelspec": {
   "display_name": "Python 3",
   "language": "python",
   "name": "python3"
  },
  "language_info": {
   "codemirror_mode": {
    "name": "ipython",
    "version": 3
   },
   "file_extension": ".py",
   "mimetype": "text/x-python",
   "name": "python",
   "nbconvert_exporter": "python",
   "pygments_lexer": "ipython3",
   "version": "3.8.3"
  }
 },
 "nbformat": 4,
 "nbformat_minor": 4
}
