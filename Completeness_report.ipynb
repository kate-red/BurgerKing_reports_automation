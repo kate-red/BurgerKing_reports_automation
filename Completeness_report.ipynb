{
 "cells": [
  {
   "cell_type": "code",
   "execution_count": 4,
   "metadata": {},
   "outputs": [],
   "source": [
    "import pandas as pd\n",
    "import os\n",
    "import datetime as dt\n",
    "import re\n",
    "import xlsxwriter\n",
    "import matplotlib.pyplot as plt\n",
    "import numpy as np\n",
    "import plotly.graph_objects as go\n",
    "import seaborn as sns"
   ]
  },
  {
   "cell_type": "code",
   "execution_count": 11,
   "metadata": {},
   "outputs": [],
   "source": [
    "class CompletenessReport():\n",
    "    \"\"\"\n",
    "    Класс загружает отчет по комплектности сотрудников, отбирает данные, относящиеся к масс подбору \n",
    "    (Тренер + Член бригады ресторана), складывает значения плановых и фактических часов\n",
    "    \"\"\"\n",
    "    def __init__(self, completeness_report_path, sheet_name):\n",
    "        self.completeness_report_path = completeness_report_path\n",
    "        self.sheet_name = sheet_name\n",
    "        self.completeness_report = self.get_file()\n",
    "        self.filtered_completeness_report = self.data_filter()\n",
    "        \n",
    "    def get_file(self):\n",
    "        completeness = pd.ExcelFile(self.completeness_report_path, engine='openpyxl')\n",
    "        report = completeness.parse(self.sheet_name, skiprows=1, engine='openpyxl')\n",
    "        print(\"File reached sucessfully\")\n",
    "        print(\"Columns: \\n\", report.columns)\n",
    "        return report\n",
    "    \n",
    "    def data_filter(self):\n",
    "        self.completeness_report['Код ресторана'] = self.completeness_report['Подразделение'].map(lambda x: str(x)[0:4]) \n",
    "        self.completeness_report['План Тренер и ЧБР'] = self.completeness_report['План.2'] + self.completeness_report['План.3']\n",
    "        self.completeness_report['Факт Тренер и ЧБР по кадровому'] = self.completeness_report['Факт работающих по кадровому.2'] + self.completeness_report['Факт работающих по кадровому.3']\n",
    "        filtered_report = self.completeness_report[['Код ресторана', 'Территориальный управляющий', 'План Тренер и ЧБР', 'Факт Тренер и ЧБР по кадровому']]\n",
    "        print(\"Filter applied\")\n",
    "        return filtered_report\n",
    "    \n",
    "    def save_to_excel(self):\n",
    "        date = dt.date.today()\n",
    "        file_name = f\"План-Факт ЧБР и ТР {date}.xlsx\"\n",
    "        with pd.ExcelWriter(file_name, engine='xlsxwriter', datetime_format='dd.mm.yyyy') as writer:\n",
    "            self.filtered_completeness_report.to_excel(writer, index=False)\n",
    "            print(f\"Excel file {file_name} was created\")\n",
    "    "
   ]
  },
  {
   "cell_type": "code",
   "execution_count": 6,
   "metadata": {},
   "outputs": [
    {
     "name": "stdout",
     "output_type": "stream",
     "text": [
      "File reached sucessfully\n",
      "Columns: \n",
      " Index(['Исполнительный директор', 'Операционный регион',\n",
      "       'Территориальный управляющий', 'Подразделение', 'Группа ресторана',\n",
      "       'Формат ресторана', 'Часы ЧБР', 'Часы АУП', 'Часы ТН', 'Часы ЧБ+ТН',\n",
      "       'План часов декабрь (из модели LC)', 'План', 'Факт оформленных',\n",
      "       'Факт работающих по кадровому', 'Факт работающих по табельному',\n",
      "       'Комплектность оформленных', 'Комплектность работающих по табельному',\n",
      "       'Комплектность работающих по кадровому', 'План.1',\n",
      "       'Факт работающих по кадровому.1', 'Факт работающих по табельному.1',\n",
      "       'Комплектность по табельному', 'Комплектность по кадровому', 'План.2',\n",
      "       'Факт', 'Факт оформленных только сертифицированных',\n",
      "       'Факт работающих по кадровому.2',\n",
      "       'Факт работающих только сертифицированных по кадровому',\n",
      "       'Факт работающих по табельному.2',\n",
      "       'Факт работающих только сертифицированных по табельному',\n",
      "       'Факт отсутствующих', 'Факт принятых неработающих',\n",
      "       'Факт принятых месяц', 'Комплектность оформленных.1',\n",
      "       'Комплектность оформленных только сертифицированных',\n",
      "       'Комплектность работающих по табельному.1',\n",
      "       'Комплектность работающих только сертифицированных по табельному',\n",
      "       'Комплектность работающих по табельному+отсутств.',\n",
      "       'Комплектность работающих по табельному+отсутств.+принятые',\n",
      "       'Комплектность работающих по кадровому.1',\n",
      "       'Комплектность работающих только сертифицированных по кадровому',\n",
      "       'Комплектность работающих по кадровому+отсутств.',\n",
      "       'Комплектность работающих по кадровому+отсутств.+принятые', 'план',\n",
      "       'факт рарб', 'отст', 'прин', 'План.3', 'Факт оформленных.1',\n",
      "       'Факт работающих по кадровому.3', 'Факт работающих по табельному.3',\n",
      "       'Факт отсутствующих.1', 'Факт принятых неработающие',\n",
      "       ' Факт принятых (месяц)', 'Комплектность оформленных.2',\n",
      "       'Комплектность работающих по табельному.2',\n",
      "       'Комплектность работающих по табельному+отсутств..1',\n",
      "       'Комплектность работающих по табельному+отсутств.+принятые.1',\n",
      "       'Комплектность работающих по кадровому.2',\n",
      "       'Комплектность работающих по кадровому+отсутств..1',\n",
      "       'Комплектность работающих по кадровому+отсутств.+принятые.1'],\n",
      "      dtype='object')\n",
      "Filter applied\n"
     ]
    }
   ],
   "source": [
    "report = CompletenessReport(\"2020-12-28 Отчет по комплектности работников.xlsx\", \"Рестораны\")"
   ]
  },
  {
   "cell_type": "code",
   "execution_count": 10,
   "metadata": {},
   "outputs": [],
   "source": [
    "# report.filtered_completeness_report"
   ]
  },
  {
   "cell_type": "code",
   "execution_count": 8,
   "metadata": {},
   "outputs": [
    {
     "name": "stdout",
     "output_type": "stream",
     "text": [
      "Excel file План-Факт ЧБР и ТР 2020-12-30.xlsx was created\n"
     ]
    }
   ],
   "source": [
    "report.save_to_excel()"
   ]
  },
  {
   "cell_type": "code",
   "execution_count": 54,
   "metadata": {},
   "outputs": [],
   "source": [
    "# completeness_report[['Подразделение', 'Территориальный управляющий', 'План.2', 'Факт работающих по кадровому.2', 'План.3', 'Факт работающих по кадровому.3']]"
   ]
  }
 ],
 "metadata": {
  "kernelspec": {
   "display_name": "Python 3",
   "language": "python",
   "name": "python3"
  },
  "language_info": {
   "codemirror_mode": {
    "name": "ipython",
    "version": 3
   },
   "file_extension": ".py",
   "mimetype": "text/x-python",
   "name": "python",
   "nbconvert_exporter": "python",
   "pygments_lexer": "ipython3",
   "version": "3.8.5"
  }
 },
 "nbformat": 4,
 "nbformat_minor": 4
}
