{
 "cells": [
  {
   "cell_type": "code",
   "execution_count": 12,
   "metadata": {},
   "outputs": [],
   "source": [
    "import pandas as pd\n",
    "import os\n",
    "import datetime as dt\n",
    "import re\n",
    "import xlsxwriter\n",
    "import matplotlib.pyplot as plt\n",
    "import numpy as np\n",
    "import plotly.graph_objects as go\n",
    "import seaborn as sns\n",
    "import plotly.express as px"
   ]
  },
  {
   "cell_type": "code",
   "execution_count": 13,
   "metadata": {},
   "outputs": [],
   "source": [
    "# Загружаем предобработанный отчет (из OP_report)\n",
    "op_report = pd.read_excel('Сводная направленные от ОП 4.1.2021-10.1.2021.xlsx', \n",
    "                          sheet_name=\"Данные\", \n",
    "                          engine='openpyxl',\n",
    "                          keep_default_na=True, \n",
    "                          convert_float=True, \n",
    "                          dtype={\"Ресторан № (собеседование)\": str, \"Ресторан № (работа)\": str,\n",
    "                                 \"ТелефонвформатеОРИС\": str}, na_values=[pd.NaT])"
   ]
  },
  {
   "cell_type": "code",
   "execution_count": 14,
   "metadata": {},
   "outputs": [
    {
     "data": {
      "text/plain": [
       "Index(['Рекрутер', 'ФИО', 'ТелефонвформатеОРИС', 'Возраст', 'Гражданство',\n",
       "       'Источник', 'Телефонное интервью (число)', 'Ресторан № (собеседование)',\n",
       "       'Ресторан № (работа)', 'Дата собеседования', 'Unnamed: 10',\n",
       "       'Дошёл/Не дошёл ДА/НЕТ', 'Обратная связь от ресторана',\n",
       "       'Направление в ОРИС ДА/НЕТ', 'Обратная связь от кандидата',\n",
       "       'Направлен на оформление ДА/НЕТ', 'Оформился ДА/НЕТ',\n",
       "       'Прошел МО ДА/НЕТ', 'Вышел в ресторан', 'Смена 4 чаcа ДА/НЕТ',\n",
       "       'Дата  1 смены ', 'код ресторана', 'Дивизион', 'регион', 'город'],\n",
       "      dtype='object')"
      ]
     },
     "execution_count": 14,
     "metadata": {},
     "output_type": "execute_result"
    }
   ],
   "source": [
    "op_report.columns"
   ]
  },
  {
   "cell_type": "code",
   "execution_count": 15,
   "metadata": {},
   "outputs": [],
   "source": [
    "def add_status_columns(op_report):\n",
    "    '''\n",
    "    Проставляет статусы для направленных кандидатов на основе информации, заполненной рекруторами\n",
    "    '''\n",
    "    op_report[\"Отработал 1-ю смену\"] = (~op_report['Дата  1 смены '].isna())\n",
    "    op_report[\"На оформлении\"] = ((op_report['Направлен на оформление ДА/НЕТ'] == 'ДА') | \\\n",
    "                                  ((op_report['Обратная связь от ресторана'].str.contains(\"отправлен на оформление\")))) & \\\n",
    "                                    (op_report['Дошёл/Не дошёл ДА/НЕТ'] != \"нет\") \\\n",
    "                                    & (op_report['Направлен на оформление ДА/НЕТ'] != \"НЕТ\") \\\n",
    "                                    & (op_report['Оформился ДА/НЕТ'] != \"НЕТ\") & (op_report['Прошел МО ДА/НЕТ'] != \"нет\") \\\n",
    "                                    & (op_report['Вышел в ресторан'] != \"НЕТ\") & (~op_report[\"Отработал 1-ю смену\"])\n",
    "    op_report[\"Отказ по любым причинам\"] = (op_report['Направлен на оформление ДА/НЕТ'] == 'НЕТ') | \\\n",
    "                                            (op_report['Оформился ДА/НЕТ'] == \"НЕТ\") | \\\n",
    "                                            (op_report['Прошел МО ДА/НЕТ'] == \"НЕТ\") \\\n",
    "                                            | (op_report['Вышел в ресторан'] == \"НЕТ\") | \\\n",
    "                                            (op_report['Обратная связь от ресторана'].str.contains(\"отказ\")) | \\\n",
    "                                            (op_report['Обратная связь от кандидата'].str.contains(\"отказ\")) | \\\n",
    "                                            (op_report['Дошёл/Не дошёл ДА/НЕТ'] == \"нет\") \n",
    "    op_report[\"Ждем ОС\"] = ((op_report['Дошёл/Не дошёл ДА/НЕТ'] == \"да\" ) | \\\n",
    "                            (op_report['Обратная связь от ресторана'].isna()) | (op_report['Обратная связь от кандидата'].isna())) & \\\n",
    "                            (op_report['Дата собеседования'] < pd.to_datetime(get_this_monday())) \\\n",
    "                            & (~op_report[\"Отказ по любым причинам\"]) \\\n",
    "                            & (~op_report[\"На оформлении\"]) & (~op_report[\"Отработал 1-ю смену\"])\n",
    "    op_report[\"Направлен на собеседование\"] = (op_report['Дата собеседования'] >= pd.to_datetime(get_this_monday())) & \\\n",
    "                                                (~op_report[\"На оформлении\"]) \\\n",
    "                                                & (~op_report[\"Отказ по любым причинам\"]) & (~op_report[\"Отработал 1-ю смену\"])\n",
    "    op_report[\"Статус не определен\"] = (~op_report[\"На оформлении\"]) & (~op_report[\"Отказ по любым причинам\"]) & \\\n",
    "                                        (~op_report[\"Ждем ОС\"]) & (~op_report[\"Направлен на собеседование\"]) & (~op_report[\"Отработал 1-ю смену\"])\n",
    "    return op_report\n",
    "\n",
    "\n",
    "def select_period(report, month, year):\n",
    "    \"\"\"\n",
    "    Отбирает данные за нужный год и месяц\n",
    "    \"\"\"\n",
    "    report = report[(report['Дата собеседования'].dt.month == month) & (report['Дата собеседования'].dt.year == year)]\n",
    "    return report\n",
    "\n",
    "def get_this_monday():\n",
    "    \"\"\"Находит дату последнего понеделтника\"\"\"\n",
    "    today = dt.date.today()\n",
    "    this_monday = today - dt.timedelta(days=today.weekday())\n",
    "    return this_monday"
   ]
  },
  {
   "cell_type": "code",
   "execution_count": 16,
   "metadata": {},
   "outputs": [],
   "source": [
    "# Проставляем статусы\n",
    "report_with_status = add_status_columns(op_report)\n",
    "# Выбирает данные за исследуемый месяц\n",
    "dec = select_period(report_with_status, 12, 2020)"
   ]
  },
  {
   "cell_type": "code",
   "execution_count": 18,
   "metadata": {},
   "outputs": [],
   "source": [
    "def group_table(report):\n",
    "    \"\"\"\n",
    "    Возвращает сгруппированную по регионам таблицу со статусами кандидатов\n",
    "    \"\"\"\n",
    "    report = report.copy()\n",
    "    groupped_report = report.groupby([\"регион\"])[[\"На оформлении\", \"Отказ по любым причинам\", \"Ждем ОС\", \n",
    "                                                  \"Направлен на собеседование\", \n",
    "                                \"Статус не определен\", \"Отработал 1-ю смену\"]].sum().reset_index()\n",
    "    return groupped_report\n",
    "\n",
    "final_table = group_table(dec)"
   ]
  },
  {
   "cell_type": "code",
   "execution_count": 21,
   "metadata": {},
   "outputs": [
    {
     "data": {
      "text/html": [
       "<div>\n",
       "<style scoped>\n",
       "    .dataframe tbody tr th:only-of-type {\n",
       "        vertical-align: middle;\n",
       "    }\n",
       "\n",
       "    .dataframe tbody tr th {\n",
       "        vertical-align: top;\n",
       "    }\n",
       "\n",
       "    .dataframe thead th {\n",
       "        text-align: right;\n",
       "    }\n",
       "</style>\n",
       "<table border=\"1\" class=\"dataframe\">\n",
       "  <thead>\n",
       "    <tr style=\"text-align: right;\">\n",
       "      <th></th>\n",
       "      <th>На оформлении</th>\n",
       "      <th>Отказ по любым причинам</th>\n",
       "      <th>Ждем ОС</th>\n",
       "      <th>Направлен на собеседование</th>\n",
       "      <th>Статус не определен</th>\n",
       "      <th>Отработал 1-ю смену</th>\n",
       "    </tr>\n",
       "  </thead>\n",
       "  <tbody>\n",
       "    <tr>\n",
       "      <th>count</th>\n",
       "      <td>17.000000</td>\n",
       "      <td>17.000000</td>\n",
       "      <td>17.000000</td>\n",
       "      <td>17.0</td>\n",
       "      <td>17.0</td>\n",
       "      <td>17.000000</td>\n",
       "    </tr>\n",
       "    <tr>\n",
       "      <th>mean</th>\n",
       "      <td>12.941176</td>\n",
       "      <td>92.117647</td>\n",
       "      <td>11.352941</td>\n",
       "      <td>0.0</td>\n",
       "      <td>0.0</td>\n",
       "      <td>1.882353</td>\n",
       "    </tr>\n",
       "    <tr>\n",
       "      <th>std</th>\n",
       "      <td>8.257350</td>\n",
       "      <td>56.960384</td>\n",
       "      <td>6.604366</td>\n",
       "      <td>0.0</td>\n",
       "      <td>0.0</td>\n",
       "      <td>1.798692</td>\n",
       "    </tr>\n",
       "    <tr>\n",
       "      <th>min</th>\n",
       "      <td>3.000000</td>\n",
       "      <td>26.000000</td>\n",
       "      <td>4.000000</td>\n",
       "      <td>0.0</td>\n",
       "      <td>0.0</td>\n",
       "      <td>0.000000</td>\n",
       "    </tr>\n",
       "    <tr>\n",
       "      <th>25%</th>\n",
       "      <td>6.000000</td>\n",
       "      <td>47.000000</td>\n",
       "      <td>6.000000</td>\n",
       "      <td>0.0</td>\n",
       "      <td>0.0</td>\n",
       "      <td>0.000000</td>\n",
       "    </tr>\n",
       "    <tr>\n",
       "      <th>50%</th>\n",
       "      <td>11.000000</td>\n",
       "      <td>84.000000</td>\n",
       "      <td>9.000000</td>\n",
       "      <td>0.0</td>\n",
       "      <td>0.0</td>\n",
       "      <td>2.000000</td>\n",
       "    </tr>\n",
       "    <tr>\n",
       "      <th>75%</th>\n",
       "      <td>18.000000</td>\n",
       "      <td>115.000000</td>\n",
       "      <td>14.000000</td>\n",
       "      <td>0.0</td>\n",
       "      <td>0.0</td>\n",
       "      <td>3.000000</td>\n",
       "    </tr>\n",
       "    <tr>\n",
       "      <th>max</th>\n",
       "      <td>32.000000</td>\n",
       "      <td>231.000000</td>\n",
       "      <td>28.000000</td>\n",
       "      <td>0.0</td>\n",
       "      <td>0.0</td>\n",
       "      <td>5.000000</td>\n",
       "    </tr>\n",
       "  </tbody>\n",
       "</table>\n",
       "</div>"
      ],
      "text/plain": [
       "       На оформлении  Отказ по любым причинам    Ждем ОС  \\\n",
       "count      17.000000                17.000000  17.000000   \n",
       "mean       12.941176                92.117647  11.352941   \n",
       "std         8.257350                56.960384   6.604366   \n",
       "min         3.000000                26.000000   4.000000   \n",
       "25%         6.000000                47.000000   6.000000   \n",
       "50%        11.000000                84.000000   9.000000   \n",
       "75%        18.000000               115.000000  14.000000   \n",
       "max        32.000000               231.000000  28.000000   \n",
       "\n",
       "       Направлен на собеседование  Статус не определен  Отработал 1-ю смену  \n",
       "count                        17.0                 17.0            17.000000  \n",
       "mean                          0.0                  0.0             1.882353  \n",
       "std                           0.0                  0.0             1.798692  \n",
       "min                           0.0                  0.0             0.000000  \n",
       "25%                           0.0                  0.0             0.000000  \n",
       "50%                           0.0                  0.0             2.000000  \n",
       "75%                           0.0                  0.0             3.000000  \n",
       "max                           0.0                  0.0             5.000000  "
      ]
     },
     "execution_count": 21,
     "metadata": {},
     "output_type": "execute_result"
    }
   ],
   "source": [
    "final_table.describe()"
   ]
  },
  {
   "cell_type": "code",
   "execution_count": 20,
   "metadata": {},
   "outputs": [
    {
     "data": {
      "application/vnd.plotly.v1+json": {
       "config": {
        "plotlyServerURL": "https://plot.ly"
       },
       "data": [
        {
         "alignmentgroup": "True",
         "hovertemplate": "variable=На оформлении<br>регион=%{x}<br>value=%{y}<extra></extra>",
         "legendgroup": "На оформлении",
         "marker": {
          "color": "#636efa"
         },
         "name": "На оформлении",
         "offsetgroup": "На оформлении",
         "orientation": "v",
         "showlegend": true,
         "textposition": "auto",
         "type": "bar",
         "x": [
          "BASHKORTOSTAN",
          "CENTR",
          "DON",
          "MSK MO NO-EAST",
          "MSK MO NORTH",
          "MSK MO SO-EAST",
          "MSK MO SO-WEST",
          "MSK MO SOUTH",
          "MSK MO WEST",
          "NWEST NORTH",
          "NWEST SOUTH",
          "SOUTH",
          "SYBER",
          "TATARSTAN",
          "URALS NORTH",
          "URALS SOUTH",
          "VOLGA"
         ],
         "xaxis": "x",
         "y": [
          21,
          8,
          6,
          25,
          14,
          18,
          6,
          14,
          4,
          11,
          10,
          3,
          32,
          8,
          23,
          11,
          6
         ],
         "yaxis": "y"
        },
        {
         "alignmentgroup": "True",
         "hovertemplate": "variable=Отказ по любым причинам<br>регион=%{x}<br>value=%{y}<extra></extra>",
         "legendgroup": "Отказ по любым причинам",
         "marker": {
          "color": "#EF553B"
         },
         "name": "Отказ по любым причинам",
         "offsetgroup": "Отказ по любым причинам",
         "orientation": "v",
         "showlegend": true,
         "textposition": "auto",
         "type": "bar",
         "x": [
          "BASHKORTOSTAN",
          "CENTR",
          "DON",
          "MSK MO NO-EAST",
          "MSK MO NORTH",
          "MSK MO SO-EAST",
          "MSK MO SO-WEST",
          "MSK MO SOUTH",
          "MSK MO WEST",
          "NWEST NORTH",
          "NWEST SOUTH",
          "SOUTH",
          "SYBER",
          "TATARSTAN",
          "URALS NORTH",
          "URALS SOUTH",
          "VOLGA"
         ],
         "xaxis": "x",
         "y": [
          84,
          102,
          90,
          180,
          95,
          153,
          82,
          140,
          43,
          34,
          26,
          42,
          47,
          49,
          231,
          53,
          115
         ],
         "yaxis": "y"
        },
        {
         "alignmentgroup": "True",
         "hovertemplate": "variable=Отработал 1-ю смену<br>регион=%{x}<br>value=%{y}<extra></extra>",
         "legendgroup": "Отработал 1-ю смену",
         "marker": {
          "color": "#00cc96"
         },
         "name": "Отработал 1-ю смену",
         "offsetgroup": "Отработал 1-ю смену",
         "orientation": "v",
         "showlegend": true,
         "textposition": "auto",
         "type": "bar",
         "x": [
          "BASHKORTOSTAN",
          "CENTR",
          "DON",
          "MSK MO NO-EAST",
          "MSK MO NORTH",
          "MSK MO SO-EAST",
          "MSK MO SO-WEST",
          "MSK MO SOUTH",
          "MSK MO WEST",
          "NWEST NORTH",
          "NWEST SOUTH",
          "SOUTH",
          "SYBER",
          "TATARSTAN",
          "URALS NORTH",
          "URALS SOUTH",
          "VOLGA"
         ],
         "xaxis": "x",
         "y": [
          2,
          1,
          3,
          5,
          5,
          1,
          2,
          5,
          2,
          3,
          0,
          0,
          0,
          1,
          2,
          0,
          0
         ],
         "yaxis": "y"
        },
        {
         "alignmentgroup": "True",
         "hovertemplate": "variable=Ждем ОС<br>регион=%{x}<br>value=%{y}<extra></extra>",
         "legendgroup": "Ждем ОС",
         "marker": {
          "color": "#ab63fa"
         },
         "name": "Ждем ОС",
         "offsetgroup": "Ждем ОС",
         "orientation": "v",
         "showlegend": true,
         "textposition": "auto",
         "type": "bar",
         "x": [
          "BASHKORTOSTAN",
          "CENTR",
          "DON",
          "MSK MO NO-EAST",
          "MSK MO NORTH",
          "MSK MO SO-EAST",
          "MSK MO SO-WEST",
          "MSK MO SOUTH",
          "MSK MO WEST",
          "NWEST NORTH",
          "NWEST SOUTH",
          "SOUTH",
          "SYBER",
          "TATARSTAN",
          "URALS NORTH",
          "URALS SOUTH",
          "VOLGA"
         ],
         "xaxis": "x",
         "y": [
          13,
          14,
          6,
          12,
          17,
          20,
          8,
          28,
          6,
          9,
          4,
          10,
          5,
          7,
          20,
          8,
          6
         ],
         "yaxis": "y"
        },
        {
         "alignmentgroup": "True",
         "hovertemplate": "variable=Направлен на собеседование<br>регион=%{x}<br>value=%{y}<extra></extra>",
         "legendgroup": "Направлен на собеседование",
         "marker": {
          "color": "#FFA15A"
         },
         "name": "Направлен на собеседование",
         "offsetgroup": "Направлен на собеседование",
         "orientation": "v",
         "showlegend": true,
         "textposition": "auto",
         "type": "bar",
         "x": [
          "BASHKORTOSTAN",
          "CENTR",
          "DON",
          "MSK MO NO-EAST",
          "MSK MO NORTH",
          "MSK MO SO-EAST",
          "MSK MO SO-WEST",
          "MSK MO SOUTH",
          "MSK MO WEST",
          "NWEST NORTH",
          "NWEST SOUTH",
          "SOUTH",
          "SYBER",
          "TATARSTAN",
          "URALS NORTH",
          "URALS SOUTH",
          "VOLGA"
         ],
         "xaxis": "x",
         "y": [
          0,
          0,
          0,
          0,
          0,
          0,
          0,
          0,
          0,
          0,
          0,
          0,
          0,
          0,
          0,
          0,
          0
         ],
         "yaxis": "y"
        },
        {
         "alignmentgroup": "True",
         "hovertemplate": "variable=Статус не определен<br>регион=%{x}<br>value=%{y}<extra></extra>",
         "legendgroup": "Статус не определен",
         "marker": {
          "color": "#19d3f3"
         },
         "name": "Статус не определен",
         "offsetgroup": "Статус не определен",
         "orientation": "v",
         "showlegend": true,
         "textposition": "auto",
         "type": "bar",
         "x": [
          "BASHKORTOSTAN",
          "CENTR",
          "DON",
          "MSK MO NO-EAST",
          "MSK MO NORTH",
          "MSK MO SO-EAST",
          "MSK MO SO-WEST",
          "MSK MO SOUTH",
          "MSK MO WEST",
          "NWEST NORTH",
          "NWEST SOUTH",
          "SOUTH",
          "SYBER",
          "TATARSTAN",
          "URALS NORTH",
          "URALS SOUTH",
          "VOLGA"
         ],
         "xaxis": "x",
         "y": [
          0,
          0,
          0,
          0,
          0,
          0,
          0,
          0,
          0,
          0,
          0,
          0,
          0,
          0,
          0,
          0,
          0
         ],
         "yaxis": "y"
        }
       ],
       "layout": {
        "barmode": "relative",
        "legend": {
         "title": {
          "text": "variable"
         },
         "tracegroupgap": 0
        },
        "template": {
         "data": {
          "bar": [
           {
            "error_x": {
             "color": "#2a3f5f"
            },
            "error_y": {
             "color": "#2a3f5f"
            },
            "marker": {
             "line": {
              "color": "#E5ECF6",
              "width": 0.5
             }
            },
            "type": "bar"
           }
          ],
          "barpolar": [
           {
            "marker": {
             "line": {
              "color": "#E5ECF6",
              "width": 0.5
             }
            },
            "type": "barpolar"
           }
          ],
          "carpet": [
           {
            "aaxis": {
             "endlinecolor": "#2a3f5f",
             "gridcolor": "white",
             "linecolor": "white",
             "minorgridcolor": "white",
             "startlinecolor": "#2a3f5f"
            },
            "baxis": {
             "endlinecolor": "#2a3f5f",
             "gridcolor": "white",
             "linecolor": "white",
             "minorgridcolor": "white",
             "startlinecolor": "#2a3f5f"
            },
            "type": "carpet"
           }
          ],
          "choropleth": [
           {
            "colorbar": {
             "outlinewidth": 0,
             "ticks": ""
            },
            "type": "choropleth"
           }
          ],
          "contour": [
           {
            "colorbar": {
             "outlinewidth": 0,
             "ticks": ""
            },
            "colorscale": [
             [
              0,
              "#0d0887"
             ],
             [
              0.1111111111111111,
              "#46039f"
             ],
             [
              0.2222222222222222,
              "#7201a8"
             ],
             [
              0.3333333333333333,
              "#9c179e"
             ],
             [
              0.4444444444444444,
              "#bd3786"
             ],
             [
              0.5555555555555556,
              "#d8576b"
             ],
             [
              0.6666666666666666,
              "#ed7953"
             ],
             [
              0.7777777777777778,
              "#fb9f3a"
             ],
             [
              0.8888888888888888,
              "#fdca26"
             ],
             [
              1,
              "#f0f921"
             ]
            ],
            "type": "contour"
           }
          ],
          "contourcarpet": [
           {
            "colorbar": {
             "outlinewidth": 0,
             "ticks": ""
            },
            "type": "contourcarpet"
           }
          ],
          "heatmap": [
           {
            "colorbar": {
             "outlinewidth": 0,
             "ticks": ""
            },
            "colorscale": [
             [
              0,
              "#0d0887"
             ],
             [
              0.1111111111111111,
              "#46039f"
             ],
             [
              0.2222222222222222,
              "#7201a8"
             ],
             [
              0.3333333333333333,
              "#9c179e"
             ],
             [
              0.4444444444444444,
              "#bd3786"
             ],
             [
              0.5555555555555556,
              "#d8576b"
             ],
             [
              0.6666666666666666,
              "#ed7953"
             ],
             [
              0.7777777777777778,
              "#fb9f3a"
             ],
             [
              0.8888888888888888,
              "#fdca26"
             ],
             [
              1,
              "#f0f921"
             ]
            ],
            "type": "heatmap"
           }
          ],
          "heatmapgl": [
           {
            "colorbar": {
             "outlinewidth": 0,
             "ticks": ""
            },
            "colorscale": [
             [
              0,
              "#0d0887"
             ],
             [
              0.1111111111111111,
              "#46039f"
             ],
             [
              0.2222222222222222,
              "#7201a8"
             ],
             [
              0.3333333333333333,
              "#9c179e"
             ],
             [
              0.4444444444444444,
              "#bd3786"
             ],
             [
              0.5555555555555556,
              "#d8576b"
             ],
             [
              0.6666666666666666,
              "#ed7953"
             ],
             [
              0.7777777777777778,
              "#fb9f3a"
             ],
             [
              0.8888888888888888,
              "#fdca26"
             ],
             [
              1,
              "#f0f921"
             ]
            ],
            "type": "heatmapgl"
           }
          ],
          "histogram": [
           {
            "marker": {
             "colorbar": {
              "outlinewidth": 0,
              "ticks": ""
             }
            },
            "type": "histogram"
           }
          ],
          "histogram2d": [
           {
            "colorbar": {
             "outlinewidth": 0,
             "ticks": ""
            },
            "colorscale": [
             [
              0,
              "#0d0887"
             ],
             [
              0.1111111111111111,
              "#46039f"
             ],
             [
              0.2222222222222222,
              "#7201a8"
             ],
             [
              0.3333333333333333,
              "#9c179e"
             ],
             [
              0.4444444444444444,
              "#bd3786"
             ],
             [
              0.5555555555555556,
              "#d8576b"
             ],
             [
              0.6666666666666666,
              "#ed7953"
             ],
             [
              0.7777777777777778,
              "#fb9f3a"
             ],
             [
              0.8888888888888888,
              "#fdca26"
             ],
             [
              1,
              "#f0f921"
             ]
            ],
            "type": "histogram2d"
           }
          ],
          "histogram2dcontour": [
           {
            "colorbar": {
             "outlinewidth": 0,
             "ticks": ""
            },
            "colorscale": [
             [
              0,
              "#0d0887"
             ],
             [
              0.1111111111111111,
              "#46039f"
             ],
             [
              0.2222222222222222,
              "#7201a8"
             ],
             [
              0.3333333333333333,
              "#9c179e"
             ],
             [
              0.4444444444444444,
              "#bd3786"
             ],
             [
              0.5555555555555556,
              "#d8576b"
             ],
             [
              0.6666666666666666,
              "#ed7953"
             ],
             [
              0.7777777777777778,
              "#fb9f3a"
             ],
             [
              0.8888888888888888,
              "#fdca26"
             ],
             [
              1,
              "#f0f921"
             ]
            ],
            "type": "histogram2dcontour"
           }
          ],
          "mesh3d": [
           {
            "colorbar": {
             "outlinewidth": 0,
             "ticks": ""
            },
            "type": "mesh3d"
           }
          ],
          "parcoords": [
           {
            "line": {
             "colorbar": {
              "outlinewidth": 0,
              "ticks": ""
             }
            },
            "type": "parcoords"
           }
          ],
          "pie": [
           {
            "automargin": true,
            "type": "pie"
           }
          ],
          "scatter": [
           {
            "marker": {
             "colorbar": {
              "outlinewidth": 0,
              "ticks": ""
             }
            },
            "type": "scatter"
           }
          ],
          "scatter3d": [
           {
            "line": {
             "colorbar": {
              "outlinewidth": 0,
              "ticks": ""
             }
            },
            "marker": {
             "colorbar": {
              "outlinewidth": 0,
              "ticks": ""
             }
            },
            "type": "scatter3d"
           }
          ],
          "scattercarpet": [
           {
            "marker": {
             "colorbar": {
              "outlinewidth": 0,
              "ticks": ""
             }
            },
            "type": "scattercarpet"
           }
          ],
          "scattergeo": [
           {
            "marker": {
             "colorbar": {
              "outlinewidth": 0,
              "ticks": ""
             }
            },
            "type": "scattergeo"
           }
          ],
          "scattergl": [
           {
            "marker": {
             "colorbar": {
              "outlinewidth": 0,
              "ticks": ""
             }
            },
            "type": "scattergl"
           }
          ],
          "scattermapbox": [
           {
            "marker": {
             "colorbar": {
              "outlinewidth": 0,
              "ticks": ""
             }
            },
            "type": "scattermapbox"
           }
          ],
          "scatterpolar": [
           {
            "marker": {
             "colorbar": {
              "outlinewidth": 0,
              "ticks": ""
             }
            },
            "type": "scatterpolar"
           }
          ],
          "scatterpolargl": [
           {
            "marker": {
             "colorbar": {
              "outlinewidth": 0,
              "ticks": ""
             }
            },
            "type": "scatterpolargl"
           }
          ],
          "scatterternary": [
           {
            "marker": {
             "colorbar": {
              "outlinewidth": 0,
              "ticks": ""
             }
            },
            "type": "scatterternary"
           }
          ],
          "surface": [
           {
            "colorbar": {
             "outlinewidth": 0,
             "ticks": ""
            },
            "colorscale": [
             [
              0,
              "#0d0887"
             ],
             [
              0.1111111111111111,
              "#46039f"
             ],
             [
              0.2222222222222222,
              "#7201a8"
             ],
             [
              0.3333333333333333,
              "#9c179e"
             ],
             [
              0.4444444444444444,
              "#bd3786"
             ],
             [
              0.5555555555555556,
              "#d8576b"
             ],
             [
              0.6666666666666666,
              "#ed7953"
             ],
             [
              0.7777777777777778,
              "#fb9f3a"
             ],
             [
              0.8888888888888888,
              "#fdca26"
             ],
             [
              1,
              "#f0f921"
             ]
            ],
            "type": "surface"
           }
          ],
          "table": [
           {
            "cells": {
             "fill": {
              "color": "#EBF0F8"
             },
             "line": {
              "color": "white"
             }
            },
            "header": {
             "fill": {
              "color": "#C8D4E3"
             },
             "line": {
              "color": "white"
             }
            },
            "type": "table"
           }
          ]
         },
         "layout": {
          "annotationdefaults": {
           "arrowcolor": "#2a3f5f",
           "arrowhead": 0,
           "arrowwidth": 1
          },
          "autotypenumbers": "strict",
          "coloraxis": {
           "colorbar": {
            "outlinewidth": 0,
            "ticks": ""
           }
          },
          "colorscale": {
           "diverging": [
            [
             0,
             "#8e0152"
            ],
            [
             0.1,
             "#c51b7d"
            ],
            [
             0.2,
             "#de77ae"
            ],
            [
             0.3,
             "#f1b6da"
            ],
            [
             0.4,
             "#fde0ef"
            ],
            [
             0.5,
             "#f7f7f7"
            ],
            [
             0.6,
             "#e6f5d0"
            ],
            [
             0.7,
             "#b8e186"
            ],
            [
             0.8,
             "#7fbc41"
            ],
            [
             0.9,
             "#4d9221"
            ],
            [
             1,
             "#276419"
            ]
           ],
           "sequential": [
            [
             0,
             "#0d0887"
            ],
            [
             0.1111111111111111,
             "#46039f"
            ],
            [
             0.2222222222222222,
             "#7201a8"
            ],
            [
             0.3333333333333333,
             "#9c179e"
            ],
            [
             0.4444444444444444,
             "#bd3786"
            ],
            [
             0.5555555555555556,
             "#d8576b"
            ],
            [
             0.6666666666666666,
             "#ed7953"
            ],
            [
             0.7777777777777778,
             "#fb9f3a"
            ],
            [
             0.8888888888888888,
             "#fdca26"
            ],
            [
             1,
             "#f0f921"
            ]
           ],
           "sequentialminus": [
            [
             0,
             "#0d0887"
            ],
            [
             0.1111111111111111,
             "#46039f"
            ],
            [
             0.2222222222222222,
             "#7201a8"
            ],
            [
             0.3333333333333333,
             "#9c179e"
            ],
            [
             0.4444444444444444,
             "#bd3786"
            ],
            [
             0.5555555555555556,
             "#d8576b"
            ],
            [
             0.6666666666666666,
             "#ed7953"
            ],
            [
             0.7777777777777778,
             "#fb9f3a"
            ],
            [
             0.8888888888888888,
             "#fdca26"
            ],
            [
             1,
             "#f0f921"
            ]
           ]
          },
          "colorway": [
           "#636efa",
           "#EF553B",
           "#00cc96",
           "#ab63fa",
           "#FFA15A",
           "#19d3f3",
           "#FF6692",
           "#B6E880",
           "#FF97FF",
           "#FECB52"
          ],
          "font": {
           "color": "#2a3f5f"
          },
          "geo": {
           "bgcolor": "white",
           "lakecolor": "white",
           "landcolor": "#E5ECF6",
           "showlakes": true,
           "showland": true,
           "subunitcolor": "white"
          },
          "hoverlabel": {
           "align": "left"
          },
          "hovermode": "closest",
          "mapbox": {
           "style": "light"
          },
          "paper_bgcolor": "white",
          "plot_bgcolor": "#E5ECF6",
          "polar": {
           "angularaxis": {
            "gridcolor": "white",
            "linecolor": "white",
            "ticks": ""
           },
           "bgcolor": "#E5ECF6",
           "radialaxis": {
            "gridcolor": "white",
            "linecolor": "white",
            "ticks": ""
           }
          },
          "scene": {
           "xaxis": {
            "backgroundcolor": "#E5ECF6",
            "gridcolor": "white",
            "gridwidth": 2,
            "linecolor": "white",
            "showbackground": true,
            "ticks": "",
            "zerolinecolor": "white"
           },
           "yaxis": {
            "backgroundcolor": "#E5ECF6",
            "gridcolor": "white",
            "gridwidth": 2,
            "linecolor": "white",
            "showbackground": true,
            "ticks": "",
            "zerolinecolor": "white"
           },
           "zaxis": {
            "backgroundcolor": "#E5ECF6",
            "gridcolor": "white",
            "gridwidth": 2,
            "linecolor": "white",
            "showbackground": true,
            "ticks": "",
            "zerolinecolor": "white"
           }
          },
          "shapedefaults": {
           "line": {
            "color": "#2a3f5f"
           }
          },
          "ternary": {
           "aaxis": {
            "gridcolor": "white",
            "linecolor": "white",
            "ticks": ""
           },
           "baxis": {
            "gridcolor": "white",
            "linecolor": "white",
            "ticks": ""
           },
           "bgcolor": "#E5ECF6",
           "caxis": {
            "gridcolor": "white",
            "linecolor": "white",
            "ticks": ""
           }
          },
          "title": {
           "x": 0.05
          },
          "xaxis": {
           "automargin": true,
           "gridcolor": "white",
           "linecolor": "white",
           "ticks": "",
           "title": {
            "standoff": 15
           },
           "zerolinecolor": "white",
           "zerolinewidth": 2
          },
          "yaxis": {
           "automargin": true,
           "gridcolor": "white",
           "linecolor": "white",
           "ticks": "",
           "title": {
            "standoff": 15
           },
           "zerolinecolor": "white",
           "zerolinewidth": 2
          }
         }
        },
        "title": {
         "text": "Статус кандидатов по дням"
        },
        "xaxis": {
         "anchor": "y",
         "domain": [
          0,
          1
         ],
         "title": {
          "text": "регион"
         }
        },
        "yaxis": {
         "anchor": "x",
         "domain": [
          0,
          1
         ],
         "title": {
          "text": "value"
         }
        }
       }
      },
      "text/html": [
       "<div>                            <div id=\"ef9f189c-147b-49a8-947c-aac4559ba06e\" class=\"plotly-graph-div\" style=\"height:525px; width:100%;\"></div>            <script type=\"text/javascript\">                require([\"plotly\"], function(Plotly) {                    window.PLOTLYENV=window.PLOTLYENV || {};                                    if (document.getElementById(\"ef9f189c-147b-49a8-947c-aac4559ba06e\")) {                    Plotly.newPlot(                        \"ef9f189c-147b-49a8-947c-aac4559ba06e\",                        [{\"alignmentgroup\": \"True\", \"hovertemplate\": \"variable=\\u041d\\u0430 \\u043e\\u0444\\u043e\\u0440\\u043c\\u043b\\u0435\\u043d\\u0438\\u0438<br>\\u0440\\u0435\\u0433\\u0438\\u043e\\u043d=%{x}<br>value=%{y}<extra></extra>\", \"legendgroup\": \"\\u041d\\u0430 \\u043e\\u0444\\u043e\\u0440\\u043c\\u043b\\u0435\\u043d\\u0438\\u0438\", \"marker\": {\"color\": \"#636efa\"}, \"name\": \"\\u041d\\u0430 \\u043e\\u0444\\u043e\\u0440\\u043c\\u043b\\u0435\\u043d\\u0438\\u0438\", \"offsetgroup\": \"\\u041d\\u0430 \\u043e\\u0444\\u043e\\u0440\\u043c\\u043b\\u0435\\u043d\\u0438\\u0438\", \"orientation\": \"v\", \"showlegend\": true, \"textposition\": \"auto\", \"type\": \"bar\", \"x\": [\"BASHKORTOSTAN\", \"CENTR\", \"DON\", \"MSK MO NO-EAST\", \"MSK MO NORTH\", \"MSK MO SO-EAST\", \"MSK MO SO-WEST\", \"MSK MO SOUTH\", \"MSK MO WEST\", \"NWEST NORTH\", \"NWEST SOUTH\", \"SOUTH\", \"SYBER\", \"TATARSTAN\", \"URALS NORTH\", \"URALS SOUTH\", \"VOLGA\"], \"xaxis\": \"x\", \"y\": [21, 8, 6, 25, 14, 18, 6, 14, 4, 11, 10, 3, 32, 8, 23, 11, 6], \"yaxis\": \"y\"}, {\"alignmentgroup\": \"True\", \"hovertemplate\": \"variable=\\u041e\\u0442\\u043a\\u0430\\u0437 \\u043f\\u043e \\u043b\\u044e\\u0431\\u044b\\u043c \\u043f\\u0440\\u0438\\u0447\\u0438\\u043d\\u0430\\u043c<br>\\u0440\\u0435\\u0433\\u0438\\u043e\\u043d=%{x}<br>value=%{y}<extra></extra>\", \"legendgroup\": \"\\u041e\\u0442\\u043a\\u0430\\u0437 \\u043f\\u043e \\u043b\\u044e\\u0431\\u044b\\u043c \\u043f\\u0440\\u0438\\u0447\\u0438\\u043d\\u0430\\u043c\", \"marker\": {\"color\": \"#EF553B\"}, \"name\": \"\\u041e\\u0442\\u043a\\u0430\\u0437 \\u043f\\u043e \\u043b\\u044e\\u0431\\u044b\\u043c \\u043f\\u0440\\u0438\\u0447\\u0438\\u043d\\u0430\\u043c\", \"offsetgroup\": \"\\u041e\\u0442\\u043a\\u0430\\u0437 \\u043f\\u043e \\u043b\\u044e\\u0431\\u044b\\u043c \\u043f\\u0440\\u0438\\u0447\\u0438\\u043d\\u0430\\u043c\", \"orientation\": \"v\", \"showlegend\": true, \"textposition\": \"auto\", \"type\": \"bar\", \"x\": [\"BASHKORTOSTAN\", \"CENTR\", \"DON\", \"MSK MO NO-EAST\", \"MSK MO NORTH\", \"MSK MO SO-EAST\", \"MSK MO SO-WEST\", \"MSK MO SOUTH\", \"MSK MO WEST\", \"NWEST NORTH\", \"NWEST SOUTH\", \"SOUTH\", \"SYBER\", \"TATARSTAN\", \"URALS NORTH\", \"URALS SOUTH\", \"VOLGA\"], \"xaxis\": \"x\", \"y\": [84, 102, 90, 180, 95, 153, 82, 140, 43, 34, 26, 42, 47, 49, 231, 53, 115], \"yaxis\": \"y\"}, {\"alignmentgroup\": \"True\", \"hovertemplate\": \"variable=\\u041e\\u0442\\u0440\\u0430\\u0431\\u043e\\u0442\\u0430\\u043b 1-\\u044e \\u0441\\u043c\\u0435\\u043d\\u0443<br>\\u0440\\u0435\\u0433\\u0438\\u043e\\u043d=%{x}<br>value=%{y}<extra></extra>\", \"legendgroup\": \"\\u041e\\u0442\\u0440\\u0430\\u0431\\u043e\\u0442\\u0430\\u043b 1-\\u044e \\u0441\\u043c\\u0435\\u043d\\u0443\", \"marker\": {\"color\": \"#00cc96\"}, \"name\": \"\\u041e\\u0442\\u0440\\u0430\\u0431\\u043e\\u0442\\u0430\\u043b 1-\\u044e \\u0441\\u043c\\u0435\\u043d\\u0443\", \"offsetgroup\": \"\\u041e\\u0442\\u0440\\u0430\\u0431\\u043e\\u0442\\u0430\\u043b 1-\\u044e \\u0441\\u043c\\u0435\\u043d\\u0443\", \"orientation\": \"v\", \"showlegend\": true, \"textposition\": \"auto\", \"type\": \"bar\", \"x\": [\"BASHKORTOSTAN\", \"CENTR\", \"DON\", \"MSK MO NO-EAST\", \"MSK MO NORTH\", \"MSK MO SO-EAST\", \"MSK MO SO-WEST\", \"MSK MO SOUTH\", \"MSK MO WEST\", \"NWEST NORTH\", \"NWEST SOUTH\", \"SOUTH\", \"SYBER\", \"TATARSTAN\", \"URALS NORTH\", \"URALS SOUTH\", \"VOLGA\"], \"xaxis\": \"x\", \"y\": [2, 1, 3, 5, 5, 1, 2, 5, 2, 3, 0, 0, 0, 1, 2, 0, 0], \"yaxis\": \"y\"}, {\"alignmentgroup\": \"True\", \"hovertemplate\": \"variable=\\u0416\\u0434\\u0435\\u043c \\u041e\\u0421<br>\\u0440\\u0435\\u0433\\u0438\\u043e\\u043d=%{x}<br>value=%{y}<extra></extra>\", \"legendgroup\": \"\\u0416\\u0434\\u0435\\u043c \\u041e\\u0421\", \"marker\": {\"color\": \"#ab63fa\"}, \"name\": \"\\u0416\\u0434\\u0435\\u043c \\u041e\\u0421\", \"offsetgroup\": \"\\u0416\\u0434\\u0435\\u043c \\u041e\\u0421\", \"orientation\": \"v\", \"showlegend\": true, \"textposition\": \"auto\", \"type\": \"bar\", \"x\": [\"BASHKORTOSTAN\", \"CENTR\", \"DON\", \"MSK MO NO-EAST\", \"MSK MO NORTH\", \"MSK MO SO-EAST\", \"MSK MO SO-WEST\", \"MSK MO SOUTH\", \"MSK MO WEST\", \"NWEST NORTH\", \"NWEST SOUTH\", \"SOUTH\", \"SYBER\", \"TATARSTAN\", \"URALS NORTH\", \"URALS SOUTH\", \"VOLGA\"], \"xaxis\": \"x\", \"y\": [13, 14, 6, 12, 17, 20, 8, 28, 6, 9, 4, 10, 5, 7, 20, 8, 6], \"yaxis\": \"y\"}, {\"alignmentgroup\": \"True\", \"hovertemplate\": \"variable=\\u041d\\u0430\\u043f\\u0440\\u0430\\u0432\\u043b\\u0435\\u043d \\u043d\\u0430 \\u0441\\u043e\\u0431\\u0435\\u0441\\u0435\\u0434\\u043e\\u0432\\u0430\\u043d\\u0438\\u0435<br>\\u0440\\u0435\\u0433\\u0438\\u043e\\u043d=%{x}<br>value=%{y}<extra></extra>\", \"legendgroup\": \"\\u041d\\u0430\\u043f\\u0440\\u0430\\u0432\\u043b\\u0435\\u043d \\u043d\\u0430 \\u0441\\u043e\\u0431\\u0435\\u0441\\u0435\\u0434\\u043e\\u0432\\u0430\\u043d\\u0438\\u0435\", \"marker\": {\"color\": \"#FFA15A\"}, \"name\": \"\\u041d\\u0430\\u043f\\u0440\\u0430\\u0432\\u043b\\u0435\\u043d \\u043d\\u0430 \\u0441\\u043e\\u0431\\u0435\\u0441\\u0435\\u0434\\u043e\\u0432\\u0430\\u043d\\u0438\\u0435\", \"offsetgroup\": \"\\u041d\\u0430\\u043f\\u0440\\u0430\\u0432\\u043b\\u0435\\u043d \\u043d\\u0430 \\u0441\\u043e\\u0431\\u0435\\u0441\\u0435\\u0434\\u043e\\u0432\\u0430\\u043d\\u0438\\u0435\", \"orientation\": \"v\", \"showlegend\": true, \"textposition\": \"auto\", \"type\": \"bar\", \"x\": [\"BASHKORTOSTAN\", \"CENTR\", \"DON\", \"MSK MO NO-EAST\", \"MSK MO NORTH\", \"MSK MO SO-EAST\", \"MSK MO SO-WEST\", \"MSK MO SOUTH\", \"MSK MO WEST\", \"NWEST NORTH\", \"NWEST SOUTH\", \"SOUTH\", \"SYBER\", \"TATARSTAN\", \"URALS NORTH\", \"URALS SOUTH\", \"VOLGA\"], \"xaxis\": \"x\", \"y\": [0, 0, 0, 0, 0, 0, 0, 0, 0, 0, 0, 0, 0, 0, 0, 0, 0], \"yaxis\": \"y\"}, {\"alignmentgroup\": \"True\", \"hovertemplate\": \"variable=\\u0421\\u0442\\u0430\\u0442\\u0443\\u0441 \\u043d\\u0435 \\u043e\\u043f\\u0440\\u0435\\u0434\\u0435\\u043b\\u0435\\u043d<br>\\u0440\\u0435\\u0433\\u0438\\u043e\\u043d=%{x}<br>value=%{y}<extra></extra>\", \"legendgroup\": \"\\u0421\\u0442\\u0430\\u0442\\u0443\\u0441 \\u043d\\u0435 \\u043e\\u043f\\u0440\\u0435\\u0434\\u0435\\u043b\\u0435\\u043d\", \"marker\": {\"color\": \"#19d3f3\"}, \"name\": \"\\u0421\\u0442\\u0430\\u0442\\u0443\\u0441 \\u043d\\u0435 \\u043e\\u043f\\u0440\\u0435\\u0434\\u0435\\u043b\\u0435\\u043d\", \"offsetgroup\": \"\\u0421\\u0442\\u0430\\u0442\\u0443\\u0441 \\u043d\\u0435 \\u043e\\u043f\\u0440\\u0435\\u0434\\u0435\\u043b\\u0435\\u043d\", \"orientation\": \"v\", \"showlegend\": true, \"textposition\": \"auto\", \"type\": \"bar\", \"x\": [\"BASHKORTOSTAN\", \"CENTR\", \"DON\", \"MSK MO NO-EAST\", \"MSK MO NORTH\", \"MSK MO SO-EAST\", \"MSK MO SO-WEST\", \"MSK MO SOUTH\", \"MSK MO WEST\", \"NWEST NORTH\", \"NWEST SOUTH\", \"SOUTH\", \"SYBER\", \"TATARSTAN\", \"URALS NORTH\", \"URALS SOUTH\", \"VOLGA\"], \"xaxis\": \"x\", \"y\": [0, 0, 0, 0, 0, 0, 0, 0, 0, 0, 0, 0, 0, 0, 0, 0, 0], \"yaxis\": \"y\"}],                        {\"barmode\": \"relative\", \"legend\": {\"title\": {\"text\": \"variable\"}, \"tracegroupgap\": 0}, \"template\": {\"data\": {\"bar\": [{\"error_x\": {\"color\": \"#2a3f5f\"}, \"error_y\": {\"color\": \"#2a3f5f\"}, \"marker\": {\"line\": {\"color\": \"#E5ECF6\", \"width\": 0.5}}, \"type\": \"bar\"}], \"barpolar\": [{\"marker\": {\"line\": {\"color\": \"#E5ECF6\", \"width\": 0.5}}, \"type\": \"barpolar\"}], \"carpet\": [{\"aaxis\": {\"endlinecolor\": \"#2a3f5f\", \"gridcolor\": \"white\", \"linecolor\": \"white\", \"minorgridcolor\": \"white\", \"startlinecolor\": \"#2a3f5f\"}, \"baxis\": {\"endlinecolor\": \"#2a3f5f\", \"gridcolor\": \"white\", \"linecolor\": \"white\", \"minorgridcolor\": \"white\", \"startlinecolor\": \"#2a3f5f\"}, \"type\": \"carpet\"}], \"choropleth\": [{\"colorbar\": {\"outlinewidth\": 0, \"ticks\": \"\"}, \"type\": \"choropleth\"}], \"contour\": [{\"colorbar\": {\"outlinewidth\": 0, \"ticks\": \"\"}, \"colorscale\": [[0.0, \"#0d0887\"], [0.1111111111111111, \"#46039f\"], [0.2222222222222222, \"#7201a8\"], [0.3333333333333333, \"#9c179e\"], [0.4444444444444444, \"#bd3786\"], [0.5555555555555556, \"#d8576b\"], [0.6666666666666666, \"#ed7953\"], [0.7777777777777778, \"#fb9f3a\"], [0.8888888888888888, \"#fdca26\"], [1.0, \"#f0f921\"]], \"type\": \"contour\"}], \"contourcarpet\": [{\"colorbar\": {\"outlinewidth\": 0, \"ticks\": \"\"}, \"type\": \"contourcarpet\"}], \"heatmap\": [{\"colorbar\": {\"outlinewidth\": 0, \"ticks\": \"\"}, \"colorscale\": [[0.0, \"#0d0887\"], [0.1111111111111111, \"#46039f\"], [0.2222222222222222, \"#7201a8\"], [0.3333333333333333, \"#9c179e\"], [0.4444444444444444, \"#bd3786\"], [0.5555555555555556, \"#d8576b\"], [0.6666666666666666, \"#ed7953\"], [0.7777777777777778, \"#fb9f3a\"], [0.8888888888888888, \"#fdca26\"], [1.0, \"#f0f921\"]], \"type\": \"heatmap\"}], \"heatmapgl\": [{\"colorbar\": {\"outlinewidth\": 0, \"ticks\": \"\"}, \"colorscale\": [[0.0, \"#0d0887\"], [0.1111111111111111, \"#46039f\"], [0.2222222222222222, \"#7201a8\"], [0.3333333333333333, \"#9c179e\"], [0.4444444444444444, \"#bd3786\"], [0.5555555555555556, \"#d8576b\"], [0.6666666666666666, \"#ed7953\"], [0.7777777777777778, \"#fb9f3a\"], [0.8888888888888888, \"#fdca26\"], [1.0, \"#f0f921\"]], \"type\": \"heatmapgl\"}], \"histogram\": [{\"marker\": {\"colorbar\": {\"outlinewidth\": 0, \"ticks\": \"\"}}, \"type\": \"histogram\"}], \"histogram2d\": [{\"colorbar\": {\"outlinewidth\": 0, \"ticks\": \"\"}, \"colorscale\": [[0.0, \"#0d0887\"], [0.1111111111111111, \"#46039f\"], [0.2222222222222222, \"#7201a8\"], [0.3333333333333333, \"#9c179e\"], [0.4444444444444444, \"#bd3786\"], [0.5555555555555556, \"#d8576b\"], [0.6666666666666666, \"#ed7953\"], [0.7777777777777778, \"#fb9f3a\"], [0.8888888888888888, \"#fdca26\"], [1.0, \"#f0f921\"]], \"type\": \"histogram2d\"}], \"histogram2dcontour\": [{\"colorbar\": {\"outlinewidth\": 0, \"ticks\": \"\"}, \"colorscale\": [[0.0, \"#0d0887\"], [0.1111111111111111, \"#46039f\"], [0.2222222222222222, \"#7201a8\"], [0.3333333333333333, \"#9c179e\"], [0.4444444444444444, \"#bd3786\"], [0.5555555555555556, \"#d8576b\"], [0.6666666666666666, \"#ed7953\"], [0.7777777777777778, \"#fb9f3a\"], [0.8888888888888888, \"#fdca26\"], [1.0, \"#f0f921\"]], \"type\": \"histogram2dcontour\"}], \"mesh3d\": [{\"colorbar\": {\"outlinewidth\": 0, \"ticks\": \"\"}, \"type\": \"mesh3d\"}], \"parcoords\": [{\"line\": {\"colorbar\": {\"outlinewidth\": 0, \"ticks\": \"\"}}, \"type\": \"parcoords\"}], \"pie\": [{\"automargin\": true, \"type\": \"pie\"}], \"scatter\": [{\"marker\": {\"colorbar\": {\"outlinewidth\": 0, \"ticks\": \"\"}}, \"type\": \"scatter\"}], \"scatter3d\": [{\"line\": {\"colorbar\": {\"outlinewidth\": 0, \"ticks\": \"\"}}, \"marker\": {\"colorbar\": {\"outlinewidth\": 0, \"ticks\": \"\"}}, \"type\": \"scatter3d\"}], \"scattercarpet\": [{\"marker\": {\"colorbar\": {\"outlinewidth\": 0, \"ticks\": \"\"}}, \"type\": \"scattercarpet\"}], \"scattergeo\": [{\"marker\": {\"colorbar\": {\"outlinewidth\": 0, \"ticks\": \"\"}}, \"type\": \"scattergeo\"}], \"scattergl\": [{\"marker\": {\"colorbar\": {\"outlinewidth\": 0, \"ticks\": \"\"}}, \"type\": \"scattergl\"}], \"scattermapbox\": [{\"marker\": {\"colorbar\": {\"outlinewidth\": 0, \"ticks\": \"\"}}, \"type\": \"scattermapbox\"}], \"scatterpolar\": [{\"marker\": {\"colorbar\": {\"outlinewidth\": 0, \"ticks\": \"\"}}, \"type\": \"scatterpolar\"}], \"scatterpolargl\": [{\"marker\": {\"colorbar\": {\"outlinewidth\": 0, \"ticks\": \"\"}}, \"type\": \"scatterpolargl\"}], \"scatterternary\": [{\"marker\": {\"colorbar\": {\"outlinewidth\": 0, \"ticks\": \"\"}}, \"type\": \"scatterternary\"}], \"surface\": [{\"colorbar\": {\"outlinewidth\": 0, \"ticks\": \"\"}, \"colorscale\": [[0.0, \"#0d0887\"], [0.1111111111111111, \"#46039f\"], [0.2222222222222222, \"#7201a8\"], [0.3333333333333333, \"#9c179e\"], [0.4444444444444444, \"#bd3786\"], [0.5555555555555556, \"#d8576b\"], [0.6666666666666666, \"#ed7953\"], [0.7777777777777778, \"#fb9f3a\"], [0.8888888888888888, \"#fdca26\"], [1.0, \"#f0f921\"]], \"type\": \"surface\"}], \"table\": [{\"cells\": {\"fill\": {\"color\": \"#EBF0F8\"}, \"line\": {\"color\": \"white\"}}, \"header\": {\"fill\": {\"color\": \"#C8D4E3\"}, \"line\": {\"color\": \"white\"}}, \"type\": \"table\"}]}, \"layout\": {\"annotationdefaults\": {\"arrowcolor\": \"#2a3f5f\", \"arrowhead\": 0, \"arrowwidth\": 1}, \"autotypenumbers\": \"strict\", \"coloraxis\": {\"colorbar\": {\"outlinewidth\": 0, \"ticks\": \"\"}}, \"colorscale\": {\"diverging\": [[0, \"#8e0152\"], [0.1, \"#c51b7d\"], [0.2, \"#de77ae\"], [0.3, \"#f1b6da\"], [0.4, \"#fde0ef\"], [0.5, \"#f7f7f7\"], [0.6, \"#e6f5d0\"], [0.7, \"#b8e186\"], [0.8, \"#7fbc41\"], [0.9, \"#4d9221\"], [1, \"#276419\"]], \"sequential\": [[0.0, \"#0d0887\"], [0.1111111111111111, \"#46039f\"], [0.2222222222222222, \"#7201a8\"], [0.3333333333333333, \"#9c179e\"], [0.4444444444444444, \"#bd3786\"], [0.5555555555555556, \"#d8576b\"], [0.6666666666666666, \"#ed7953\"], [0.7777777777777778, \"#fb9f3a\"], [0.8888888888888888, \"#fdca26\"], [1.0, \"#f0f921\"]], \"sequentialminus\": [[0.0, \"#0d0887\"], [0.1111111111111111, \"#46039f\"], [0.2222222222222222, \"#7201a8\"], [0.3333333333333333, \"#9c179e\"], [0.4444444444444444, \"#bd3786\"], [0.5555555555555556, \"#d8576b\"], [0.6666666666666666, \"#ed7953\"], [0.7777777777777778, \"#fb9f3a\"], [0.8888888888888888, \"#fdca26\"], [1.0, \"#f0f921\"]]}, \"colorway\": [\"#636efa\", \"#EF553B\", \"#00cc96\", \"#ab63fa\", \"#FFA15A\", \"#19d3f3\", \"#FF6692\", \"#B6E880\", \"#FF97FF\", \"#FECB52\"], \"font\": {\"color\": \"#2a3f5f\"}, \"geo\": {\"bgcolor\": \"white\", \"lakecolor\": \"white\", \"landcolor\": \"#E5ECF6\", \"showlakes\": true, \"showland\": true, \"subunitcolor\": \"white\"}, \"hoverlabel\": {\"align\": \"left\"}, \"hovermode\": \"closest\", \"mapbox\": {\"style\": \"light\"}, \"paper_bgcolor\": \"white\", \"plot_bgcolor\": \"#E5ECF6\", \"polar\": {\"angularaxis\": {\"gridcolor\": \"white\", \"linecolor\": \"white\", \"ticks\": \"\"}, \"bgcolor\": \"#E5ECF6\", \"radialaxis\": {\"gridcolor\": \"white\", \"linecolor\": \"white\", \"ticks\": \"\"}}, \"scene\": {\"xaxis\": {\"backgroundcolor\": \"#E5ECF6\", \"gridcolor\": \"white\", \"gridwidth\": 2, \"linecolor\": \"white\", \"showbackground\": true, \"ticks\": \"\", \"zerolinecolor\": \"white\"}, \"yaxis\": {\"backgroundcolor\": \"#E5ECF6\", \"gridcolor\": \"white\", \"gridwidth\": 2, \"linecolor\": \"white\", \"showbackground\": true, \"ticks\": \"\", \"zerolinecolor\": \"white\"}, \"zaxis\": {\"backgroundcolor\": \"#E5ECF6\", \"gridcolor\": \"white\", \"gridwidth\": 2, \"linecolor\": \"white\", \"showbackground\": true, \"ticks\": \"\", \"zerolinecolor\": \"white\"}}, \"shapedefaults\": {\"line\": {\"color\": \"#2a3f5f\"}}, \"ternary\": {\"aaxis\": {\"gridcolor\": \"white\", \"linecolor\": \"white\", \"ticks\": \"\"}, \"baxis\": {\"gridcolor\": \"white\", \"linecolor\": \"white\", \"ticks\": \"\"}, \"bgcolor\": \"#E5ECF6\", \"caxis\": {\"gridcolor\": \"white\", \"linecolor\": \"white\", \"ticks\": \"\"}}, \"title\": {\"x\": 0.05}, \"xaxis\": {\"automargin\": true, \"gridcolor\": \"white\", \"linecolor\": \"white\", \"ticks\": \"\", \"title\": {\"standoff\": 15}, \"zerolinecolor\": \"white\", \"zerolinewidth\": 2}, \"yaxis\": {\"automargin\": true, \"gridcolor\": \"white\", \"linecolor\": \"white\", \"ticks\": \"\", \"title\": {\"standoff\": 15}, \"zerolinecolor\": \"white\", \"zerolinewidth\": 2}}}, \"title\": {\"text\": \"\\u0421\\u0442\\u0430\\u0442\\u0443\\u0441 \\u043a\\u0430\\u043d\\u0434\\u0438\\u0434\\u0430\\u0442\\u043e\\u0432 \\u043f\\u043e \\u0434\\u043d\\u044f\\u043c\"}, \"xaxis\": {\"anchor\": \"y\", \"domain\": [0.0, 1.0], \"title\": {\"text\": \"\\u0440\\u0435\\u0433\\u0438\\u043e\\u043d\"}}, \"yaxis\": {\"anchor\": \"x\", \"domain\": [0.0, 1.0], \"title\": {\"text\": \"value\"}}},                        {\"responsive\": true}                    ).then(function(){\n",
       "                            \n",
       "var gd = document.getElementById('ef9f189c-147b-49a8-947c-aac4559ba06e');\n",
       "var x = new MutationObserver(function (mutations, observer) {{\n",
       "        var display = window.getComputedStyle(gd).display;\n",
       "        if (!display || display === 'none') {{\n",
       "            console.log([gd, 'removed!']);\n",
       "            Plotly.purge(gd);\n",
       "            observer.disconnect();\n",
       "        }}\n",
       "}});\n",
       "\n",
       "// Listen for the removal of the full notebook cells\n",
       "var notebookContainer = gd.closest('#notebook-container');\n",
       "if (notebookContainer) {{\n",
       "    x.observe(notebookContainer, {childList: true});\n",
       "}}\n",
       "\n",
       "// Listen for the clearing of the current output cell\n",
       "var outputEl = gd.closest('.output');\n",
       "if (outputEl) {{\n",
       "    x.observe(outputEl, {childList: true});\n",
       "}}\n",
       "\n",
       "                        })                };                });            </script>        </div>"
      ]
     },
     "metadata": {},
     "output_type": "display_data"
    }
   ],
   "source": [
    "fig = px.bar(final_table, x='регион', y=[\"На оформлении\", \"Отказ по любым причинам\", \"Отработал 1-ю смену\", \"Ждем ОС\", \n",
    "                                                     \"Направлен на собеседование\", \"Статус не определен\"], \n",
    "             title=\"Статус кандидатов по дням\")\n",
    "fig.show()"
   ]
  }
 ],
 "metadata": {
  "kernelspec": {
   "display_name": "Python 3",
   "language": "python",
   "name": "python3"
  },
  "language_info": {
   "codemirror_mode": {
    "name": "ipython",
    "version": 3
   },
   "file_extension": ".py",
   "mimetype": "text/x-python",
   "name": "python",
   "nbconvert_exporter": "python",
   "pygments_lexer": "ipython3",
   "version": "3.8.5"
  }
 },
 "nbformat": 4,
 "nbformat_minor": 4
}
