{
 "cells": [
  {
   "cell_type": "code",
   "execution_count": 188,
   "metadata": {},
   "outputs": [],
   "source": [
    "import pandas as pd\n",
    "import os\n",
    "import datetime as dt\n",
    "import re\n",
    "import xlsxwriter\n",
    "import matplotlib.pyplot as plt\n",
    "import numpy as np\n",
    "import plotly.graph_objects as go\n",
    "import seaborn as sns"
   ]
  },
  {
   "cell_type": "code",
   "execution_count": 189,
   "metadata": {},
   "outputs": [],
   "source": [
    "def get_files(mmo_file_name, reg_file_name):\n",
    "    oris_mmo = pd.read_csv(mmo_file_name, sep=';')\n",
    "    oris_regions = pd.read_csv(reg_file_name, sep=';')\n",
    "    oris = pd.concat([oris_mmo, oris_regions])\n",
    "    return oris"
   ]
  },
  {
   "cell_type": "code",
   "execution_count": 190,
   "metadata": {},
   "outputs": [],
   "source": [
    "def oris_filter(oris, week):\n",
    "#     Добавляем новый столбец с номером ресторана\n",
    "    oris[\"Ресторан\"] = oris['Номер ресторана'].str[0:4]\n",
    "#     Оставляем только нужные столбцы\n",
    "    oris = oris[[\"Ресторан\", 'Дата прохождения МО в клинике', 'ФИО пациента', 'Тип осмотра', 'Должность', \"Телефон\", 'Номер ресторана']]\n",
    "#     Оставляем в таблице только новых сотрудников и нужные нам должности\n",
    "    position = ['кассир', 'повар', 'член бригады ресторана ', 'тренер',\n",
    "            'Помощник члена бригады ресторана', 'Уборщик (дневное время)', 'курьер']\n",
    "    oris = oris[oris['Должность'].isin(position)]\n",
    "    oris = oris[oris['Тип осмотра'] == 'Новый сотрудник']\n",
    "# Фильтруем данные по дате    \n",
    "    oris['Дата прохождения МО в клинике'] = pd.to_datetime(oris['Дата прохождения МО в клинике'], dayfirst=True)\n",
    "    pass_mo = oris[oris['Дата прохождения МО в клинике'].isin(week)]\n",
    "    not_pass_mo = oris[oris['Дата прохождения МО в клинике'].isnull()]\n",
    "    sent_to_mo = pd.concat([pass_mo, not_pass_mo])\n",
    "    return sent_to_mo, pass_mo"
   ]
  },
  {
   "cell_type": "code",
   "execution_count": 191,
   "metadata": {},
   "outputs": [],
   "source": [
    "def save_excel_file(oris_filtred, dates):\n",
    "        \"\"\"\n",
    "        Сохраняет таблицу в Excel файл\n",
    "        \"\"\"\n",
    "        file_name = f\"ОРИС общий {dates}.xlsx\"\n",
    "        with pd.ExcelWriter(file_name, \n",
    "                            engine='xlsxwriter',\n",
    "                            datetime_format='dd.mm.yyyy') as writer:\n",
    "            oris_filtred.to_excel(writer, sheet_name='Данные', index=False)\n",
    "            print(f\"Excel file {file_name} was created\")"
   ]
  },
  {
   "cell_type": "code",
   "execution_count": 193,
   "metadata": {},
   "outputs": [],
   "source": [
    "week = pd.date_range('2020.12.7', periods=7, freq=\"D\")\n",
    "data = get_files(\"ОРИС ММО 7.12-13.12.csv\", \"ОРИС Рег 7.12-13.12.csv\")\n",
    "all_sent_to_mo, have_passed_mo = oris_filter(data, week)\n",
    "save_excel_file(all_sent_to_mo, \"7.12-13.12\")"
   ]
  },
  {
   "cell_type": "code",
   "execution_count": 197,
   "metadata": {},
   "outputs": [
    {
     "data": {
      "text/plain": [
       "Ресторан\n",
       "0014    1\n",
       "0025    1\n",
       "0050    1\n",
       "0055    1\n",
       "0126    2\n",
       "0127    1\n",
       "0137    1\n",
       "0226    1\n",
       "0257    1\n",
       "0341    1\n",
       "0350    1\n",
       "0394    1\n",
       "0401    2\n",
       "0403    3\n",
       "0434    1\n",
       "0440    1\n",
       "0470    1\n",
       "0511    1\n",
       "0599    1\n",
       "0624    1\n",
       "0713    1\n",
       "0893    1\n",
       "0920    1\n",
       "9044    2\n",
       "Name: ФИО пациента, dtype: int64"
      ]
     },
     "execution_count": 197,
     "metadata": {},
     "output_type": "execute_result"
    }
   ],
   "source": [
    "have_passed_mo.groupby(['Ресторан']).aggregate('ФИО пациента').count()"
   ]
  },
  {
   "cell_type": "code",
   "execution_count": 198,
   "metadata": {},
   "outputs": [
    {
     "data": {
      "text/plain": [
       "Ресторан\n",
       "0002    1\n",
       "0014    1\n",
       "0025    1\n",
       "0035    1\n",
       "0050    1\n",
       "       ..\n",
       "0893    1\n",
       "0909    1\n",
       "0920    1\n",
       "0942    3\n",
       "9044    2\n",
       "Name: ФИО пациента, Length: 69, dtype: int64"
      ]
     },
     "execution_count": 198,
     "metadata": {},
     "output_type": "execute_result"
    }
   ],
   "source": [
    "all_sent_to_mo.groupby(['Ресторан']).aggregate('ФИО пациента').count()"
   ]
  }
 ],
 "metadata": {
  "kernelspec": {
   "display_name": "Python 3",
   "language": "python",
   "name": "python3"
  },
  "language_info": {
   "codemirror_mode": {
    "name": "ipython",
    "version": 3
   },
   "file_extension": ".py",
   "mimetype": "text/x-python",
   "name": "python",
   "nbconvert_exporter": "python",
   "pygments_lexer": "ipython3",
   "version": "3.8.3"
  }
 },
 "nbformat": 4,
 "nbformat_minor": 4
}
