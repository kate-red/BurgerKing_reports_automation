{
 "cells": [
  {
   "cell_type": "code",
   "execution_count": 34,
   "metadata": {},
   "outputs": [],
   "source": [
    "import pandas as pd\n",
    "import os\n",
    "import datetime as dt\n",
    "import re\n",
    "import xlsxwriter\n",
    "import matplotlib.pyplot as plt\n",
    "import numpy as np\n",
    "import plotly.graph_objects as go\n",
    "import seaborn as sns\n",
    "import plotly.express as px"
   ]
  },
  {
   "cell_type": "code",
   "execution_count": 35,
   "metadata": {},
   "outputs": [],
   "source": [
    "# Загрузка ежедневного отчета\n",
    "daily = pd.read_excel('Обратная связь.xlsx', \n",
    "                      sheet_name=\"Основной лист\", \n",
    "                      parse_dates=False, \n",
    "                      engine='openpyxl',\n",
    "                      keep_default_na=True, \n",
    "                      convert_float=True, \n",
    "                      dtype={\"Ресторан № (собеседование)\": str, \"Ресторан № (работа)\": str}, \n",
    "                      na_values=[pd.NaT])\n",
    "\n",
    "daily['Ресторан № (собеседование)'] = daily['Ресторан № (собеседование)'].apply(add_zero)\n",
    "daily['Ресторан № (работа)'] = daily['Ресторан № (работа)'].apply(add_zero)"
   ]
  },
  {
   "cell_type": "code",
   "execution_count": 36,
   "metadata": {},
   "outputs": [],
   "source": [
    "# Загрузка информации распределения дивизионов и регионов\n",
    "divizions = pd.read_excel('распределение ресоранов по девизионам.xlsx', sheet_name=\"Лист1\", parse_dates=True, engine='openpyxl', \n",
    "                               keep_default_na=True, convert_float=True, dtype={'код ресторана': str},\n",
    "                              na_values=[pd.NaT])\n",
    "divizions =  divizions.drop('город', axis=1)"
   ]
  },
  {
   "cell_type": "code",
   "execution_count": 37,
   "metadata": {},
   "outputs": [],
   "source": [
    "# Загрузка заявок на подбор (с проставленным номером ресторана и приоритетностью заявки)\n",
    "zayavki = pd.read_excel('Заявки ЧБР НУ Курьеры 28.12.2020.xlsx', \n",
    "                        sheet_name=\"28.-31.12.20\", \n",
    "                        parse_dates=False, \n",
    "                        engine='openpyxl',\n",
    "                        keep_default_na=True, \n",
    "                        convert_float=True, \n",
    "                        dtype={\"рест\": str})\n",
    "\n",
    "zayavki = zayavki.dropna(thresh=1)\n",
    "zayavki = zayavki.fillna(value={'Приоритет': 0})\n",
    "zayavki = zayavki[['рест', 'Приоритет', 'Количество (число)']] \\\n",
    "            .rename(columns={'Количество (число)': 'Количество в заявке'})"
   ]
  },
  {
   "cell_type": "code",
   "execution_count": 38,
   "metadata": {},
   "outputs": [],
   "source": [
    "# Смерживаем полученные таблицы\n",
    "merged_table = pd.merge(divizions, daily, left_on='код ресторана', right_on='Ресторан № (работа)') \\\n",
    "                    .rename(columns={'Дивизион_x': 'Дивизион'})\n",
    "merged_table = pd.merge(merged_table, zayavki, left_on='код ресторана', right_on='рест') "
   ]
  },
  {
   "cell_type": "code",
   "execution_count": 39,
   "metadata": {},
   "outputs": [
    {
     "data": {
      "text/plain": [
       "Index(['код ресторана', 'Дивизион', 'регион', 'Рекрутер', 'ФИО',\n",
       "       'Телефон(в формате ОРИС)', 'Возраст', 'Гражданство',\n",
       "       'Телефонное интервью (число)', 'Источник', 'Дата собеседования',\n",
       "       'Ресторан № (работа)', 'Ресторан № (собеседование)', 'ТУ', 'Регион',\n",
       "       'Дивизион_y', 'Должность', 'Дошел/Не дошел',\n",
       "       'Обратная связь от ресторана', 'Обратная связь от кандидата',\n",
       "       'Направлен на оформление', 'Оформился ДА/НЕТ', 'Прошел МО ДА/НЕТ',\n",
       "       'Вышел в ресторан', 'Смена 4 часа ДА/НЕТ', 'Дата первой смены',\n",
       "       'Unnamed: 23', 'рест', 'Приоритет', 'Количество в заявке'],\n",
       "      dtype='object')"
      ]
     },
     "execution_count": 39,
     "metadata": {},
     "output_type": "execute_result"
    }
   ],
   "source": [
    "merged_table.columns"
   ]
  },
  {
   "cell_type": "code",
   "execution_count": 50,
   "metadata": {},
   "outputs": [],
   "source": [
    "# Группируем полученную таблицу\n",
    "all_groupped = merged_table.groupby(['Телефонное интервью (число)', 'Дивизион', 'регион'], as_index=False) \\\n",
    "                        .aggregate({'ФИО': 'count', 'Приоритет': 'sum', 'Количество в заявке':'sum'}) \\\n",
    "                        .rename(columns={'ФИО': 'направлено от ОП'}) "
   ]
  },
  {
   "cell_type": "code",
   "execution_count": 51,
   "metadata": {},
   "outputs": [
    {
     "data": {
      "text/html": [
       "<div>\n",
       "<style scoped>\n",
       "    .dataframe tbody tr th:only-of-type {\n",
       "        vertical-align: middle;\n",
       "    }\n",
       "\n",
       "    .dataframe tbody tr th {\n",
       "        vertical-align: top;\n",
       "    }\n",
       "\n",
       "    .dataframe thead th {\n",
       "        text-align: right;\n",
       "    }\n",
       "</style>\n",
       "<table border=\"1\" class=\"dataframe\">\n",
       "  <thead>\n",
       "    <tr style=\"text-align: right;\">\n",
       "      <th></th>\n",
       "      <th>Телефонное интервью (число)</th>\n",
       "      <th>Дивизион</th>\n",
       "      <th>регион</th>\n",
       "      <th>направлено от ОП</th>\n",
       "      <th>Приоритет</th>\n",
       "      <th>Количество в заявке</th>\n",
       "    </tr>\n",
       "  </thead>\n",
       "  <tbody>\n",
       "    <tr>\n",
       "      <th>0</th>\n",
       "      <td>2020-12-17</td>\n",
       "      <td>Евразия</td>\n",
       "      <td>NWEST SOUTH</td>\n",
       "      <td>1</td>\n",
       "      <td>0.0</td>\n",
       "      <td>2.0</td>\n",
       "    </tr>\n",
       "    <tr>\n",
       "      <th>1</th>\n",
       "      <td>2020-12-17</td>\n",
       "      <td>Евразия</td>\n",
       "      <td>SYBER</td>\n",
       "      <td>2</td>\n",
       "      <td>0.0</td>\n",
       "      <td>9.0</td>\n",
       "    </tr>\n",
       "    <tr>\n",
       "      <th>2</th>\n",
       "      <td>2020-12-17</td>\n",
       "      <td>Евразия</td>\n",
       "      <td>URALS NORTH</td>\n",
       "      <td>10</td>\n",
       "      <td>0.0</td>\n",
       "      <td>43.0</td>\n",
       "    </tr>\n",
       "    <tr>\n",
       "      <th>3</th>\n",
       "      <td>2020-12-17</td>\n",
       "      <td>Евразия</td>\n",
       "      <td>URALS SOUTH</td>\n",
       "      <td>1</td>\n",
       "      <td>1.0</td>\n",
       "      <td>3.0</td>\n",
       "    </tr>\n",
       "    <tr>\n",
       "      <th>4</th>\n",
       "      <td>2020-12-17</td>\n",
       "      <td>ММО</td>\n",
       "      <td>MSK MO NO-EAST</td>\n",
       "      <td>13</td>\n",
       "      <td>0.0</td>\n",
       "      <td>38.0</td>\n",
       "    </tr>\n",
       "  </tbody>\n",
       "</table>\n",
       "</div>"
      ],
      "text/plain": [
       "  Телефонное интервью (число) Дивизион          регион  направлено от ОП  \\\n",
       "0                  2020-12-17  Евразия     NWEST SOUTH                 1   \n",
       "1                  2020-12-17  Евразия           SYBER                 2   \n",
       "2                  2020-12-17  Евразия     URALS NORTH                10   \n",
       "3                  2020-12-17  Евразия     URALS SOUTH                 1   \n",
       "4                  2020-12-17      ММО  MSK MO NO-EAST                13   \n",
       "\n",
       "   Приоритет  Количество в заявке  \n",
       "0        0.0                  2.0  \n",
       "1        0.0                  9.0  \n",
       "2        0.0                 43.0  \n",
       "3        1.0                  3.0  \n",
       "4        0.0                 38.0  "
      ]
     },
     "execution_count": 51,
     "metadata": {},
     "output_type": "execute_result"
    }
   ],
   "source": [
    "all_groupped.head()"
   ]
  },
  {
   "cell_type": "code",
   "execution_count": 52,
   "metadata": {},
   "outputs": [
    {
     "data": {
      "application/vnd.plotly.v1+json": {
       "config": {
        "plotlyServerURL": "https://plot.ly"
       },
       "data": [
        {
         "hovertemplate": "<b>%{hovertext}</b><br><br>Телефонное интервью (число)=%{x}<br>Количество в заявке=%{y}<br>направлено от ОП=%{marker.size}<br>Приоритет=%{marker.color}<extra></extra>",
         "hovertext": [
          "NWEST SOUTH",
          "SYBER",
          "URALS NORTH",
          "URALS SOUTH",
          "MSK MO NO-EAST",
          "MSK MO NORTH",
          "MSK MO SO-EAST",
          "MSK MO SO-WEST",
          "MSK MO SOUTH",
          "MSK MO WEST",
          "CENTR",
          "DON",
          "NWEST SOUTH",
          "SYBER",
          "URALS NORTH",
          "MSK MO NO-EAST",
          "MSK MO NORTH",
          "MSK MO SO-EAST",
          "MSK MO SO-WEST",
          "MSK MO SOUTH",
          "MSK MO WEST",
          "DON",
          "VOLGA",
          "NWEST SOUTH",
          "SYBER",
          "URALS NORTH",
          "URALS SOUTH",
          "MSK MO NO-EAST",
          "MSK MO NORTH",
          "MSK MO SO-EAST",
          "MSK MO SO-WEST",
          "MSK MO SOUTH",
          "MSK MO WEST",
          "CENTR",
          "DON",
          "TATARSTAN",
          "SYBER",
          "URALS NORTH",
          "URALS SOUTH",
          "MSK MO NO-EAST",
          "MSK MO NORTH",
          "MSK MO SO-EAST",
          "MSK MO SO-WEST",
          "MSK MO SOUTH",
          "MSK MO WEST",
          "CENTR",
          "DON",
          "SOUTH",
          "VOLGA",
          "NWEST NORTH",
          "NWEST SOUTH",
          "SYBER",
          "URALS NORTH",
          "URALS SOUTH",
          "MSK MO NO-EAST",
          "MSK MO NORTH",
          "MSK MO SO-EAST",
          "MSK MO SO-WEST",
          "MSK MO SOUTH",
          "MSK MO WEST",
          "BASHKORTOSTAN",
          "CENTR",
          "DON",
          "SOUTH",
          "TATARSTAN",
          "VOLGA",
          "NWEST NORTH",
          "NWEST SOUTH",
          "SYBER",
          "URALS NORTH",
          "URALS SOUTH",
          "MSK MO NO-EAST",
          "MSK MO NORTH",
          "MSK MO SO-EAST",
          "MSK MO SO-WEST",
          "MSK MO SOUTH",
          "MSK MO WEST",
          "CENTR",
          "DON",
          "SOUTH",
          "TATARSTAN",
          "VOLGA",
          "NWEST NORTH",
          "URALS NORTH",
          "URALS SOUTH",
          "MSK MO NO-EAST",
          "MSK MO NORTH",
          "MSK MO SO-EAST",
          "MSK MO SOUTH",
          "MSK MO WEST",
          "CENTR",
          "DON",
          "SOUTH",
          "TATARSTAN",
          "VOLGA",
          "URALS SOUTH",
          "URALS NORTH",
          "NWEST NORTH",
          "URALS NORTH",
          "URALS SOUTH",
          "MSK MO NO-EAST",
          "MSK MO NORTH",
          "MSK MO SO-EAST",
          "MSK MO SO-WEST",
          "MSK MO SOUTH",
          "DON",
          "SOUTH",
          "VOLGA",
          "NWEST NORTH",
          "NWEST SOUTH",
          "MSK MO NO-EAST",
          "MSK MO NORTH",
          "MSK MO SO-EAST",
          "MSK MO SO-WEST",
          "MSK MO SOUTH",
          "MSK MO WEST",
          "CENTR",
          "VOLGA",
          "NWEST NORTH",
          "MSK MO SO-WEST",
          "MSK MO SOUTH",
          "MSK MO WEST",
          "TATARSTAN",
          "NWEST NORTH",
          "SYBER",
          "URALS NORTH",
          "URALS SOUTH",
          "MSK MO NO-EAST",
          "MSK MO NORTH",
          "MSK MO SO-EAST",
          "MSK MO SO-WEST",
          "MSK MO SOUTH",
          "MSK MO WEST",
          "CENTR",
          "DON",
          "NWEST NORTH",
          "SYBER",
          "URALS NORTH",
          "URALS SOUTH",
          "MSK MO NO-EAST",
          "MSK MO SO-EAST",
          "MSK MO SO-WEST",
          "CENTR",
          "DON",
          "VOLGA",
          "SYBER",
          "URALS NORTH",
          "URALS SOUTH",
          "MSK MO SO-EAST",
          "MSK MO SOUTH",
          "MSK MO WEST",
          "CENTR",
          "DON",
          "SOUTH",
          "NWEST SOUTH",
          "SYBER",
          "URALS NORTH",
          "URALS SOUTH",
          "CENTR",
          "DON",
          "SOUTH",
          "NWEST NORTH",
          "NWEST SOUTH",
          "URALS NORTH",
          "URALS SOUTH",
          "MSK MO NO-EAST",
          "MSK MO NORTH",
          "MSK MO SO-WEST",
          "MSK MO SOUTH",
          "MSK MO WEST",
          "CENTR",
          "DON",
          "NWEST NORTH",
          "NWEST SOUTH",
          "SYBER",
          "URALS NORTH",
          "URALS SOUTH",
          "MSK MO NO-EAST",
          "MSK MO NORTH",
          "MSK MO SO-EAST",
          "MSK MO SO-WEST",
          "MSK MO SOUTH",
          "MSK MO WEST",
          "CENTR",
          "DON",
          "SOUTH",
          "VOLGA",
          "NWEST NORTH",
          "SYBER",
          "URALS NORTH",
          "URALS SOUTH",
          "MSK MO NO-EAST",
          "MSK MO NORTH",
          "MSK MO SO-EAST",
          "MSK MO SO-WEST",
          "MSK MO SOUTH",
          "MSK MO WEST",
          "CENTR",
          "DON",
          "TATARSTAN",
          "VOLGA",
          "NWEST NORTH",
          "NWEST SOUTH",
          "SYBER",
          "URALS NORTH",
          "URALS SOUTH",
          "MSK MO NO-EAST",
          "MSK MO NORTH",
          "MSK MO SO-EAST",
          "MSK MO SO-WEST",
          "MSK MO SOUTH",
          "MSK MO WEST",
          "CENTR",
          "DON",
          "SOUTH",
          "NWEST NORTH",
          "NWEST SOUTH",
          "SYBER",
          "URALS NORTH",
          "URALS SOUTH",
          "MSK MO NO-EAST",
          "MSK MO NORTH",
          "MSK MO SO-EAST",
          "MSK MO SO-WEST",
          "MSK MO SOUTH",
          "MSK MO WEST",
          "CENTR",
          "DON",
          "SOUTH",
          "TATARSTAN",
          "VOLGA",
          "MSK MO NORTH"
         ],
         "legendgroup": "",
         "marker": {
          "color": [
           0,
           0,
           0,
           1,
           0,
           0,
           0,
           0,
           1,
           0,
           2,
           3,
           0,
           0,
           0,
           0,
           3,
           0,
           0,
           0,
           0,
           1,
           0,
           0,
           0,
           0,
           0,
           0,
           5,
           0,
           0,
           0,
           0,
           1,
           1,
           0,
           0,
           0,
           0,
           0,
           0,
           0,
           0,
           1,
           0,
           5,
           2,
           5,
           0,
           0,
           0,
           0,
           0,
           0,
           0,
           1,
           0,
           0,
           2,
           0,
           1,
           10,
           4,
           3,
           0,
           0,
           2,
           0,
           0,
           0,
           0,
           0,
           1,
           0,
           0,
           3,
           0,
           2,
           1,
           5,
           0,
           0,
           1,
           0,
           0,
           0,
           1,
           0,
           2,
           0,
           2,
           2,
           1,
           0,
           0,
           0,
           0,
           0,
           0,
           0,
           0,
           2,
           0,
           0,
           0,
           1,
           1,
           0,
           2,
           0,
           0,
           1,
           0,
           0,
           0,
           0,
           1,
           0,
           1,
           0,
           0,
           0,
           0,
           2,
           0,
           0,
           1,
           0,
           0,
           0,
           0,
           0,
           0,
           3,
           1,
           2,
           0,
           0,
           1,
           0,
           0,
           0,
           3,
           4,
           0,
           0,
           0,
           0,
           0,
           0,
           0,
           3,
           1,
           1,
           0,
           0,
           0,
           1,
           1,
           3,
           2,
           0,
           0,
           0,
           0,
           0,
           0,
           0,
           0,
           0,
           6,
           4,
           5,
           0,
           0,
           0,
           6,
           0,
           6,
           0,
           0,
           0,
           0,
           5,
           5,
           3,
           0,
           4,
           0,
           0,
           3,
           0,
           1,
           0,
           0,
           0,
           0,
           3,
           5,
           0,
           0,
           6,
           0,
           0,
           0,
           5,
           0,
           0,
           0,
           0,
           0,
           0,
           5,
           4,
           2,
           7,
           0,
           0,
           0,
           2,
           0,
           0,
           0,
           0,
           0,
           0,
           2,
           2,
           4,
           0,
           0,
           0
          ],
          "coloraxis": "coloraxis",
          "size": [
           1,
           2,
           10,
           1,
           13,
           5,
           3,
           7,
           12,
           3,
           2,
           3,
           4,
           3,
           10,
           12,
           6,
           14,
           4,
           10,
           2,
           1,
           1,
           1,
           1,
           13,
           3,
           18,
           17,
           11,
           9,
           10,
           2,
           1,
           1,
           1,
           2,
           8,
           2,
           11,
           6,
           10,
           9,
           11,
           2,
           5,
           2,
           5,
           4,
           1,
           1,
           1,
           16,
           7,
           20,
           3,
           13,
           4,
           12,
           1,
           1,
           11,
           4,
           3,
           1,
           1,
           6,
           1,
           1,
           14,
           5,
           12,
           11,
           20,
           10,
           17,
           5,
           3,
           1,
           5,
           1,
           1,
           5,
           4,
           1,
           4,
           8,
           7,
           9,
           1,
           2,
           2,
           1,
           1,
           2,
           1,
           2,
           2,
           4,
           1,
           5,
           6,
           5,
           2,
           1,
           1,
           1,
           1,
           2,
           1,
           1,
           1,
           4,
           4,
           2,
           2,
           1,
           1,
           1,
           1,
           1,
           1,
           1,
           3,
           1,
           2,
           1,
           3,
           5,
           4,
           5,
           4,
           1,
           3,
           1,
           3,
           7,
           1,
           2,
           2,
           4,
           2,
           3,
           4,
           1,
           7,
           10,
           1,
           3,
           1,
           1,
           4,
           1,
           1,
           2,
           8,
           14,
           2,
           1,
           3,
           2,
           1,
           1,
           4,
           2,
           1,
           1,
           1,
           4,
           1,
           6,
           4,
           6,
           1,
           9,
           15,
           14,
           7,
           10,
           8,
           8,
           11,
           3,
           5,
           5,
           3,
           2,
           7,
           7,
           15,
           8,
           9,
           6,
           7,
           4,
           6,
           6,
           3,
           5,
           1,
           4,
           6,
           4,
           2,
           19,
           7,
           12,
           5,
           14,
           10,
           10,
           1,
           5,
           4,
           2,
           12,
           5,
           10,
           24,
           4,
           9,
           12,
           5,
           2,
           7,
           7,
           2,
           2,
           4,
           1,
           1,
           1
          ],
          "sizemode": "area",
          "sizeref": 0.06,
          "symbol": "circle"
         },
         "mode": "markers",
         "name": "",
         "orientation": "v",
         "showlegend": false,
         "type": "scatter",
         "x": [
          "2020-12-17T00:00:00",
          "2020-12-17T00:00:00",
          "2020-12-17T00:00:00",
          "2020-12-17T00:00:00",
          "2020-12-17T00:00:00",
          "2020-12-17T00:00:00",
          "2020-12-17T00:00:00",
          "2020-12-17T00:00:00",
          "2020-12-17T00:00:00",
          "2020-12-17T00:00:00",
          "2020-12-17T00:00:00",
          "2020-12-17T00:00:00",
          "2020-12-18T00:00:00",
          "2020-12-18T00:00:00",
          "2020-12-18T00:00:00",
          "2020-12-18T00:00:00",
          "2020-12-18T00:00:00",
          "2020-12-18T00:00:00",
          "2020-12-18T00:00:00",
          "2020-12-18T00:00:00",
          "2020-12-18T00:00:00",
          "2020-12-18T00:00:00",
          "2020-12-18T00:00:00",
          "2020-12-21T00:00:00",
          "2020-12-21T00:00:00",
          "2020-12-21T00:00:00",
          "2020-12-21T00:00:00",
          "2020-12-21T00:00:00",
          "2020-12-21T00:00:00",
          "2020-12-21T00:00:00",
          "2020-12-21T00:00:00",
          "2020-12-21T00:00:00",
          "2020-12-21T00:00:00",
          "2020-12-21T00:00:00",
          "2020-12-21T00:00:00",
          "2020-12-21T00:00:00",
          "2020-12-22T00:00:00",
          "2020-12-22T00:00:00",
          "2020-12-22T00:00:00",
          "2020-12-22T00:00:00",
          "2020-12-22T00:00:00",
          "2020-12-22T00:00:00",
          "2020-12-22T00:00:00",
          "2020-12-22T00:00:00",
          "2020-12-22T00:00:00",
          "2020-12-22T00:00:00",
          "2020-12-22T00:00:00",
          "2020-12-22T00:00:00",
          "2020-12-22T00:00:00",
          "2020-12-23T00:00:00",
          "2020-12-23T00:00:00",
          "2020-12-23T00:00:00",
          "2020-12-23T00:00:00",
          "2020-12-23T00:00:00",
          "2020-12-23T00:00:00",
          "2020-12-23T00:00:00",
          "2020-12-23T00:00:00",
          "2020-12-23T00:00:00",
          "2020-12-23T00:00:00",
          "2020-12-23T00:00:00",
          "2020-12-23T00:00:00",
          "2020-12-23T00:00:00",
          "2020-12-23T00:00:00",
          "2020-12-23T00:00:00",
          "2020-12-23T00:00:00",
          "2020-12-23T00:00:00",
          "2020-12-24T00:00:00",
          "2020-12-24T00:00:00",
          "2020-12-24T00:00:00",
          "2020-12-24T00:00:00",
          "2020-12-24T00:00:00",
          "2020-12-24T00:00:00",
          "2020-12-24T00:00:00",
          "2020-12-24T00:00:00",
          "2020-12-24T00:00:00",
          "2020-12-24T00:00:00",
          "2020-12-24T00:00:00",
          "2020-12-24T00:00:00",
          "2020-12-24T00:00:00",
          "2020-12-24T00:00:00",
          "2020-12-24T00:00:00",
          "2020-12-24T00:00:00",
          "2020-12-25T00:00:00",
          "2020-12-25T00:00:00",
          "2020-12-25T00:00:00",
          "2020-12-25T00:00:00",
          "2020-12-25T00:00:00",
          "2020-12-25T00:00:00",
          "2020-12-25T00:00:00",
          "2020-12-25T00:00:00",
          "2020-12-25T00:00:00",
          "2020-12-25T00:00:00",
          "2020-12-25T00:00:00",
          "2020-12-25T00:00:00",
          "2020-12-25T00:00:00",
          "2020-12-26T00:00:00",
          "2020-12-27T00:00:00",
          "2020-12-28T00:00:00",
          "2020-12-28T00:00:00",
          "2020-12-28T00:00:00",
          "2020-12-28T00:00:00",
          "2020-12-28T00:00:00",
          "2020-12-28T00:00:00",
          "2020-12-28T00:00:00",
          "2020-12-28T00:00:00",
          "2020-12-28T00:00:00",
          "2020-12-28T00:00:00",
          "2020-12-28T00:00:00",
          "2020-12-29T00:00:00",
          "2020-12-29T00:00:00",
          "2020-12-29T00:00:00",
          "2020-12-29T00:00:00",
          "2020-12-29T00:00:00",
          "2020-12-29T00:00:00",
          "2020-12-29T00:00:00",
          "2020-12-29T00:00:00",
          "2020-12-29T00:00:00",
          "2020-12-29T00:00:00",
          "2021-01-03T00:00:00",
          "2021-01-03T00:00:00",
          "2021-01-03T00:00:00",
          "2021-01-03T00:00:00",
          "2021-01-03T00:00:00",
          "2021-01-04T00:00:00",
          "2021-01-04T00:00:00",
          "2021-01-04T00:00:00",
          "2021-01-04T00:00:00",
          "2021-01-04T00:00:00",
          "2021-01-04T00:00:00",
          "2021-01-04T00:00:00",
          "2021-01-04T00:00:00",
          "2021-01-04T00:00:00",
          "2021-01-04T00:00:00",
          "2021-01-04T00:00:00",
          "2021-01-04T00:00:00",
          "2021-01-05T00:00:00",
          "2021-01-05T00:00:00",
          "2021-01-05T00:00:00",
          "2021-01-05T00:00:00",
          "2021-01-05T00:00:00",
          "2021-01-05T00:00:00",
          "2021-01-05T00:00:00",
          "2021-01-05T00:00:00",
          "2021-01-05T00:00:00",
          "2021-01-05T00:00:00",
          "2021-01-06T00:00:00",
          "2021-01-06T00:00:00",
          "2021-01-06T00:00:00",
          "2021-01-06T00:00:00",
          "2021-01-06T00:00:00",
          "2021-01-06T00:00:00",
          "2021-01-06T00:00:00",
          "2021-01-06T00:00:00",
          "2021-01-06T00:00:00",
          "2021-01-08T00:00:00",
          "2021-01-08T00:00:00",
          "2021-01-08T00:00:00",
          "2021-01-08T00:00:00",
          "2021-01-08T00:00:00",
          "2021-01-08T00:00:00",
          "2021-01-08T00:00:00",
          "2021-01-09T00:00:00",
          "2021-01-09T00:00:00",
          "2021-01-09T00:00:00",
          "2021-01-09T00:00:00",
          "2021-01-09T00:00:00",
          "2021-01-09T00:00:00",
          "2021-01-09T00:00:00",
          "2021-01-09T00:00:00",
          "2021-01-09T00:00:00",
          "2021-01-09T00:00:00",
          "2021-01-09T00:00:00",
          "2021-01-11T00:00:00",
          "2021-01-11T00:00:00",
          "2021-01-11T00:00:00",
          "2021-01-11T00:00:00",
          "2021-01-11T00:00:00",
          "2021-01-11T00:00:00",
          "2021-01-11T00:00:00",
          "2021-01-11T00:00:00",
          "2021-01-11T00:00:00",
          "2021-01-11T00:00:00",
          "2021-01-11T00:00:00",
          "2021-01-11T00:00:00",
          "2021-01-11T00:00:00",
          "2021-01-11T00:00:00",
          "2021-01-11T00:00:00",
          "2021-01-12T00:00:00",
          "2021-01-12T00:00:00",
          "2021-01-12T00:00:00",
          "2021-01-12T00:00:00",
          "2021-01-12T00:00:00",
          "2021-01-12T00:00:00",
          "2021-01-12T00:00:00",
          "2021-01-12T00:00:00",
          "2021-01-12T00:00:00",
          "2021-01-12T00:00:00",
          "2021-01-12T00:00:00",
          "2021-01-12T00:00:00",
          "2021-01-12T00:00:00",
          "2021-01-12T00:00:00",
          "2021-01-13T00:00:00",
          "2021-01-13T00:00:00",
          "2021-01-13T00:00:00",
          "2021-01-13T00:00:00",
          "2021-01-13T00:00:00",
          "2021-01-13T00:00:00",
          "2021-01-13T00:00:00",
          "2021-01-13T00:00:00",
          "2021-01-13T00:00:00",
          "2021-01-13T00:00:00",
          "2021-01-13T00:00:00",
          "2021-01-13T00:00:00",
          "2021-01-13T00:00:00",
          "2021-01-13T00:00:00",
          "2021-01-14T00:00:00",
          "2021-01-14T00:00:00",
          "2021-01-14T00:00:00",
          "2021-01-14T00:00:00",
          "2021-01-14T00:00:00",
          "2021-01-14T00:00:00",
          "2021-01-14T00:00:00",
          "2021-01-14T00:00:00",
          "2021-01-14T00:00:00",
          "2021-01-14T00:00:00",
          "2021-01-14T00:00:00",
          "2021-01-14T00:00:00",
          "2021-01-14T00:00:00",
          "2021-01-14T00:00:00",
          "2021-01-14T00:00:00",
          "2021-01-14T00:00:00",
          "2021-01-15T00:00:00"
         ],
         "xaxis": "x",
         "y": [
          2,
          9,
          43,
          3,
          38,
          15,
          12,
          19,
          38,
          6,
          20,
          12,
          28,
          9,
          32,
          35,
          22,
          60,
          7,
          27,
          6,
          7,
          5,
          7,
          6,
          50,
          7,
          61,
          49,
          53,
          18,
          25,
          3,
          2,
          4,
          4,
          12,
          28,
          6,
          36,
          20,
          29,
          20,
          38,
          3,
          13,
          10,
          12,
          13,
          4,
          7,
          6,
          47,
          18,
          66,
          8,
          61,
          8,
          32,
          1,
          10,
          44,
          25,
          7,
          4,
          4,
          23,
          5,
          6,
          52,
          13,
          38,
          33,
          79,
          23,
          48,
          11,
          7,
          6,
          11,
          4,
          2,
          15,
          11,
          2,
          17,
          25,
          23,
          28,
          2,
          7,
          12,
          2,
          4,
          4,
          2,
          7,
          7,
          12,
          3,
          16,
          20,
          15,
          5,
          5,
          6,
          3,
          1,
          7,
          2,
          2,
          2,
          15,
          7,
          8,
          3,
          3,
          4,
          10,
          2,
          2,
          1,
          4,
          7,
          3,
          4,
          2,
          5,
          13,
          11,
          9,
          8,
          1,
          5,
          6,
          16,
          21,
          2,
          4,
          5,
          12,
          3,
          6,
          24,
          1,
          21,
          36,
          3,
          14,
          2,
          3,
          10,
          6,
          3,
          10,
          36,
          38,
          5,
          5,
          18,
          6,
          2,
          7,
          11,
          4,
          2,
          2,
          2,
          13,
          1,
          22,
          26,
          35,
          5,
          37,
          50,
          33,
          19,
          27,
          27,
          14,
          38,
          5,
          11,
          30,
          9,
          8,
          40,
          23,
          41,
          18,
          36,
          19,
          25,
          6,
          14,
          11,
          7,
          32,
          4,
          13,
          32,
          21,
          9,
          43,
          15,
          32,
          12,
          47,
          21,
          20,
          3,
          12,
          28,
          6,
          58,
          25,
          41,
          69,
          9,
          23,
          35,
          23,
          5,
          31,
          14,
          2,
          14,
          12,
          4,
          2,
          3
         ],
         "yaxis": "y"
        }
       ],
       "layout": {
        "coloraxis": {
         "colorbar": {
          "title": {
           "text": "Приоритет"
          }
         },
         "colorscale": [
          [
           0,
           "#0d0887"
          ],
          [
           0.1111111111111111,
           "#46039f"
          ],
          [
           0.2222222222222222,
           "#7201a8"
          ],
          [
           0.3333333333333333,
           "#9c179e"
          ],
          [
           0.4444444444444444,
           "#bd3786"
          ],
          [
           0.5555555555555556,
           "#d8576b"
          ],
          [
           0.6666666666666666,
           "#ed7953"
          ],
          [
           0.7777777777777778,
           "#fb9f3a"
          ],
          [
           0.8888888888888888,
           "#fdca26"
          ],
          [
           1,
           "#f0f921"
          ]
         ]
        },
        "legend": {
         "itemsizing": "constant",
         "tracegroupgap": 0
        },
        "template": {
         "data": {
          "bar": [
           {
            "error_x": {
             "color": "#2a3f5f"
            },
            "error_y": {
             "color": "#2a3f5f"
            },
            "marker": {
             "line": {
              "color": "#E5ECF6",
              "width": 0.5
             }
            },
            "type": "bar"
           }
          ],
          "barpolar": [
           {
            "marker": {
             "line": {
              "color": "#E5ECF6",
              "width": 0.5
             }
            },
            "type": "barpolar"
           }
          ],
          "carpet": [
           {
            "aaxis": {
             "endlinecolor": "#2a3f5f",
             "gridcolor": "white",
             "linecolor": "white",
             "minorgridcolor": "white",
             "startlinecolor": "#2a3f5f"
            },
            "baxis": {
             "endlinecolor": "#2a3f5f",
             "gridcolor": "white",
             "linecolor": "white",
             "minorgridcolor": "white",
             "startlinecolor": "#2a3f5f"
            },
            "type": "carpet"
           }
          ],
          "choropleth": [
           {
            "colorbar": {
             "outlinewidth": 0,
             "ticks": ""
            },
            "type": "choropleth"
           }
          ],
          "contour": [
           {
            "colorbar": {
             "outlinewidth": 0,
             "ticks": ""
            },
            "colorscale": [
             [
              0,
              "#0d0887"
             ],
             [
              0.1111111111111111,
              "#46039f"
             ],
             [
              0.2222222222222222,
              "#7201a8"
             ],
             [
              0.3333333333333333,
              "#9c179e"
             ],
             [
              0.4444444444444444,
              "#bd3786"
             ],
             [
              0.5555555555555556,
              "#d8576b"
             ],
             [
              0.6666666666666666,
              "#ed7953"
             ],
             [
              0.7777777777777778,
              "#fb9f3a"
             ],
             [
              0.8888888888888888,
              "#fdca26"
             ],
             [
              1,
              "#f0f921"
             ]
            ],
            "type": "contour"
           }
          ],
          "contourcarpet": [
           {
            "colorbar": {
             "outlinewidth": 0,
             "ticks": ""
            },
            "type": "contourcarpet"
           }
          ],
          "heatmap": [
           {
            "colorbar": {
             "outlinewidth": 0,
             "ticks": ""
            },
            "colorscale": [
             [
              0,
              "#0d0887"
             ],
             [
              0.1111111111111111,
              "#46039f"
             ],
             [
              0.2222222222222222,
              "#7201a8"
             ],
             [
              0.3333333333333333,
              "#9c179e"
             ],
             [
              0.4444444444444444,
              "#bd3786"
             ],
             [
              0.5555555555555556,
              "#d8576b"
             ],
             [
              0.6666666666666666,
              "#ed7953"
             ],
             [
              0.7777777777777778,
              "#fb9f3a"
             ],
             [
              0.8888888888888888,
              "#fdca26"
             ],
             [
              1,
              "#f0f921"
             ]
            ],
            "type": "heatmap"
           }
          ],
          "heatmapgl": [
           {
            "colorbar": {
             "outlinewidth": 0,
             "ticks": ""
            },
            "colorscale": [
             [
              0,
              "#0d0887"
             ],
             [
              0.1111111111111111,
              "#46039f"
             ],
             [
              0.2222222222222222,
              "#7201a8"
             ],
             [
              0.3333333333333333,
              "#9c179e"
             ],
             [
              0.4444444444444444,
              "#bd3786"
             ],
             [
              0.5555555555555556,
              "#d8576b"
             ],
             [
              0.6666666666666666,
              "#ed7953"
             ],
             [
              0.7777777777777778,
              "#fb9f3a"
             ],
             [
              0.8888888888888888,
              "#fdca26"
             ],
             [
              1,
              "#f0f921"
             ]
            ],
            "type": "heatmapgl"
           }
          ],
          "histogram": [
           {
            "marker": {
             "colorbar": {
              "outlinewidth": 0,
              "ticks": ""
             }
            },
            "type": "histogram"
           }
          ],
          "histogram2d": [
           {
            "colorbar": {
             "outlinewidth": 0,
             "ticks": ""
            },
            "colorscale": [
             [
              0,
              "#0d0887"
             ],
             [
              0.1111111111111111,
              "#46039f"
             ],
             [
              0.2222222222222222,
              "#7201a8"
             ],
             [
              0.3333333333333333,
              "#9c179e"
             ],
             [
              0.4444444444444444,
              "#bd3786"
             ],
             [
              0.5555555555555556,
              "#d8576b"
             ],
             [
              0.6666666666666666,
              "#ed7953"
             ],
             [
              0.7777777777777778,
              "#fb9f3a"
             ],
             [
              0.8888888888888888,
              "#fdca26"
             ],
             [
              1,
              "#f0f921"
             ]
            ],
            "type": "histogram2d"
           }
          ],
          "histogram2dcontour": [
           {
            "colorbar": {
             "outlinewidth": 0,
             "ticks": ""
            },
            "colorscale": [
             [
              0,
              "#0d0887"
             ],
             [
              0.1111111111111111,
              "#46039f"
             ],
             [
              0.2222222222222222,
              "#7201a8"
             ],
             [
              0.3333333333333333,
              "#9c179e"
             ],
             [
              0.4444444444444444,
              "#bd3786"
             ],
             [
              0.5555555555555556,
              "#d8576b"
             ],
             [
              0.6666666666666666,
              "#ed7953"
             ],
             [
              0.7777777777777778,
              "#fb9f3a"
             ],
             [
              0.8888888888888888,
              "#fdca26"
             ],
             [
              1,
              "#f0f921"
             ]
            ],
            "type": "histogram2dcontour"
           }
          ],
          "mesh3d": [
           {
            "colorbar": {
             "outlinewidth": 0,
             "ticks": ""
            },
            "type": "mesh3d"
           }
          ],
          "parcoords": [
           {
            "line": {
             "colorbar": {
              "outlinewidth": 0,
              "ticks": ""
             }
            },
            "type": "parcoords"
           }
          ],
          "pie": [
           {
            "automargin": true,
            "type": "pie"
           }
          ],
          "scatter": [
           {
            "marker": {
             "colorbar": {
              "outlinewidth": 0,
              "ticks": ""
             }
            },
            "type": "scatter"
           }
          ],
          "scatter3d": [
           {
            "line": {
             "colorbar": {
              "outlinewidth": 0,
              "ticks": ""
             }
            },
            "marker": {
             "colorbar": {
              "outlinewidth": 0,
              "ticks": ""
             }
            },
            "type": "scatter3d"
           }
          ],
          "scattercarpet": [
           {
            "marker": {
             "colorbar": {
              "outlinewidth": 0,
              "ticks": ""
             }
            },
            "type": "scattercarpet"
           }
          ],
          "scattergeo": [
           {
            "marker": {
             "colorbar": {
              "outlinewidth": 0,
              "ticks": ""
             }
            },
            "type": "scattergeo"
           }
          ],
          "scattergl": [
           {
            "marker": {
             "colorbar": {
              "outlinewidth": 0,
              "ticks": ""
             }
            },
            "type": "scattergl"
           }
          ],
          "scattermapbox": [
           {
            "marker": {
             "colorbar": {
              "outlinewidth": 0,
              "ticks": ""
             }
            },
            "type": "scattermapbox"
           }
          ],
          "scatterpolar": [
           {
            "marker": {
             "colorbar": {
              "outlinewidth": 0,
              "ticks": ""
             }
            },
            "type": "scatterpolar"
           }
          ],
          "scatterpolargl": [
           {
            "marker": {
             "colorbar": {
              "outlinewidth": 0,
              "ticks": ""
             }
            },
            "type": "scatterpolargl"
           }
          ],
          "scatterternary": [
           {
            "marker": {
             "colorbar": {
              "outlinewidth": 0,
              "ticks": ""
             }
            },
            "type": "scatterternary"
           }
          ],
          "surface": [
           {
            "colorbar": {
             "outlinewidth": 0,
             "ticks": ""
            },
            "colorscale": [
             [
              0,
              "#0d0887"
             ],
             [
              0.1111111111111111,
              "#46039f"
             ],
             [
              0.2222222222222222,
              "#7201a8"
             ],
             [
              0.3333333333333333,
              "#9c179e"
             ],
             [
              0.4444444444444444,
              "#bd3786"
             ],
             [
              0.5555555555555556,
              "#d8576b"
             ],
             [
              0.6666666666666666,
              "#ed7953"
             ],
             [
              0.7777777777777778,
              "#fb9f3a"
             ],
             [
              0.8888888888888888,
              "#fdca26"
             ],
             [
              1,
              "#f0f921"
             ]
            ],
            "type": "surface"
           }
          ],
          "table": [
           {
            "cells": {
             "fill": {
              "color": "#EBF0F8"
             },
             "line": {
              "color": "white"
             }
            },
            "header": {
             "fill": {
              "color": "#C8D4E3"
             },
             "line": {
              "color": "white"
             }
            },
            "type": "table"
           }
          ]
         },
         "layout": {
          "annotationdefaults": {
           "arrowcolor": "#2a3f5f",
           "arrowhead": 0,
           "arrowwidth": 1
          },
          "autotypenumbers": "strict",
          "coloraxis": {
           "colorbar": {
            "outlinewidth": 0,
            "ticks": ""
           }
          },
          "colorscale": {
           "diverging": [
            [
             0,
             "#8e0152"
            ],
            [
             0.1,
             "#c51b7d"
            ],
            [
             0.2,
             "#de77ae"
            ],
            [
             0.3,
             "#f1b6da"
            ],
            [
             0.4,
             "#fde0ef"
            ],
            [
             0.5,
             "#f7f7f7"
            ],
            [
             0.6,
             "#e6f5d0"
            ],
            [
             0.7,
             "#b8e186"
            ],
            [
             0.8,
             "#7fbc41"
            ],
            [
             0.9,
             "#4d9221"
            ],
            [
             1,
             "#276419"
            ]
           ],
           "sequential": [
            [
             0,
             "#0d0887"
            ],
            [
             0.1111111111111111,
             "#46039f"
            ],
            [
             0.2222222222222222,
             "#7201a8"
            ],
            [
             0.3333333333333333,
             "#9c179e"
            ],
            [
             0.4444444444444444,
             "#bd3786"
            ],
            [
             0.5555555555555556,
             "#d8576b"
            ],
            [
             0.6666666666666666,
             "#ed7953"
            ],
            [
             0.7777777777777778,
             "#fb9f3a"
            ],
            [
             0.8888888888888888,
             "#fdca26"
            ],
            [
             1,
             "#f0f921"
            ]
           ],
           "sequentialminus": [
            [
             0,
             "#0d0887"
            ],
            [
             0.1111111111111111,
             "#46039f"
            ],
            [
             0.2222222222222222,
             "#7201a8"
            ],
            [
             0.3333333333333333,
             "#9c179e"
            ],
            [
             0.4444444444444444,
             "#bd3786"
            ],
            [
             0.5555555555555556,
             "#d8576b"
            ],
            [
             0.6666666666666666,
             "#ed7953"
            ],
            [
             0.7777777777777778,
             "#fb9f3a"
            ],
            [
             0.8888888888888888,
             "#fdca26"
            ],
            [
             1,
             "#f0f921"
            ]
           ]
          },
          "colorway": [
           "#636efa",
           "#EF553B",
           "#00cc96",
           "#ab63fa",
           "#FFA15A",
           "#19d3f3",
           "#FF6692",
           "#B6E880",
           "#FF97FF",
           "#FECB52"
          ],
          "font": {
           "color": "#2a3f5f"
          },
          "geo": {
           "bgcolor": "white",
           "lakecolor": "white",
           "landcolor": "#E5ECF6",
           "showlakes": true,
           "showland": true,
           "subunitcolor": "white"
          },
          "hoverlabel": {
           "align": "left"
          },
          "hovermode": "closest",
          "mapbox": {
           "style": "light"
          },
          "paper_bgcolor": "white",
          "plot_bgcolor": "#E5ECF6",
          "polar": {
           "angularaxis": {
            "gridcolor": "white",
            "linecolor": "white",
            "ticks": ""
           },
           "bgcolor": "#E5ECF6",
           "radialaxis": {
            "gridcolor": "white",
            "linecolor": "white",
            "ticks": ""
           }
          },
          "scene": {
           "xaxis": {
            "backgroundcolor": "#E5ECF6",
            "gridcolor": "white",
            "gridwidth": 2,
            "linecolor": "white",
            "showbackground": true,
            "ticks": "",
            "zerolinecolor": "white"
           },
           "yaxis": {
            "backgroundcolor": "#E5ECF6",
            "gridcolor": "white",
            "gridwidth": 2,
            "linecolor": "white",
            "showbackground": true,
            "ticks": "",
            "zerolinecolor": "white"
           },
           "zaxis": {
            "backgroundcolor": "#E5ECF6",
            "gridcolor": "white",
            "gridwidth": 2,
            "linecolor": "white",
            "showbackground": true,
            "ticks": "",
            "zerolinecolor": "white"
           }
          },
          "shapedefaults": {
           "line": {
            "color": "#2a3f5f"
           }
          },
          "ternary": {
           "aaxis": {
            "gridcolor": "white",
            "linecolor": "white",
            "ticks": ""
           },
           "baxis": {
            "gridcolor": "white",
            "linecolor": "white",
            "ticks": ""
           },
           "bgcolor": "#E5ECF6",
           "caxis": {
            "gridcolor": "white",
            "linecolor": "white",
            "ticks": ""
           }
          },
          "title": {
           "x": 0.05
          },
          "xaxis": {
           "automargin": true,
           "gridcolor": "white",
           "linecolor": "white",
           "ticks": "",
           "title": {
            "standoff": 15
           },
           "zerolinecolor": "white",
           "zerolinewidth": 2
          },
          "yaxis": {
           "automargin": true,
           "gridcolor": "white",
           "linecolor": "white",
           "ticks": "",
           "title": {
            "standoff": 15
           },
           "zerolinecolor": "white",
           "zerolinewidth": 2
          }
         }
        },
        "title": {
         "text": "Направленные от ОП по регионам"
        },
        "xaxis": {
         "anchor": "y",
         "domain": [
          0,
          1
         ],
         "title": {
          "text": "Телефонное интервью (число)"
         }
        },
        "yaxis": {
         "anchor": "x",
         "domain": [
          0,
          1
         ],
         "title": {
          "text": "Количество в заявке"
         }
        }
       }
      },
      "text/html": [
       "<div>                            <div id=\"1a47f4cf-f7dd-4d5a-8359-db01b9a731e3\" class=\"plotly-graph-div\" style=\"height:525px; width:100%;\"></div>            <script type=\"text/javascript\">                require([\"plotly\"], function(Plotly) {                    window.PLOTLYENV=window.PLOTLYENV || {};                                    if (document.getElementById(\"1a47f4cf-f7dd-4d5a-8359-db01b9a731e3\")) {                    Plotly.newPlot(                        \"1a47f4cf-f7dd-4d5a-8359-db01b9a731e3\",                        [{\"hovertemplate\": \"<b>%{hovertext}</b><br><br>\\u0422\\u0435\\u043b\\u0435\\u0444\\u043e\\u043d\\u043d\\u043e\\u0435 \\u0438\\u043d\\u0442\\u0435\\u0440\\u0432\\u044c\\u044e (\\u0447\\u0438\\u0441\\u043b\\u043e)=%{x}<br>\\u041a\\u043e\\u043b\\u0438\\u0447\\u0435\\u0441\\u0442\\u0432\\u043e \\u0432 \\u0437\\u0430\\u044f\\u0432\\u043a\\u0435=%{y}<br>\\u043d\\u0430\\u043f\\u0440\\u0430\\u0432\\u043b\\u0435\\u043d\\u043e \\u043e\\u0442 \\u041e\\u041f=%{marker.size}<br>\\u041f\\u0440\\u0438\\u043e\\u0440\\u0438\\u0442\\u0435\\u0442=%{marker.color}<extra></extra>\", \"hovertext\": [\"NWEST SOUTH\", \"SYBER\", \"URALS NORTH\", \"URALS SOUTH\", \"MSK MO NO-EAST\", \"MSK MO NORTH\", \"MSK MO SO-EAST\", \"MSK MO SO-WEST\", \"MSK MO SOUTH\", \"MSK MO WEST\", \"CENTR\", \"DON\", \"NWEST SOUTH\", \"SYBER\", \"URALS NORTH\", \"MSK MO NO-EAST\", \"MSK MO NORTH\", \"MSK MO SO-EAST\", \"MSK MO SO-WEST\", \"MSK MO SOUTH\", \"MSK MO WEST\", \"DON\", \"VOLGA\", \"NWEST SOUTH\", \"SYBER\", \"URALS NORTH\", \"URALS SOUTH\", \"MSK MO NO-EAST\", \"MSK MO NORTH\", \"MSK MO SO-EAST\", \"MSK MO SO-WEST\", \"MSK MO SOUTH\", \"MSK MO WEST\", \"CENTR\", \"DON\", \"TATARSTAN\", \"SYBER\", \"URALS NORTH\", \"URALS SOUTH\", \"MSK MO NO-EAST\", \"MSK MO NORTH\", \"MSK MO SO-EAST\", \"MSK MO SO-WEST\", \"MSK MO SOUTH\", \"MSK MO WEST\", \"CENTR\", \"DON\", \"SOUTH\", \"VOLGA\", \"NWEST NORTH\", \"NWEST SOUTH\", \"SYBER\", \"URALS NORTH\", \"URALS SOUTH\", \"MSK MO NO-EAST\", \"MSK MO NORTH\", \"MSK MO SO-EAST\", \"MSK MO SO-WEST\", \"MSK MO SOUTH\", \"MSK MO WEST\", \"BASHKORTOSTAN\", \"CENTR\", \"DON\", \"SOUTH\", \"TATARSTAN\", \"VOLGA\", \"NWEST NORTH\", \"NWEST SOUTH\", \"SYBER\", \"URALS NORTH\", \"URALS SOUTH\", \"MSK MO NO-EAST\", \"MSK MO NORTH\", \"MSK MO SO-EAST\", \"MSK MO SO-WEST\", \"MSK MO SOUTH\", \"MSK MO WEST\", \"CENTR\", \"DON\", \"SOUTH\", \"TATARSTAN\", \"VOLGA\", \"NWEST NORTH\", \"URALS NORTH\", \"URALS SOUTH\", \"MSK MO NO-EAST\", \"MSK MO NORTH\", \"MSK MO SO-EAST\", \"MSK MO SOUTH\", \"MSK MO WEST\", \"CENTR\", \"DON\", \"SOUTH\", \"TATARSTAN\", \"VOLGA\", \"URALS SOUTH\", \"URALS NORTH\", \"NWEST NORTH\", \"URALS NORTH\", \"URALS SOUTH\", \"MSK MO NO-EAST\", \"MSK MO NORTH\", \"MSK MO SO-EAST\", \"MSK MO SO-WEST\", \"MSK MO SOUTH\", \"DON\", \"SOUTH\", \"VOLGA\", \"NWEST NORTH\", \"NWEST SOUTH\", \"MSK MO NO-EAST\", \"MSK MO NORTH\", \"MSK MO SO-EAST\", \"MSK MO SO-WEST\", \"MSK MO SOUTH\", \"MSK MO WEST\", \"CENTR\", \"VOLGA\", \"NWEST NORTH\", \"MSK MO SO-WEST\", \"MSK MO SOUTH\", \"MSK MO WEST\", \"TATARSTAN\", \"NWEST NORTH\", \"SYBER\", \"URALS NORTH\", \"URALS SOUTH\", \"MSK MO NO-EAST\", \"MSK MO NORTH\", \"MSK MO SO-EAST\", \"MSK MO SO-WEST\", \"MSK MO SOUTH\", \"MSK MO WEST\", \"CENTR\", \"DON\", \"NWEST NORTH\", \"SYBER\", \"URALS NORTH\", \"URALS SOUTH\", \"MSK MO NO-EAST\", \"MSK MO SO-EAST\", \"MSK MO SO-WEST\", \"CENTR\", \"DON\", \"VOLGA\", \"SYBER\", \"URALS NORTH\", \"URALS SOUTH\", \"MSK MO SO-EAST\", \"MSK MO SOUTH\", \"MSK MO WEST\", \"CENTR\", \"DON\", \"SOUTH\", \"NWEST SOUTH\", \"SYBER\", \"URALS NORTH\", \"URALS SOUTH\", \"CENTR\", \"DON\", \"SOUTH\", \"NWEST NORTH\", \"NWEST SOUTH\", \"URALS NORTH\", \"URALS SOUTH\", \"MSK MO NO-EAST\", \"MSK MO NORTH\", \"MSK MO SO-WEST\", \"MSK MO SOUTH\", \"MSK MO WEST\", \"CENTR\", \"DON\", \"NWEST NORTH\", \"NWEST SOUTH\", \"SYBER\", \"URALS NORTH\", \"URALS SOUTH\", \"MSK MO NO-EAST\", \"MSK MO NORTH\", \"MSK MO SO-EAST\", \"MSK MO SO-WEST\", \"MSK MO SOUTH\", \"MSK MO WEST\", \"CENTR\", \"DON\", \"SOUTH\", \"VOLGA\", \"NWEST NORTH\", \"SYBER\", \"URALS NORTH\", \"URALS SOUTH\", \"MSK MO NO-EAST\", \"MSK MO NORTH\", \"MSK MO SO-EAST\", \"MSK MO SO-WEST\", \"MSK MO SOUTH\", \"MSK MO WEST\", \"CENTR\", \"DON\", \"TATARSTAN\", \"VOLGA\", \"NWEST NORTH\", \"NWEST SOUTH\", \"SYBER\", \"URALS NORTH\", \"URALS SOUTH\", \"MSK MO NO-EAST\", \"MSK MO NORTH\", \"MSK MO SO-EAST\", \"MSK MO SO-WEST\", \"MSK MO SOUTH\", \"MSK MO WEST\", \"CENTR\", \"DON\", \"SOUTH\", \"NWEST NORTH\", \"NWEST SOUTH\", \"SYBER\", \"URALS NORTH\", \"URALS SOUTH\", \"MSK MO NO-EAST\", \"MSK MO NORTH\", \"MSK MO SO-EAST\", \"MSK MO SO-WEST\", \"MSK MO SOUTH\", \"MSK MO WEST\", \"CENTR\", \"DON\", \"SOUTH\", \"TATARSTAN\", \"VOLGA\", \"MSK MO NORTH\"], \"legendgroup\": \"\", \"marker\": {\"color\": [0.0, 0.0, 0.0, 1.0, 0.0, 0.0, 0.0, 0.0, 1.0, 0.0, 2.0, 3.0, 0.0, 0.0, 0.0, 0.0, 3.0, 0.0, 0.0, 0.0, 0.0, 1.0, 0.0, 0.0, 0.0, 0.0, 0.0, 0.0, 5.0, 0.0, 0.0, 0.0, 0.0, 1.0, 1.0, 0.0, 0.0, 0.0, 0.0, 0.0, 0.0, 0.0, 0.0, 1.0, 0.0, 5.0, 2.0, 5.0, 0.0, 0.0, 0.0, 0.0, 0.0, 0.0, 0.0, 1.0, 0.0, 0.0, 2.0, 0.0, 1.0, 10.0, 4.0, 3.0, 0.0, 0.0, 2.0, 0.0, 0.0, 0.0, 0.0, 0.0, 1.0, 0.0, 0.0, 3.0, 0.0, 2.0, 1.0, 5.0, 0.0, 0.0, 1.0, 0.0, 0.0, 0.0, 1.0, 0.0, 2.0, 0.0, 2.0, 2.0, 1.0, 0.0, 0.0, 0.0, 0.0, 0.0, 0.0, 0.0, 0.0, 2.0, 0.0, 0.0, 0.0, 1.0, 1.0, 0.0, 2.0, 0.0, 0.0, 1.0, 0.0, 0.0, 0.0, 0.0, 1.0, 0.0, 1.0, 0.0, 0.0, 0.0, 0.0, 2.0, 0.0, 0.0, 1.0, 0.0, 0.0, 0.0, 0.0, 0.0, 0.0, 3.0, 1.0, 2.0, 0.0, 0.0, 1.0, 0.0, 0.0, 0.0, 3.0, 4.0, 0.0, 0.0, 0.0, 0.0, 0.0, 0.0, 0.0, 3.0, 1.0, 1.0, 0.0, 0.0, 0.0, 1.0, 1.0, 3.0, 2.0, 0.0, 0.0, 0.0, 0.0, 0.0, 0.0, 0.0, 0.0, 0.0, 6.0, 4.0, 5.0, 0.0, 0.0, 0.0, 6.0, 0.0, 6.0, 0.0, 0.0, 0.0, 0.0, 5.0, 5.0, 3.0, 0.0, 4.0, 0.0, 0.0, 3.0, 0.0, 1.0, 0.0, 0.0, 0.0, 0.0, 3.0, 5.0, 0.0, 0.0, 6.0, 0.0, 0.0, 0.0, 5.0, 0.0, 0.0, 0.0, 0.0, 0.0, 0.0, 5.0, 4.0, 2.0, 7.0, 0.0, 0.0, 0.0, 2.0, 0.0, 0.0, 0.0, 0.0, 0.0, 0.0, 2.0, 2.0, 4.0, 0.0, 0.0, 0.0], \"coloraxis\": \"coloraxis\", \"size\": [1, 2, 10, 1, 13, 5, 3, 7, 12, 3, 2, 3, 4, 3, 10, 12, 6, 14, 4, 10, 2, 1, 1, 1, 1, 13, 3, 18, 17, 11, 9, 10, 2, 1, 1, 1, 2, 8, 2, 11, 6, 10, 9, 11, 2, 5, 2, 5, 4, 1, 1, 1, 16, 7, 20, 3, 13, 4, 12, 1, 1, 11, 4, 3, 1, 1, 6, 1, 1, 14, 5, 12, 11, 20, 10, 17, 5, 3, 1, 5, 1, 1, 5, 4, 1, 4, 8, 7, 9, 1, 2, 2, 1, 1, 2, 1, 2, 2, 4, 1, 5, 6, 5, 2, 1, 1, 1, 1, 2, 1, 1, 1, 4, 4, 2, 2, 1, 1, 1, 1, 1, 1, 1, 3, 1, 2, 1, 3, 5, 4, 5, 4, 1, 3, 1, 3, 7, 1, 2, 2, 4, 2, 3, 4, 1, 7, 10, 1, 3, 1, 1, 4, 1, 1, 2, 8, 14, 2, 1, 3, 2, 1, 1, 4, 2, 1, 1, 1, 4, 1, 6, 4, 6, 1, 9, 15, 14, 7, 10, 8, 8, 11, 3, 5, 5, 3, 2, 7, 7, 15, 8, 9, 6, 7, 4, 6, 6, 3, 5, 1, 4, 6, 4, 2, 19, 7, 12, 5, 14, 10, 10, 1, 5, 4, 2, 12, 5, 10, 24, 4, 9, 12, 5, 2, 7, 7, 2, 2, 4, 1, 1, 1], \"sizemode\": \"area\", \"sizeref\": 0.06, \"symbol\": \"circle\"}, \"mode\": \"markers\", \"name\": \"\", \"orientation\": \"v\", \"showlegend\": false, \"type\": \"scatter\", \"x\": [\"2020-12-17T00:00:00\", \"2020-12-17T00:00:00\", \"2020-12-17T00:00:00\", \"2020-12-17T00:00:00\", \"2020-12-17T00:00:00\", \"2020-12-17T00:00:00\", \"2020-12-17T00:00:00\", \"2020-12-17T00:00:00\", \"2020-12-17T00:00:00\", \"2020-12-17T00:00:00\", \"2020-12-17T00:00:00\", \"2020-12-17T00:00:00\", \"2020-12-18T00:00:00\", \"2020-12-18T00:00:00\", \"2020-12-18T00:00:00\", \"2020-12-18T00:00:00\", \"2020-12-18T00:00:00\", \"2020-12-18T00:00:00\", \"2020-12-18T00:00:00\", \"2020-12-18T00:00:00\", \"2020-12-18T00:00:00\", \"2020-12-18T00:00:00\", \"2020-12-18T00:00:00\", \"2020-12-21T00:00:00\", \"2020-12-21T00:00:00\", \"2020-12-21T00:00:00\", \"2020-12-21T00:00:00\", \"2020-12-21T00:00:00\", \"2020-12-21T00:00:00\", \"2020-12-21T00:00:00\", \"2020-12-21T00:00:00\", \"2020-12-21T00:00:00\", \"2020-12-21T00:00:00\", \"2020-12-21T00:00:00\", \"2020-12-21T00:00:00\", \"2020-12-21T00:00:00\", \"2020-12-22T00:00:00\", \"2020-12-22T00:00:00\", \"2020-12-22T00:00:00\", \"2020-12-22T00:00:00\", \"2020-12-22T00:00:00\", \"2020-12-22T00:00:00\", \"2020-12-22T00:00:00\", \"2020-12-22T00:00:00\", \"2020-12-22T00:00:00\", \"2020-12-22T00:00:00\", \"2020-12-22T00:00:00\", \"2020-12-22T00:00:00\", \"2020-12-22T00:00:00\", \"2020-12-23T00:00:00\", \"2020-12-23T00:00:00\", \"2020-12-23T00:00:00\", \"2020-12-23T00:00:00\", \"2020-12-23T00:00:00\", \"2020-12-23T00:00:00\", \"2020-12-23T00:00:00\", \"2020-12-23T00:00:00\", \"2020-12-23T00:00:00\", \"2020-12-23T00:00:00\", \"2020-12-23T00:00:00\", \"2020-12-23T00:00:00\", \"2020-12-23T00:00:00\", \"2020-12-23T00:00:00\", \"2020-12-23T00:00:00\", \"2020-12-23T00:00:00\", \"2020-12-23T00:00:00\", \"2020-12-24T00:00:00\", \"2020-12-24T00:00:00\", \"2020-12-24T00:00:00\", \"2020-12-24T00:00:00\", \"2020-12-24T00:00:00\", \"2020-12-24T00:00:00\", \"2020-12-24T00:00:00\", \"2020-12-24T00:00:00\", \"2020-12-24T00:00:00\", \"2020-12-24T00:00:00\", \"2020-12-24T00:00:00\", \"2020-12-24T00:00:00\", \"2020-12-24T00:00:00\", \"2020-12-24T00:00:00\", \"2020-12-24T00:00:00\", \"2020-12-24T00:00:00\", \"2020-12-25T00:00:00\", \"2020-12-25T00:00:00\", \"2020-12-25T00:00:00\", \"2020-12-25T00:00:00\", \"2020-12-25T00:00:00\", \"2020-12-25T00:00:00\", \"2020-12-25T00:00:00\", \"2020-12-25T00:00:00\", \"2020-12-25T00:00:00\", \"2020-12-25T00:00:00\", \"2020-12-25T00:00:00\", \"2020-12-25T00:00:00\", \"2020-12-25T00:00:00\", \"2020-12-26T00:00:00\", \"2020-12-27T00:00:00\", \"2020-12-28T00:00:00\", \"2020-12-28T00:00:00\", \"2020-12-28T00:00:00\", \"2020-12-28T00:00:00\", \"2020-12-28T00:00:00\", \"2020-12-28T00:00:00\", \"2020-12-28T00:00:00\", \"2020-12-28T00:00:00\", \"2020-12-28T00:00:00\", \"2020-12-28T00:00:00\", \"2020-12-28T00:00:00\", \"2020-12-29T00:00:00\", \"2020-12-29T00:00:00\", \"2020-12-29T00:00:00\", \"2020-12-29T00:00:00\", \"2020-12-29T00:00:00\", \"2020-12-29T00:00:00\", \"2020-12-29T00:00:00\", \"2020-12-29T00:00:00\", \"2020-12-29T00:00:00\", \"2020-12-29T00:00:00\", \"2021-01-03T00:00:00\", \"2021-01-03T00:00:00\", \"2021-01-03T00:00:00\", \"2021-01-03T00:00:00\", \"2021-01-03T00:00:00\", \"2021-01-04T00:00:00\", \"2021-01-04T00:00:00\", \"2021-01-04T00:00:00\", \"2021-01-04T00:00:00\", \"2021-01-04T00:00:00\", \"2021-01-04T00:00:00\", \"2021-01-04T00:00:00\", \"2021-01-04T00:00:00\", \"2021-01-04T00:00:00\", \"2021-01-04T00:00:00\", \"2021-01-04T00:00:00\", \"2021-01-04T00:00:00\", \"2021-01-05T00:00:00\", \"2021-01-05T00:00:00\", \"2021-01-05T00:00:00\", \"2021-01-05T00:00:00\", \"2021-01-05T00:00:00\", \"2021-01-05T00:00:00\", \"2021-01-05T00:00:00\", \"2021-01-05T00:00:00\", \"2021-01-05T00:00:00\", \"2021-01-05T00:00:00\", \"2021-01-06T00:00:00\", \"2021-01-06T00:00:00\", \"2021-01-06T00:00:00\", \"2021-01-06T00:00:00\", \"2021-01-06T00:00:00\", \"2021-01-06T00:00:00\", \"2021-01-06T00:00:00\", \"2021-01-06T00:00:00\", \"2021-01-06T00:00:00\", \"2021-01-08T00:00:00\", \"2021-01-08T00:00:00\", \"2021-01-08T00:00:00\", \"2021-01-08T00:00:00\", \"2021-01-08T00:00:00\", \"2021-01-08T00:00:00\", \"2021-01-08T00:00:00\", \"2021-01-09T00:00:00\", \"2021-01-09T00:00:00\", \"2021-01-09T00:00:00\", \"2021-01-09T00:00:00\", \"2021-01-09T00:00:00\", \"2021-01-09T00:00:00\", \"2021-01-09T00:00:00\", \"2021-01-09T00:00:00\", \"2021-01-09T00:00:00\", \"2021-01-09T00:00:00\", \"2021-01-09T00:00:00\", \"2021-01-11T00:00:00\", \"2021-01-11T00:00:00\", \"2021-01-11T00:00:00\", \"2021-01-11T00:00:00\", \"2021-01-11T00:00:00\", \"2021-01-11T00:00:00\", \"2021-01-11T00:00:00\", \"2021-01-11T00:00:00\", \"2021-01-11T00:00:00\", \"2021-01-11T00:00:00\", \"2021-01-11T00:00:00\", \"2021-01-11T00:00:00\", \"2021-01-11T00:00:00\", \"2021-01-11T00:00:00\", \"2021-01-11T00:00:00\", \"2021-01-12T00:00:00\", \"2021-01-12T00:00:00\", \"2021-01-12T00:00:00\", \"2021-01-12T00:00:00\", \"2021-01-12T00:00:00\", \"2021-01-12T00:00:00\", \"2021-01-12T00:00:00\", \"2021-01-12T00:00:00\", \"2021-01-12T00:00:00\", \"2021-01-12T00:00:00\", \"2021-01-12T00:00:00\", \"2021-01-12T00:00:00\", \"2021-01-12T00:00:00\", \"2021-01-12T00:00:00\", \"2021-01-13T00:00:00\", \"2021-01-13T00:00:00\", \"2021-01-13T00:00:00\", \"2021-01-13T00:00:00\", \"2021-01-13T00:00:00\", \"2021-01-13T00:00:00\", \"2021-01-13T00:00:00\", \"2021-01-13T00:00:00\", \"2021-01-13T00:00:00\", \"2021-01-13T00:00:00\", \"2021-01-13T00:00:00\", \"2021-01-13T00:00:00\", \"2021-01-13T00:00:00\", \"2021-01-13T00:00:00\", \"2021-01-14T00:00:00\", \"2021-01-14T00:00:00\", \"2021-01-14T00:00:00\", \"2021-01-14T00:00:00\", \"2021-01-14T00:00:00\", \"2021-01-14T00:00:00\", \"2021-01-14T00:00:00\", \"2021-01-14T00:00:00\", \"2021-01-14T00:00:00\", \"2021-01-14T00:00:00\", \"2021-01-14T00:00:00\", \"2021-01-14T00:00:00\", \"2021-01-14T00:00:00\", \"2021-01-14T00:00:00\", \"2021-01-14T00:00:00\", \"2021-01-14T00:00:00\", \"2021-01-15T00:00:00\"], \"xaxis\": \"x\", \"y\": [2.0, 9.0, 43.0, 3.0, 38.0, 15.0, 12.0, 19.0, 38.0, 6.0, 20.0, 12.0, 28.0, 9.0, 32.0, 35.0, 22.0, 60.0, 7.0, 27.0, 6.0, 7.0, 5.0, 7.0, 6.0, 50.0, 7.0, 61.0, 49.0, 53.0, 18.0, 25.0, 3.0, 2.0, 4.0, 4.0, 12.0, 28.0, 6.0, 36.0, 20.0, 29.0, 20.0, 38.0, 3.0, 13.0, 10.0, 12.0, 13.0, 4.0, 7.0, 6.0, 47.0, 18.0, 66.0, 8.0, 61.0, 8.0, 32.0, 1.0, 10.0, 44.0, 25.0, 7.0, 4.0, 4.0, 23.0, 5.0, 6.0, 52.0, 13.0, 38.0, 33.0, 79.0, 23.0, 48.0, 11.0, 7.0, 6.0, 11.0, 4.0, 2.0, 15.0, 11.0, 2.0, 17.0, 25.0, 23.0, 28.0, 2.0, 7.0, 12.0, 2.0, 4.0, 4.0, 2.0, 7.0, 7.0, 12.0, 3.0, 16.0, 20.0, 15.0, 5.0, 5.0, 6.0, 3.0, 1.0, 7.0, 2.0, 2.0, 2.0, 15.0, 7.0, 8.0, 3.0, 3.0, 4.0, 10.0, 2.0, 2.0, 1.0, 4.0, 7.0, 3.0, 4.0, 2.0, 5.0, 13.0, 11.0, 9.0, 8.0, 1.0, 5.0, 6.0, 16.0, 21.0, 2.0, 4.0, 5.0, 12.0, 3.0, 6.0, 24.0, 1.0, 21.0, 36.0, 3.0, 14.0, 2.0, 3.0, 10.0, 6.0, 3.0, 10.0, 36.0, 38.0, 5.0, 5.0, 18.0, 6.0, 2.0, 7.0, 11.0, 4.0, 2.0, 2.0, 2.0, 13.0, 1.0, 22.0, 26.0, 35.0, 5.0, 37.0, 50.0, 33.0, 19.0, 27.0, 27.0, 14.0, 38.0, 5.0, 11.0, 30.0, 9.0, 8.0, 40.0, 23.0, 41.0, 18.0, 36.0, 19.0, 25.0, 6.0, 14.0, 11.0, 7.0, 32.0, 4.0, 13.0, 32.0, 21.0, 9.0, 43.0, 15.0, 32.0, 12.0, 47.0, 21.0, 20.0, 3.0, 12.0, 28.0, 6.0, 58.0, 25.0, 41.0, 69.0, 9.0, 23.0, 35.0, 23.0, 5.0, 31.0, 14.0, 2.0, 14.0, 12.0, 4.0, 2.0, 3.0], \"yaxis\": \"y\"}],                        {\"coloraxis\": {\"colorbar\": {\"title\": {\"text\": \"\\u041f\\u0440\\u0438\\u043e\\u0440\\u0438\\u0442\\u0435\\u0442\"}}, \"colorscale\": [[0.0, \"#0d0887\"], [0.1111111111111111, \"#46039f\"], [0.2222222222222222, \"#7201a8\"], [0.3333333333333333, \"#9c179e\"], [0.4444444444444444, \"#bd3786\"], [0.5555555555555556, \"#d8576b\"], [0.6666666666666666, \"#ed7953\"], [0.7777777777777778, \"#fb9f3a\"], [0.8888888888888888, \"#fdca26\"], [1.0, \"#f0f921\"]]}, \"legend\": {\"itemsizing\": \"constant\", \"tracegroupgap\": 0}, \"template\": {\"data\": {\"bar\": [{\"error_x\": {\"color\": \"#2a3f5f\"}, \"error_y\": {\"color\": \"#2a3f5f\"}, \"marker\": {\"line\": {\"color\": \"#E5ECF6\", \"width\": 0.5}}, \"type\": \"bar\"}], \"barpolar\": [{\"marker\": {\"line\": {\"color\": \"#E5ECF6\", \"width\": 0.5}}, \"type\": \"barpolar\"}], \"carpet\": [{\"aaxis\": {\"endlinecolor\": \"#2a3f5f\", \"gridcolor\": \"white\", \"linecolor\": \"white\", \"minorgridcolor\": \"white\", \"startlinecolor\": \"#2a3f5f\"}, \"baxis\": {\"endlinecolor\": \"#2a3f5f\", \"gridcolor\": \"white\", \"linecolor\": \"white\", \"minorgridcolor\": \"white\", \"startlinecolor\": \"#2a3f5f\"}, \"type\": \"carpet\"}], \"choropleth\": [{\"colorbar\": {\"outlinewidth\": 0, \"ticks\": \"\"}, \"type\": \"choropleth\"}], \"contour\": [{\"colorbar\": {\"outlinewidth\": 0, \"ticks\": \"\"}, \"colorscale\": [[0.0, \"#0d0887\"], [0.1111111111111111, \"#46039f\"], [0.2222222222222222, \"#7201a8\"], [0.3333333333333333, \"#9c179e\"], [0.4444444444444444, \"#bd3786\"], [0.5555555555555556, \"#d8576b\"], [0.6666666666666666, \"#ed7953\"], [0.7777777777777778, \"#fb9f3a\"], [0.8888888888888888, \"#fdca26\"], [1.0, \"#f0f921\"]], \"type\": \"contour\"}], \"contourcarpet\": [{\"colorbar\": {\"outlinewidth\": 0, \"ticks\": \"\"}, \"type\": \"contourcarpet\"}], \"heatmap\": [{\"colorbar\": {\"outlinewidth\": 0, \"ticks\": \"\"}, \"colorscale\": [[0.0, \"#0d0887\"], [0.1111111111111111, \"#46039f\"], [0.2222222222222222, \"#7201a8\"], [0.3333333333333333, \"#9c179e\"], [0.4444444444444444, \"#bd3786\"], [0.5555555555555556, \"#d8576b\"], [0.6666666666666666, \"#ed7953\"], [0.7777777777777778, \"#fb9f3a\"], [0.8888888888888888, \"#fdca26\"], [1.0, \"#f0f921\"]], \"type\": \"heatmap\"}], \"heatmapgl\": [{\"colorbar\": {\"outlinewidth\": 0, \"ticks\": \"\"}, \"colorscale\": [[0.0, \"#0d0887\"], [0.1111111111111111, \"#46039f\"], [0.2222222222222222, \"#7201a8\"], [0.3333333333333333, \"#9c179e\"], [0.4444444444444444, \"#bd3786\"], [0.5555555555555556, \"#d8576b\"], [0.6666666666666666, \"#ed7953\"], [0.7777777777777778, \"#fb9f3a\"], [0.8888888888888888, \"#fdca26\"], [1.0, \"#f0f921\"]], \"type\": \"heatmapgl\"}], \"histogram\": [{\"marker\": {\"colorbar\": {\"outlinewidth\": 0, \"ticks\": \"\"}}, \"type\": \"histogram\"}], \"histogram2d\": [{\"colorbar\": {\"outlinewidth\": 0, \"ticks\": \"\"}, \"colorscale\": [[0.0, \"#0d0887\"], [0.1111111111111111, \"#46039f\"], [0.2222222222222222, \"#7201a8\"], [0.3333333333333333, \"#9c179e\"], [0.4444444444444444, \"#bd3786\"], [0.5555555555555556, \"#d8576b\"], [0.6666666666666666, \"#ed7953\"], [0.7777777777777778, \"#fb9f3a\"], [0.8888888888888888, \"#fdca26\"], [1.0, \"#f0f921\"]], \"type\": \"histogram2d\"}], \"histogram2dcontour\": [{\"colorbar\": {\"outlinewidth\": 0, \"ticks\": \"\"}, \"colorscale\": [[0.0, \"#0d0887\"], [0.1111111111111111, \"#46039f\"], [0.2222222222222222, \"#7201a8\"], [0.3333333333333333, \"#9c179e\"], [0.4444444444444444, \"#bd3786\"], [0.5555555555555556, \"#d8576b\"], [0.6666666666666666, \"#ed7953\"], [0.7777777777777778, \"#fb9f3a\"], [0.8888888888888888, \"#fdca26\"], [1.0, \"#f0f921\"]], \"type\": \"histogram2dcontour\"}], \"mesh3d\": [{\"colorbar\": {\"outlinewidth\": 0, \"ticks\": \"\"}, \"type\": \"mesh3d\"}], \"parcoords\": [{\"line\": {\"colorbar\": {\"outlinewidth\": 0, \"ticks\": \"\"}}, \"type\": \"parcoords\"}], \"pie\": [{\"automargin\": true, \"type\": \"pie\"}], \"scatter\": [{\"marker\": {\"colorbar\": {\"outlinewidth\": 0, \"ticks\": \"\"}}, \"type\": \"scatter\"}], \"scatter3d\": [{\"line\": {\"colorbar\": {\"outlinewidth\": 0, \"ticks\": \"\"}}, \"marker\": {\"colorbar\": {\"outlinewidth\": 0, \"ticks\": \"\"}}, \"type\": \"scatter3d\"}], \"scattercarpet\": [{\"marker\": {\"colorbar\": {\"outlinewidth\": 0, \"ticks\": \"\"}}, \"type\": \"scattercarpet\"}], \"scattergeo\": [{\"marker\": {\"colorbar\": {\"outlinewidth\": 0, \"ticks\": \"\"}}, \"type\": \"scattergeo\"}], \"scattergl\": [{\"marker\": {\"colorbar\": {\"outlinewidth\": 0, \"ticks\": \"\"}}, \"type\": \"scattergl\"}], \"scattermapbox\": [{\"marker\": {\"colorbar\": {\"outlinewidth\": 0, \"ticks\": \"\"}}, \"type\": \"scattermapbox\"}], \"scatterpolar\": [{\"marker\": {\"colorbar\": {\"outlinewidth\": 0, \"ticks\": \"\"}}, \"type\": \"scatterpolar\"}], \"scatterpolargl\": [{\"marker\": {\"colorbar\": {\"outlinewidth\": 0, \"ticks\": \"\"}}, \"type\": \"scatterpolargl\"}], \"scatterternary\": [{\"marker\": {\"colorbar\": {\"outlinewidth\": 0, \"ticks\": \"\"}}, \"type\": \"scatterternary\"}], \"surface\": [{\"colorbar\": {\"outlinewidth\": 0, \"ticks\": \"\"}, \"colorscale\": [[0.0, \"#0d0887\"], [0.1111111111111111, \"#46039f\"], [0.2222222222222222, \"#7201a8\"], [0.3333333333333333, \"#9c179e\"], [0.4444444444444444, \"#bd3786\"], [0.5555555555555556, \"#d8576b\"], [0.6666666666666666, \"#ed7953\"], [0.7777777777777778, \"#fb9f3a\"], [0.8888888888888888, \"#fdca26\"], [1.0, \"#f0f921\"]], \"type\": \"surface\"}], \"table\": [{\"cells\": {\"fill\": {\"color\": \"#EBF0F8\"}, \"line\": {\"color\": \"white\"}}, \"header\": {\"fill\": {\"color\": \"#C8D4E3\"}, \"line\": {\"color\": \"white\"}}, \"type\": \"table\"}]}, \"layout\": {\"annotationdefaults\": {\"arrowcolor\": \"#2a3f5f\", \"arrowhead\": 0, \"arrowwidth\": 1}, \"autotypenumbers\": \"strict\", \"coloraxis\": {\"colorbar\": {\"outlinewidth\": 0, \"ticks\": \"\"}}, \"colorscale\": {\"diverging\": [[0, \"#8e0152\"], [0.1, \"#c51b7d\"], [0.2, \"#de77ae\"], [0.3, \"#f1b6da\"], [0.4, \"#fde0ef\"], [0.5, \"#f7f7f7\"], [0.6, \"#e6f5d0\"], [0.7, \"#b8e186\"], [0.8, \"#7fbc41\"], [0.9, \"#4d9221\"], [1, \"#276419\"]], \"sequential\": [[0.0, \"#0d0887\"], [0.1111111111111111, \"#46039f\"], [0.2222222222222222, \"#7201a8\"], [0.3333333333333333, \"#9c179e\"], [0.4444444444444444, \"#bd3786\"], [0.5555555555555556, \"#d8576b\"], [0.6666666666666666, \"#ed7953\"], [0.7777777777777778, \"#fb9f3a\"], [0.8888888888888888, \"#fdca26\"], [1.0, \"#f0f921\"]], \"sequentialminus\": [[0.0, \"#0d0887\"], [0.1111111111111111, \"#46039f\"], [0.2222222222222222, \"#7201a8\"], [0.3333333333333333, \"#9c179e\"], [0.4444444444444444, \"#bd3786\"], [0.5555555555555556, \"#d8576b\"], [0.6666666666666666, \"#ed7953\"], [0.7777777777777778, \"#fb9f3a\"], [0.8888888888888888, \"#fdca26\"], [1.0, \"#f0f921\"]]}, \"colorway\": [\"#636efa\", \"#EF553B\", \"#00cc96\", \"#ab63fa\", \"#FFA15A\", \"#19d3f3\", \"#FF6692\", \"#B6E880\", \"#FF97FF\", \"#FECB52\"], \"font\": {\"color\": \"#2a3f5f\"}, \"geo\": {\"bgcolor\": \"white\", \"lakecolor\": \"white\", \"landcolor\": \"#E5ECF6\", \"showlakes\": true, \"showland\": true, \"subunitcolor\": \"white\"}, \"hoverlabel\": {\"align\": \"left\"}, \"hovermode\": \"closest\", \"mapbox\": {\"style\": \"light\"}, \"paper_bgcolor\": \"white\", \"plot_bgcolor\": \"#E5ECF6\", \"polar\": {\"angularaxis\": {\"gridcolor\": \"white\", \"linecolor\": \"white\", \"ticks\": \"\"}, \"bgcolor\": \"#E5ECF6\", \"radialaxis\": {\"gridcolor\": \"white\", \"linecolor\": \"white\", \"ticks\": \"\"}}, \"scene\": {\"xaxis\": {\"backgroundcolor\": \"#E5ECF6\", \"gridcolor\": \"white\", \"gridwidth\": 2, \"linecolor\": \"white\", \"showbackground\": true, \"ticks\": \"\", \"zerolinecolor\": \"white\"}, \"yaxis\": {\"backgroundcolor\": \"#E5ECF6\", \"gridcolor\": \"white\", \"gridwidth\": 2, \"linecolor\": \"white\", \"showbackground\": true, \"ticks\": \"\", \"zerolinecolor\": \"white\"}, \"zaxis\": {\"backgroundcolor\": \"#E5ECF6\", \"gridcolor\": \"white\", \"gridwidth\": 2, \"linecolor\": \"white\", \"showbackground\": true, \"ticks\": \"\", \"zerolinecolor\": \"white\"}}, \"shapedefaults\": {\"line\": {\"color\": \"#2a3f5f\"}}, \"ternary\": {\"aaxis\": {\"gridcolor\": \"white\", \"linecolor\": \"white\", \"ticks\": \"\"}, \"baxis\": {\"gridcolor\": \"white\", \"linecolor\": \"white\", \"ticks\": \"\"}, \"bgcolor\": \"#E5ECF6\", \"caxis\": {\"gridcolor\": \"white\", \"linecolor\": \"white\", \"ticks\": \"\"}}, \"title\": {\"x\": 0.05}, \"xaxis\": {\"automargin\": true, \"gridcolor\": \"white\", \"linecolor\": \"white\", \"ticks\": \"\", \"title\": {\"standoff\": 15}, \"zerolinecolor\": \"white\", \"zerolinewidth\": 2}, \"yaxis\": {\"automargin\": true, \"gridcolor\": \"white\", \"linecolor\": \"white\", \"ticks\": \"\", \"title\": {\"standoff\": 15}, \"zerolinecolor\": \"white\", \"zerolinewidth\": 2}}}, \"title\": {\"text\": \"\\u041d\\u0430\\u043f\\u0440\\u0430\\u0432\\u043b\\u0435\\u043d\\u043d\\u044b\\u0435 \\u043e\\u0442 \\u041e\\u041f \\u043f\\u043e \\u0440\\u0435\\u0433\\u0438\\u043e\\u043d\\u0430\\u043c\"}, \"xaxis\": {\"anchor\": \"y\", \"domain\": [0.0, 1.0], \"title\": {\"text\": \"\\u0422\\u0435\\u043b\\u0435\\u0444\\u043e\\u043d\\u043d\\u043e\\u0435 \\u0438\\u043d\\u0442\\u0435\\u0440\\u0432\\u044c\\u044e (\\u0447\\u0438\\u0441\\u043b\\u043e)\"}}, \"yaxis\": {\"anchor\": \"x\", \"domain\": [0.0, 1.0], \"title\": {\"text\": \"\\u041a\\u043e\\u043b\\u0438\\u0447\\u0435\\u0441\\u0442\\u0432\\u043e \\u0432 \\u0437\\u0430\\u044f\\u0432\\u043a\\u0435\"}}},                        {\"responsive\": true}                    ).then(function(){\n",
       "                            \n",
       "var gd = document.getElementById('1a47f4cf-f7dd-4d5a-8359-db01b9a731e3');\n",
       "var x = new MutationObserver(function (mutations, observer) {{\n",
       "        var display = window.getComputedStyle(gd).display;\n",
       "        if (!display || display === 'none') {{\n",
       "            console.log([gd, 'removed!']);\n",
       "            Plotly.purge(gd);\n",
       "            observer.disconnect();\n",
       "        }}\n",
       "}});\n",
       "\n",
       "// Listen for the removal of the full notebook cells\n",
       "var notebookContainer = gd.closest('#notebook-container');\n",
       "if (notebookContainer) {{\n",
       "    x.observe(notebookContainer, {childList: true});\n",
       "}}\n",
       "\n",
       "// Listen for the clearing of the current output cell\n",
       "var outputEl = gd.closest('.output');\n",
       "if (outputEl) {{\n",
       "    x.observe(outputEl, {childList: true});\n",
       "}}\n",
       "\n",
       "                        })                };                });            </script>        </div>"
      ]
     },
     "metadata": {},
     "output_type": "display_data"
    }
   ],
   "source": [
    "# Визуализация данных за все время\n",
    "\n",
    "df = px.data.gapminder()\n",
    "\n",
    "fig = px.scatter(all_groupped, \n",
    "                 x='Телефонное интервью (число)', \n",
    "                 y=\"Количество в заявке\", \n",
    "                 size=\"направлено от ОП\", \n",
    "                 color=\"Приоритет\",\n",
    "                 hover_name=\"регион\", \n",
    "                 title=f\"Направленные от ОП по регионам\")\n",
    "fig.show()"
   ]
  },
  {
   "cell_type": "code",
   "execution_count": 53,
   "metadata": {},
   "outputs": [],
   "source": [
    "# Выбираем нужный день\n",
    "day = '2021-01-14'\n",
    "for_day = all_groupped[all_groupped['Телефонное интервью (число)'] == day]"
   ]
  },
  {
   "cell_type": "code",
   "execution_count": 54,
   "metadata": {},
   "outputs": [
    {
     "data": {
      "application/vnd.plotly.v1+json": {
       "config": {
        "plotlyServerURL": "https://plot.ly"
       },
       "data": [
        {
         "hovertemplate": "<b>%{hovertext}</b><br><br>регион=%{x}<br>Количество в заявке=%{y}<br>направлено от ОП=%{marker.size}<br>Приоритет=%{marker.color}<extra></extra>",
         "hovertext": [
          "Евразия",
          "Евразия",
          "Евразия",
          "Евразия",
          "Евразия",
          "ММО",
          "ММО",
          "ММО",
          "ММО",
          "ММО",
          "ММО",
          "Центральная Россия",
          "Центральная Россия",
          "Центральная Россия",
          "Центральная Россия",
          "Центральная Россия"
         ],
         "legendgroup": "",
         "marker": {
          "color": [
           7,
           0,
           0,
           0,
           2,
           0,
           0,
           0,
           0,
           0,
           0,
           2,
           2,
           4,
           0,
           0
          ],
          "coloraxis": "coloraxis",
          "size": [
           12,
           5,
           10,
           24,
           4,
           9,
           12,
           5,
           2,
           7,
           7,
           2,
           2,
           4,
           1,
           1
          ],
          "sizemode": "area",
          "sizeref": 0.06,
          "symbol": "circle"
         },
         "mode": "markers",
         "name": "",
         "orientation": "v",
         "showlegend": false,
         "type": "scatter",
         "x": [
          "NWEST NORTH",
          "NWEST SOUTH",
          "SYBER",
          "URALS NORTH",
          "URALS SOUTH",
          "MSK MO NO-EAST",
          "MSK MO NORTH",
          "MSK MO SO-EAST",
          "MSK MO SO-WEST",
          "MSK MO SOUTH",
          "MSK MO WEST",
          "CENTR",
          "DON",
          "SOUTH",
          "TATARSTAN",
          "VOLGA"
         ],
         "xaxis": "x",
         "y": [
          58,
          25,
          41,
          69,
          9,
          23,
          35,
          23,
          5,
          31,
          14,
          2,
          14,
          12,
          4,
          2
         ],
         "yaxis": "y"
        }
       ],
       "layout": {
        "coloraxis": {
         "colorbar": {
          "title": {
           "text": "Приоритет"
          }
         },
         "colorscale": [
          [
           0,
           "#0d0887"
          ],
          [
           0.1111111111111111,
           "#46039f"
          ],
          [
           0.2222222222222222,
           "#7201a8"
          ],
          [
           0.3333333333333333,
           "#9c179e"
          ],
          [
           0.4444444444444444,
           "#bd3786"
          ],
          [
           0.5555555555555556,
           "#d8576b"
          ],
          [
           0.6666666666666666,
           "#ed7953"
          ],
          [
           0.7777777777777778,
           "#fb9f3a"
          ],
          [
           0.8888888888888888,
           "#fdca26"
          ],
          [
           1,
           "#f0f921"
          ]
         ]
        },
        "legend": {
         "itemsizing": "constant",
         "tracegroupgap": 0
        },
        "template": {
         "data": {
          "bar": [
           {
            "error_x": {
             "color": "#2a3f5f"
            },
            "error_y": {
             "color": "#2a3f5f"
            },
            "marker": {
             "line": {
              "color": "#E5ECF6",
              "width": 0.5
             }
            },
            "type": "bar"
           }
          ],
          "barpolar": [
           {
            "marker": {
             "line": {
              "color": "#E5ECF6",
              "width": 0.5
             }
            },
            "type": "barpolar"
           }
          ],
          "carpet": [
           {
            "aaxis": {
             "endlinecolor": "#2a3f5f",
             "gridcolor": "white",
             "linecolor": "white",
             "minorgridcolor": "white",
             "startlinecolor": "#2a3f5f"
            },
            "baxis": {
             "endlinecolor": "#2a3f5f",
             "gridcolor": "white",
             "linecolor": "white",
             "minorgridcolor": "white",
             "startlinecolor": "#2a3f5f"
            },
            "type": "carpet"
           }
          ],
          "choropleth": [
           {
            "colorbar": {
             "outlinewidth": 0,
             "ticks": ""
            },
            "type": "choropleth"
           }
          ],
          "contour": [
           {
            "colorbar": {
             "outlinewidth": 0,
             "ticks": ""
            },
            "colorscale": [
             [
              0,
              "#0d0887"
             ],
             [
              0.1111111111111111,
              "#46039f"
             ],
             [
              0.2222222222222222,
              "#7201a8"
             ],
             [
              0.3333333333333333,
              "#9c179e"
             ],
             [
              0.4444444444444444,
              "#bd3786"
             ],
             [
              0.5555555555555556,
              "#d8576b"
             ],
             [
              0.6666666666666666,
              "#ed7953"
             ],
             [
              0.7777777777777778,
              "#fb9f3a"
             ],
             [
              0.8888888888888888,
              "#fdca26"
             ],
             [
              1,
              "#f0f921"
             ]
            ],
            "type": "contour"
           }
          ],
          "contourcarpet": [
           {
            "colorbar": {
             "outlinewidth": 0,
             "ticks": ""
            },
            "type": "contourcarpet"
           }
          ],
          "heatmap": [
           {
            "colorbar": {
             "outlinewidth": 0,
             "ticks": ""
            },
            "colorscale": [
             [
              0,
              "#0d0887"
             ],
             [
              0.1111111111111111,
              "#46039f"
             ],
             [
              0.2222222222222222,
              "#7201a8"
             ],
             [
              0.3333333333333333,
              "#9c179e"
             ],
             [
              0.4444444444444444,
              "#bd3786"
             ],
             [
              0.5555555555555556,
              "#d8576b"
             ],
             [
              0.6666666666666666,
              "#ed7953"
             ],
             [
              0.7777777777777778,
              "#fb9f3a"
             ],
             [
              0.8888888888888888,
              "#fdca26"
             ],
             [
              1,
              "#f0f921"
             ]
            ],
            "type": "heatmap"
           }
          ],
          "heatmapgl": [
           {
            "colorbar": {
             "outlinewidth": 0,
             "ticks": ""
            },
            "colorscale": [
             [
              0,
              "#0d0887"
             ],
             [
              0.1111111111111111,
              "#46039f"
             ],
             [
              0.2222222222222222,
              "#7201a8"
             ],
             [
              0.3333333333333333,
              "#9c179e"
             ],
             [
              0.4444444444444444,
              "#bd3786"
             ],
             [
              0.5555555555555556,
              "#d8576b"
             ],
             [
              0.6666666666666666,
              "#ed7953"
             ],
             [
              0.7777777777777778,
              "#fb9f3a"
             ],
             [
              0.8888888888888888,
              "#fdca26"
             ],
             [
              1,
              "#f0f921"
             ]
            ],
            "type": "heatmapgl"
           }
          ],
          "histogram": [
           {
            "marker": {
             "colorbar": {
              "outlinewidth": 0,
              "ticks": ""
             }
            },
            "type": "histogram"
           }
          ],
          "histogram2d": [
           {
            "colorbar": {
             "outlinewidth": 0,
             "ticks": ""
            },
            "colorscale": [
             [
              0,
              "#0d0887"
             ],
             [
              0.1111111111111111,
              "#46039f"
             ],
             [
              0.2222222222222222,
              "#7201a8"
             ],
             [
              0.3333333333333333,
              "#9c179e"
             ],
             [
              0.4444444444444444,
              "#bd3786"
             ],
             [
              0.5555555555555556,
              "#d8576b"
             ],
             [
              0.6666666666666666,
              "#ed7953"
             ],
             [
              0.7777777777777778,
              "#fb9f3a"
             ],
             [
              0.8888888888888888,
              "#fdca26"
             ],
             [
              1,
              "#f0f921"
             ]
            ],
            "type": "histogram2d"
           }
          ],
          "histogram2dcontour": [
           {
            "colorbar": {
             "outlinewidth": 0,
             "ticks": ""
            },
            "colorscale": [
             [
              0,
              "#0d0887"
             ],
             [
              0.1111111111111111,
              "#46039f"
             ],
             [
              0.2222222222222222,
              "#7201a8"
             ],
             [
              0.3333333333333333,
              "#9c179e"
             ],
             [
              0.4444444444444444,
              "#bd3786"
             ],
             [
              0.5555555555555556,
              "#d8576b"
             ],
             [
              0.6666666666666666,
              "#ed7953"
             ],
             [
              0.7777777777777778,
              "#fb9f3a"
             ],
             [
              0.8888888888888888,
              "#fdca26"
             ],
             [
              1,
              "#f0f921"
             ]
            ],
            "type": "histogram2dcontour"
           }
          ],
          "mesh3d": [
           {
            "colorbar": {
             "outlinewidth": 0,
             "ticks": ""
            },
            "type": "mesh3d"
           }
          ],
          "parcoords": [
           {
            "line": {
             "colorbar": {
              "outlinewidth": 0,
              "ticks": ""
             }
            },
            "type": "parcoords"
           }
          ],
          "pie": [
           {
            "automargin": true,
            "type": "pie"
           }
          ],
          "scatter": [
           {
            "marker": {
             "colorbar": {
              "outlinewidth": 0,
              "ticks": ""
             }
            },
            "type": "scatter"
           }
          ],
          "scatter3d": [
           {
            "line": {
             "colorbar": {
              "outlinewidth": 0,
              "ticks": ""
             }
            },
            "marker": {
             "colorbar": {
              "outlinewidth": 0,
              "ticks": ""
             }
            },
            "type": "scatter3d"
           }
          ],
          "scattercarpet": [
           {
            "marker": {
             "colorbar": {
              "outlinewidth": 0,
              "ticks": ""
             }
            },
            "type": "scattercarpet"
           }
          ],
          "scattergeo": [
           {
            "marker": {
             "colorbar": {
              "outlinewidth": 0,
              "ticks": ""
             }
            },
            "type": "scattergeo"
           }
          ],
          "scattergl": [
           {
            "marker": {
             "colorbar": {
              "outlinewidth": 0,
              "ticks": ""
             }
            },
            "type": "scattergl"
           }
          ],
          "scattermapbox": [
           {
            "marker": {
             "colorbar": {
              "outlinewidth": 0,
              "ticks": ""
             }
            },
            "type": "scattermapbox"
           }
          ],
          "scatterpolar": [
           {
            "marker": {
             "colorbar": {
              "outlinewidth": 0,
              "ticks": ""
             }
            },
            "type": "scatterpolar"
           }
          ],
          "scatterpolargl": [
           {
            "marker": {
             "colorbar": {
              "outlinewidth": 0,
              "ticks": ""
             }
            },
            "type": "scatterpolargl"
           }
          ],
          "scatterternary": [
           {
            "marker": {
             "colorbar": {
              "outlinewidth": 0,
              "ticks": ""
             }
            },
            "type": "scatterternary"
           }
          ],
          "surface": [
           {
            "colorbar": {
             "outlinewidth": 0,
             "ticks": ""
            },
            "colorscale": [
             [
              0,
              "#0d0887"
             ],
             [
              0.1111111111111111,
              "#46039f"
             ],
             [
              0.2222222222222222,
              "#7201a8"
             ],
             [
              0.3333333333333333,
              "#9c179e"
             ],
             [
              0.4444444444444444,
              "#bd3786"
             ],
             [
              0.5555555555555556,
              "#d8576b"
             ],
             [
              0.6666666666666666,
              "#ed7953"
             ],
             [
              0.7777777777777778,
              "#fb9f3a"
             ],
             [
              0.8888888888888888,
              "#fdca26"
             ],
             [
              1,
              "#f0f921"
             ]
            ],
            "type": "surface"
           }
          ],
          "table": [
           {
            "cells": {
             "fill": {
              "color": "#EBF0F8"
             },
             "line": {
              "color": "white"
             }
            },
            "header": {
             "fill": {
              "color": "#C8D4E3"
             },
             "line": {
              "color": "white"
             }
            },
            "type": "table"
           }
          ]
         },
         "layout": {
          "annotationdefaults": {
           "arrowcolor": "#2a3f5f",
           "arrowhead": 0,
           "arrowwidth": 1
          },
          "autotypenumbers": "strict",
          "coloraxis": {
           "colorbar": {
            "outlinewidth": 0,
            "ticks": ""
           }
          },
          "colorscale": {
           "diverging": [
            [
             0,
             "#8e0152"
            ],
            [
             0.1,
             "#c51b7d"
            ],
            [
             0.2,
             "#de77ae"
            ],
            [
             0.3,
             "#f1b6da"
            ],
            [
             0.4,
             "#fde0ef"
            ],
            [
             0.5,
             "#f7f7f7"
            ],
            [
             0.6,
             "#e6f5d0"
            ],
            [
             0.7,
             "#b8e186"
            ],
            [
             0.8,
             "#7fbc41"
            ],
            [
             0.9,
             "#4d9221"
            ],
            [
             1,
             "#276419"
            ]
           ],
           "sequential": [
            [
             0,
             "#0d0887"
            ],
            [
             0.1111111111111111,
             "#46039f"
            ],
            [
             0.2222222222222222,
             "#7201a8"
            ],
            [
             0.3333333333333333,
             "#9c179e"
            ],
            [
             0.4444444444444444,
             "#bd3786"
            ],
            [
             0.5555555555555556,
             "#d8576b"
            ],
            [
             0.6666666666666666,
             "#ed7953"
            ],
            [
             0.7777777777777778,
             "#fb9f3a"
            ],
            [
             0.8888888888888888,
             "#fdca26"
            ],
            [
             1,
             "#f0f921"
            ]
           ],
           "sequentialminus": [
            [
             0,
             "#0d0887"
            ],
            [
             0.1111111111111111,
             "#46039f"
            ],
            [
             0.2222222222222222,
             "#7201a8"
            ],
            [
             0.3333333333333333,
             "#9c179e"
            ],
            [
             0.4444444444444444,
             "#bd3786"
            ],
            [
             0.5555555555555556,
             "#d8576b"
            ],
            [
             0.6666666666666666,
             "#ed7953"
            ],
            [
             0.7777777777777778,
             "#fb9f3a"
            ],
            [
             0.8888888888888888,
             "#fdca26"
            ],
            [
             1,
             "#f0f921"
            ]
           ]
          },
          "colorway": [
           "#636efa",
           "#EF553B",
           "#00cc96",
           "#ab63fa",
           "#FFA15A",
           "#19d3f3",
           "#FF6692",
           "#B6E880",
           "#FF97FF",
           "#FECB52"
          ],
          "font": {
           "color": "#2a3f5f"
          },
          "geo": {
           "bgcolor": "white",
           "lakecolor": "white",
           "landcolor": "#E5ECF6",
           "showlakes": true,
           "showland": true,
           "subunitcolor": "white"
          },
          "hoverlabel": {
           "align": "left"
          },
          "hovermode": "closest",
          "mapbox": {
           "style": "light"
          },
          "paper_bgcolor": "white",
          "plot_bgcolor": "#E5ECF6",
          "polar": {
           "angularaxis": {
            "gridcolor": "white",
            "linecolor": "white",
            "ticks": ""
           },
           "bgcolor": "#E5ECF6",
           "radialaxis": {
            "gridcolor": "white",
            "linecolor": "white",
            "ticks": ""
           }
          },
          "scene": {
           "xaxis": {
            "backgroundcolor": "#E5ECF6",
            "gridcolor": "white",
            "gridwidth": 2,
            "linecolor": "white",
            "showbackground": true,
            "ticks": "",
            "zerolinecolor": "white"
           },
           "yaxis": {
            "backgroundcolor": "#E5ECF6",
            "gridcolor": "white",
            "gridwidth": 2,
            "linecolor": "white",
            "showbackground": true,
            "ticks": "",
            "zerolinecolor": "white"
           },
           "zaxis": {
            "backgroundcolor": "#E5ECF6",
            "gridcolor": "white",
            "gridwidth": 2,
            "linecolor": "white",
            "showbackground": true,
            "ticks": "",
            "zerolinecolor": "white"
           }
          },
          "shapedefaults": {
           "line": {
            "color": "#2a3f5f"
           }
          },
          "ternary": {
           "aaxis": {
            "gridcolor": "white",
            "linecolor": "white",
            "ticks": ""
           },
           "baxis": {
            "gridcolor": "white",
            "linecolor": "white",
            "ticks": ""
           },
           "bgcolor": "#E5ECF6",
           "caxis": {
            "gridcolor": "white",
            "linecolor": "white",
            "ticks": ""
           }
          },
          "title": {
           "x": 0.05
          },
          "xaxis": {
           "automargin": true,
           "gridcolor": "white",
           "linecolor": "white",
           "ticks": "",
           "title": {
            "standoff": 15
           },
           "zerolinecolor": "white",
           "zerolinewidth": 2
          },
          "yaxis": {
           "automargin": true,
           "gridcolor": "white",
           "linecolor": "white",
           "ticks": "",
           "title": {
            "standoff": 15
           },
           "zerolinecolor": "white",
           "zerolinewidth": 2
          }
         }
        },
        "title": {
         "text": "Направленные от ОП по регионам 2021-01-14"
        },
        "xaxis": {
         "anchor": "y",
         "domain": [
          0,
          1
         ],
         "title": {
          "text": "регион"
         }
        },
        "yaxis": {
         "anchor": "x",
         "domain": [
          0,
          1
         ],
         "title": {
          "text": "Количество в заявке"
         }
        }
       }
      },
      "text/html": [
       "<div>                            <div id=\"f5253440-f88b-43f7-823c-66e7ef6fd4d4\" class=\"plotly-graph-div\" style=\"height:525px; width:100%;\"></div>            <script type=\"text/javascript\">                require([\"plotly\"], function(Plotly) {                    window.PLOTLYENV=window.PLOTLYENV || {};                                    if (document.getElementById(\"f5253440-f88b-43f7-823c-66e7ef6fd4d4\")) {                    Plotly.newPlot(                        \"f5253440-f88b-43f7-823c-66e7ef6fd4d4\",                        [{\"hovertemplate\": \"<b>%{hovertext}</b><br><br>\\u0440\\u0435\\u0433\\u0438\\u043e\\u043d=%{x}<br>\\u041a\\u043e\\u043b\\u0438\\u0447\\u0435\\u0441\\u0442\\u0432\\u043e \\u0432 \\u0437\\u0430\\u044f\\u0432\\u043a\\u0435=%{y}<br>\\u043d\\u0430\\u043f\\u0440\\u0430\\u0432\\u043b\\u0435\\u043d\\u043e \\u043e\\u0442 \\u041e\\u041f=%{marker.size}<br>\\u041f\\u0440\\u0438\\u043e\\u0440\\u0438\\u0442\\u0435\\u0442=%{marker.color}<extra></extra>\", \"hovertext\": [\"\\u0415\\u0432\\u0440\\u0430\\u0437\\u0438\\u044f\", \"\\u0415\\u0432\\u0440\\u0430\\u0437\\u0438\\u044f\", \"\\u0415\\u0432\\u0440\\u0430\\u0437\\u0438\\u044f\", \"\\u0415\\u0432\\u0440\\u0430\\u0437\\u0438\\u044f\", \"\\u0415\\u0432\\u0440\\u0430\\u0437\\u0438\\u044f\", \"\\u041c\\u041c\\u041e\", \"\\u041c\\u041c\\u041e\", \"\\u041c\\u041c\\u041e\", \"\\u041c\\u041c\\u041e\", \"\\u041c\\u041c\\u041e\", \"\\u041c\\u041c\\u041e\", \"\\u0426\\u0435\\u043d\\u0442\\u0440\\u0430\\u043b\\u044c\\u043d\\u0430\\u044f \\u0420\\u043e\\u0441\\u0441\\u0438\\u044f\", \"\\u0426\\u0435\\u043d\\u0442\\u0440\\u0430\\u043b\\u044c\\u043d\\u0430\\u044f \\u0420\\u043e\\u0441\\u0441\\u0438\\u044f\", \"\\u0426\\u0435\\u043d\\u0442\\u0440\\u0430\\u043b\\u044c\\u043d\\u0430\\u044f \\u0420\\u043e\\u0441\\u0441\\u0438\\u044f\", \"\\u0426\\u0435\\u043d\\u0442\\u0440\\u0430\\u043b\\u044c\\u043d\\u0430\\u044f \\u0420\\u043e\\u0441\\u0441\\u0438\\u044f\", \"\\u0426\\u0435\\u043d\\u0442\\u0440\\u0430\\u043b\\u044c\\u043d\\u0430\\u044f \\u0420\\u043e\\u0441\\u0441\\u0438\\u044f\"], \"legendgroup\": \"\", \"marker\": {\"color\": [7.0, 0.0, 0.0, 0.0, 2.0, 0.0, 0.0, 0.0, 0.0, 0.0, 0.0, 2.0, 2.0, 4.0, 0.0, 0.0], \"coloraxis\": \"coloraxis\", \"size\": [12, 5, 10, 24, 4, 9, 12, 5, 2, 7, 7, 2, 2, 4, 1, 1], \"sizemode\": \"area\", \"sizeref\": 0.06, \"symbol\": \"circle\"}, \"mode\": \"markers\", \"name\": \"\", \"orientation\": \"v\", \"showlegend\": false, \"type\": \"scatter\", \"x\": [\"NWEST NORTH\", \"NWEST SOUTH\", \"SYBER\", \"URALS NORTH\", \"URALS SOUTH\", \"MSK MO NO-EAST\", \"MSK MO NORTH\", \"MSK MO SO-EAST\", \"MSK MO SO-WEST\", \"MSK MO SOUTH\", \"MSK MO WEST\", \"CENTR\", \"DON\", \"SOUTH\", \"TATARSTAN\", \"VOLGA\"], \"xaxis\": \"x\", \"y\": [58.0, 25.0, 41.0, 69.0, 9.0, 23.0, 35.0, 23.0, 5.0, 31.0, 14.0, 2.0, 14.0, 12.0, 4.0, 2.0], \"yaxis\": \"y\"}],                        {\"coloraxis\": {\"colorbar\": {\"title\": {\"text\": \"\\u041f\\u0440\\u0438\\u043e\\u0440\\u0438\\u0442\\u0435\\u0442\"}}, \"colorscale\": [[0.0, \"#0d0887\"], [0.1111111111111111, \"#46039f\"], [0.2222222222222222, \"#7201a8\"], [0.3333333333333333, \"#9c179e\"], [0.4444444444444444, \"#bd3786\"], [0.5555555555555556, \"#d8576b\"], [0.6666666666666666, \"#ed7953\"], [0.7777777777777778, \"#fb9f3a\"], [0.8888888888888888, \"#fdca26\"], [1.0, \"#f0f921\"]]}, \"legend\": {\"itemsizing\": \"constant\", \"tracegroupgap\": 0}, \"template\": {\"data\": {\"bar\": [{\"error_x\": {\"color\": \"#2a3f5f\"}, \"error_y\": {\"color\": \"#2a3f5f\"}, \"marker\": {\"line\": {\"color\": \"#E5ECF6\", \"width\": 0.5}}, \"type\": \"bar\"}], \"barpolar\": [{\"marker\": {\"line\": {\"color\": \"#E5ECF6\", \"width\": 0.5}}, \"type\": \"barpolar\"}], \"carpet\": [{\"aaxis\": {\"endlinecolor\": \"#2a3f5f\", \"gridcolor\": \"white\", \"linecolor\": \"white\", \"minorgridcolor\": \"white\", \"startlinecolor\": \"#2a3f5f\"}, \"baxis\": {\"endlinecolor\": \"#2a3f5f\", \"gridcolor\": \"white\", \"linecolor\": \"white\", \"minorgridcolor\": \"white\", \"startlinecolor\": \"#2a3f5f\"}, \"type\": \"carpet\"}], \"choropleth\": [{\"colorbar\": {\"outlinewidth\": 0, \"ticks\": \"\"}, \"type\": \"choropleth\"}], \"contour\": [{\"colorbar\": {\"outlinewidth\": 0, \"ticks\": \"\"}, \"colorscale\": [[0.0, \"#0d0887\"], [0.1111111111111111, \"#46039f\"], [0.2222222222222222, \"#7201a8\"], [0.3333333333333333, \"#9c179e\"], [0.4444444444444444, \"#bd3786\"], [0.5555555555555556, \"#d8576b\"], [0.6666666666666666, \"#ed7953\"], [0.7777777777777778, \"#fb9f3a\"], [0.8888888888888888, \"#fdca26\"], [1.0, \"#f0f921\"]], \"type\": \"contour\"}], \"contourcarpet\": [{\"colorbar\": {\"outlinewidth\": 0, \"ticks\": \"\"}, \"type\": \"contourcarpet\"}], \"heatmap\": [{\"colorbar\": {\"outlinewidth\": 0, \"ticks\": \"\"}, \"colorscale\": [[0.0, \"#0d0887\"], [0.1111111111111111, \"#46039f\"], [0.2222222222222222, \"#7201a8\"], [0.3333333333333333, \"#9c179e\"], [0.4444444444444444, \"#bd3786\"], [0.5555555555555556, \"#d8576b\"], [0.6666666666666666, \"#ed7953\"], [0.7777777777777778, \"#fb9f3a\"], [0.8888888888888888, \"#fdca26\"], [1.0, \"#f0f921\"]], \"type\": \"heatmap\"}], \"heatmapgl\": [{\"colorbar\": {\"outlinewidth\": 0, \"ticks\": \"\"}, \"colorscale\": [[0.0, \"#0d0887\"], [0.1111111111111111, \"#46039f\"], [0.2222222222222222, \"#7201a8\"], [0.3333333333333333, \"#9c179e\"], [0.4444444444444444, \"#bd3786\"], [0.5555555555555556, \"#d8576b\"], [0.6666666666666666, \"#ed7953\"], [0.7777777777777778, \"#fb9f3a\"], [0.8888888888888888, \"#fdca26\"], [1.0, \"#f0f921\"]], \"type\": \"heatmapgl\"}], \"histogram\": [{\"marker\": {\"colorbar\": {\"outlinewidth\": 0, \"ticks\": \"\"}}, \"type\": \"histogram\"}], \"histogram2d\": [{\"colorbar\": {\"outlinewidth\": 0, \"ticks\": \"\"}, \"colorscale\": [[0.0, \"#0d0887\"], [0.1111111111111111, \"#46039f\"], [0.2222222222222222, \"#7201a8\"], [0.3333333333333333, \"#9c179e\"], [0.4444444444444444, \"#bd3786\"], [0.5555555555555556, \"#d8576b\"], [0.6666666666666666, \"#ed7953\"], [0.7777777777777778, \"#fb9f3a\"], [0.8888888888888888, \"#fdca26\"], [1.0, \"#f0f921\"]], \"type\": \"histogram2d\"}], \"histogram2dcontour\": [{\"colorbar\": {\"outlinewidth\": 0, \"ticks\": \"\"}, \"colorscale\": [[0.0, \"#0d0887\"], [0.1111111111111111, \"#46039f\"], [0.2222222222222222, \"#7201a8\"], [0.3333333333333333, \"#9c179e\"], [0.4444444444444444, \"#bd3786\"], [0.5555555555555556, \"#d8576b\"], [0.6666666666666666, \"#ed7953\"], [0.7777777777777778, \"#fb9f3a\"], [0.8888888888888888, \"#fdca26\"], [1.0, \"#f0f921\"]], \"type\": \"histogram2dcontour\"}], \"mesh3d\": [{\"colorbar\": {\"outlinewidth\": 0, \"ticks\": \"\"}, \"type\": \"mesh3d\"}], \"parcoords\": [{\"line\": {\"colorbar\": {\"outlinewidth\": 0, \"ticks\": \"\"}}, \"type\": \"parcoords\"}], \"pie\": [{\"automargin\": true, \"type\": \"pie\"}], \"scatter\": [{\"marker\": {\"colorbar\": {\"outlinewidth\": 0, \"ticks\": \"\"}}, \"type\": \"scatter\"}], \"scatter3d\": [{\"line\": {\"colorbar\": {\"outlinewidth\": 0, \"ticks\": \"\"}}, \"marker\": {\"colorbar\": {\"outlinewidth\": 0, \"ticks\": \"\"}}, \"type\": \"scatter3d\"}], \"scattercarpet\": [{\"marker\": {\"colorbar\": {\"outlinewidth\": 0, \"ticks\": \"\"}}, \"type\": \"scattercarpet\"}], \"scattergeo\": [{\"marker\": {\"colorbar\": {\"outlinewidth\": 0, \"ticks\": \"\"}}, \"type\": \"scattergeo\"}], \"scattergl\": [{\"marker\": {\"colorbar\": {\"outlinewidth\": 0, \"ticks\": \"\"}}, \"type\": \"scattergl\"}], \"scattermapbox\": [{\"marker\": {\"colorbar\": {\"outlinewidth\": 0, \"ticks\": \"\"}}, \"type\": \"scattermapbox\"}], \"scatterpolar\": [{\"marker\": {\"colorbar\": {\"outlinewidth\": 0, \"ticks\": \"\"}}, \"type\": \"scatterpolar\"}], \"scatterpolargl\": [{\"marker\": {\"colorbar\": {\"outlinewidth\": 0, \"ticks\": \"\"}}, \"type\": \"scatterpolargl\"}], \"scatterternary\": [{\"marker\": {\"colorbar\": {\"outlinewidth\": 0, \"ticks\": \"\"}}, \"type\": \"scatterternary\"}], \"surface\": [{\"colorbar\": {\"outlinewidth\": 0, \"ticks\": \"\"}, \"colorscale\": [[0.0, \"#0d0887\"], [0.1111111111111111, \"#46039f\"], [0.2222222222222222, \"#7201a8\"], [0.3333333333333333, \"#9c179e\"], [0.4444444444444444, \"#bd3786\"], [0.5555555555555556, \"#d8576b\"], [0.6666666666666666, \"#ed7953\"], [0.7777777777777778, \"#fb9f3a\"], [0.8888888888888888, \"#fdca26\"], [1.0, \"#f0f921\"]], \"type\": \"surface\"}], \"table\": [{\"cells\": {\"fill\": {\"color\": \"#EBF0F8\"}, \"line\": {\"color\": \"white\"}}, \"header\": {\"fill\": {\"color\": \"#C8D4E3\"}, \"line\": {\"color\": \"white\"}}, \"type\": \"table\"}]}, \"layout\": {\"annotationdefaults\": {\"arrowcolor\": \"#2a3f5f\", \"arrowhead\": 0, \"arrowwidth\": 1}, \"autotypenumbers\": \"strict\", \"coloraxis\": {\"colorbar\": {\"outlinewidth\": 0, \"ticks\": \"\"}}, \"colorscale\": {\"diverging\": [[0, \"#8e0152\"], [0.1, \"#c51b7d\"], [0.2, \"#de77ae\"], [0.3, \"#f1b6da\"], [0.4, \"#fde0ef\"], [0.5, \"#f7f7f7\"], [0.6, \"#e6f5d0\"], [0.7, \"#b8e186\"], [0.8, \"#7fbc41\"], [0.9, \"#4d9221\"], [1, \"#276419\"]], \"sequential\": [[0.0, \"#0d0887\"], [0.1111111111111111, \"#46039f\"], [0.2222222222222222, \"#7201a8\"], [0.3333333333333333, \"#9c179e\"], [0.4444444444444444, \"#bd3786\"], [0.5555555555555556, \"#d8576b\"], [0.6666666666666666, \"#ed7953\"], [0.7777777777777778, \"#fb9f3a\"], [0.8888888888888888, \"#fdca26\"], [1.0, \"#f0f921\"]], \"sequentialminus\": [[0.0, \"#0d0887\"], [0.1111111111111111, \"#46039f\"], [0.2222222222222222, \"#7201a8\"], [0.3333333333333333, \"#9c179e\"], [0.4444444444444444, \"#bd3786\"], [0.5555555555555556, \"#d8576b\"], [0.6666666666666666, \"#ed7953\"], [0.7777777777777778, \"#fb9f3a\"], [0.8888888888888888, \"#fdca26\"], [1.0, \"#f0f921\"]]}, \"colorway\": [\"#636efa\", \"#EF553B\", \"#00cc96\", \"#ab63fa\", \"#FFA15A\", \"#19d3f3\", \"#FF6692\", \"#B6E880\", \"#FF97FF\", \"#FECB52\"], \"font\": {\"color\": \"#2a3f5f\"}, \"geo\": {\"bgcolor\": \"white\", \"lakecolor\": \"white\", \"landcolor\": \"#E5ECF6\", \"showlakes\": true, \"showland\": true, \"subunitcolor\": \"white\"}, \"hoverlabel\": {\"align\": \"left\"}, \"hovermode\": \"closest\", \"mapbox\": {\"style\": \"light\"}, \"paper_bgcolor\": \"white\", \"plot_bgcolor\": \"#E5ECF6\", \"polar\": {\"angularaxis\": {\"gridcolor\": \"white\", \"linecolor\": \"white\", \"ticks\": \"\"}, \"bgcolor\": \"#E5ECF6\", \"radialaxis\": {\"gridcolor\": \"white\", \"linecolor\": \"white\", \"ticks\": \"\"}}, \"scene\": {\"xaxis\": {\"backgroundcolor\": \"#E5ECF6\", \"gridcolor\": \"white\", \"gridwidth\": 2, \"linecolor\": \"white\", \"showbackground\": true, \"ticks\": \"\", \"zerolinecolor\": \"white\"}, \"yaxis\": {\"backgroundcolor\": \"#E5ECF6\", \"gridcolor\": \"white\", \"gridwidth\": 2, \"linecolor\": \"white\", \"showbackground\": true, \"ticks\": \"\", \"zerolinecolor\": \"white\"}, \"zaxis\": {\"backgroundcolor\": \"#E5ECF6\", \"gridcolor\": \"white\", \"gridwidth\": 2, \"linecolor\": \"white\", \"showbackground\": true, \"ticks\": \"\", \"zerolinecolor\": \"white\"}}, \"shapedefaults\": {\"line\": {\"color\": \"#2a3f5f\"}}, \"ternary\": {\"aaxis\": {\"gridcolor\": \"white\", \"linecolor\": \"white\", \"ticks\": \"\"}, \"baxis\": {\"gridcolor\": \"white\", \"linecolor\": \"white\", \"ticks\": \"\"}, \"bgcolor\": \"#E5ECF6\", \"caxis\": {\"gridcolor\": \"white\", \"linecolor\": \"white\", \"ticks\": \"\"}}, \"title\": {\"x\": 0.05}, \"xaxis\": {\"automargin\": true, \"gridcolor\": \"white\", \"linecolor\": \"white\", \"ticks\": \"\", \"title\": {\"standoff\": 15}, \"zerolinecolor\": \"white\", \"zerolinewidth\": 2}, \"yaxis\": {\"automargin\": true, \"gridcolor\": \"white\", \"linecolor\": \"white\", \"ticks\": \"\", \"title\": {\"standoff\": 15}, \"zerolinecolor\": \"white\", \"zerolinewidth\": 2}}}, \"title\": {\"text\": \"\\u041d\\u0430\\u043f\\u0440\\u0430\\u0432\\u043b\\u0435\\u043d\\u043d\\u044b\\u0435 \\u043e\\u0442 \\u041e\\u041f \\u043f\\u043e \\u0440\\u0435\\u0433\\u0438\\u043e\\u043d\\u0430\\u043c 2021-01-14\"}, \"xaxis\": {\"anchor\": \"y\", \"domain\": [0.0, 1.0], \"title\": {\"text\": \"\\u0440\\u0435\\u0433\\u0438\\u043e\\u043d\"}}, \"yaxis\": {\"anchor\": \"x\", \"domain\": [0.0, 1.0], \"title\": {\"text\": \"\\u041a\\u043e\\u043b\\u0438\\u0447\\u0435\\u0441\\u0442\\u0432\\u043e \\u0432 \\u0437\\u0430\\u044f\\u0432\\u043a\\u0435\"}}},                        {\"responsive\": true}                    ).then(function(){\n",
       "                            \n",
       "var gd = document.getElementById('f5253440-f88b-43f7-823c-66e7ef6fd4d4');\n",
       "var x = new MutationObserver(function (mutations, observer) {{\n",
       "        var display = window.getComputedStyle(gd).display;\n",
       "        if (!display || display === 'none') {{\n",
       "            console.log([gd, 'removed!']);\n",
       "            Plotly.purge(gd);\n",
       "            observer.disconnect();\n",
       "        }}\n",
       "}});\n",
       "\n",
       "// Listen for the removal of the full notebook cells\n",
       "var notebookContainer = gd.closest('#notebook-container');\n",
       "if (notebookContainer) {{\n",
       "    x.observe(notebookContainer, {childList: true});\n",
       "}}\n",
       "\n",
       "// Listen for the clearing of the current output cell\n",
       "var outputEl = gd.closest('.output');\n",
       "if (outputEl) {{\n",
       "    x.observe(outputEl, {childList: true});\n",
       "}}\n",
       "\n",
       "                        })                };                });            </script>        </div>"
      ]
     },
     "metadata": {},
     "output_type": "display_data"
    }
   ],
   "source": [
    "# Визуализация данных за день\n",
    "df = px.data.gapminder()\n",
    "\n",
    "fig = px.scatter(for_day, x=\"регион\", y=\"Количество в заявке\", size=\"направлено от ОП\", color=\"Приоритет\",\n",
    "                 hover_name='Дивизион', title=f\"Направленные от ОП по регионам {day}\")\n",
    "fig.show()"
   ]
  },
  {
   "cell_type": "code",
   "execution_count": null,
   "metadata": {},
   "outputs": [],
   "source": []
  }
 ],
 "metadata": {
  "kernelspec": {
   "display_name": "Python 3",
   "language": "python",
   "name": "python3"
  },
  "language_info": {
   "codemirror_mode": {
    "name": "ipython",
    "version": 3
   },
   "file_extension": ".py",
   "mimetype": "text/x-python",
   "name": "python",
   "nbconvert_exporter": "python",
   "pygments_lexer": "ipython3",
   "version": "3.8.5"
  }
 },
 "nbformat": 4,
 "nbformat_minor": 4
}
